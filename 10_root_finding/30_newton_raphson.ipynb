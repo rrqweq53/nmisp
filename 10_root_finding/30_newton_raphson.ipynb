{
 "cells": [
  {
   "cell_type": "code",
   "execution_count": null,
   "metadata": {},
   "outputs": [],
   "source": [
    "# 그래프, 수학 기능 추가\n",
    "# Add graph and math features\n",
    "import pylab as py"
   ]
  },
  {
   "cell_type": "markdown",
   "metadata": {},
   "source": [
    "# 뉴튼 랩슨법<br>Newton Rapson Method"
   ]
  },
  {
   "cell_type": "markdown",
   "metadata": {},
   "source": [
    "10의 제곱근을 구하기 위해 사용했던 함수를 생각해 보자.<br>Let's think about the function that we used to find the square root of 10."
   ]
  },
  {
   "cell_type": "markdown",
   "metadata": {},
   "source": [
    "$$\n",
    "f(x)=x^2-10\n",
    "$$"
   ]
  },
  {
   "cell_type": "markdown",
   "metadata": {},
   "source": [
    "이 함수는 연속이고 미분 가능하다.<br>This function is continuous and differentiable."
   ]
  },
  {
   "cell_type": "markdown",
   "metadata": {},
   "source": [
    "$$\n",
    "\\frac{d}{dx}f\\left(x\\right)=2x\n",
    "$$"
   ]
  },
  {
   "cell_type": "code",
   "execution_count": null,
   "metadata": {},
   "outputs": [],
   "source": [
    "# 이 함수를 0으로 만드는 x 를 찾고자 함\n",
    "# Intend to find x making the function below zero\n",
    "def f(x):\n",
    "    return x ** 2 - 10\n",
    "\n",
    "\n",
    "# 위 함수의 x에 대한 미분\n",
    "# x-Derivative of the function above\n",
    "def df_dx(x):\n",
    "    return 2 * x"
   ]
  },
  {
   "cell_type": "code",
   "execution_count": null,
   "metadata": {},
   "outputs": [],
   "source": [
    "epsilon = 1e-3\n",
    "\n",
    "# x 의 범위와 간격을 지정 \n",
    "# Specify range and interval of x\n",
    "x_start = 0\n",
    "x_end = 6\n",
    "x_interval = 0.5\n",
    "\n",
    "\n",
    "def plot(x_start, x_end, x_interval=None):\n",
    "    if x_interval is None:\n",
    "        x_interval = x_end - x_start\n",
    "\n",
    "    # x_start 로 시작하여 x_interval 만큼씩 증가시켜\n",
    "    # x_end+0.1*x_interval 미만 까지 등차수열을 만듦\n",
    "    # Prepare an arithmatic sequence starting from x_start, \n",
    "    # incrementing by x_interval, \n",
    "    # not exceeding x_end+0.1*x_interval\n",
    "    x = py.arange(x_start, x_end+0.1*x_interval, x_interval)\n",
    "    # y = x^2\n",
    "    py.plot(x, f(x), 'ko', label='$y=x^2-10$')\n",
    "    # y = 0\n",
    "    py.plot(x, py.zeros_like(x), 'ro', label='y=0')\n",
    "\n",
    "    # +/- epsilon\n",
    "    epsilon=0.15\n",
    "    py.plot(x, epsilon * py.ones_like(x), 'r-.', label='$+\\epsilon$')\n",
    "    py.plot(x, -epsilon * py.ones_like(x), 'r--', label='$-\\epsilon$')\n",
    "\n",
    "    # x 축 이름표\n",
    "    # x axis label\n",
    "    py.xlabel('x')\n",
    "\n",
    "    # y 축 이름표\n",
    "    # y axis label\n",
    "    py.ylabel('y')\n",
    "\n",
    "    # 범례 표시\n",
    "    # Show legend\n",
    "    py.legend()\n",
    "\n",
    "    # 모눈 표시\n",
    "    # Indicate grid\n",
    "    py.grid()\n",
    "    \n",
    "    return x\n",
    "\n",
    "def plot_tangent(x_array):\n",
    "    # y = 2x\n",
    "    py.plot(x_array, 2 * x_array, 'b.', label='$y=2x$')\n",
    "\n",
    "    # 범례 표시\n",
    "    # Show legend\n",
    "    py.legend()\n",
    "\n",
    "x_array = plot(x_start, x_end, x_interval)\n",
    "plot_tangent(x_array)"
   ]
  },
  {
   "cell_type": "markdown",
   "metadata": {},
   "source": [
    "이를 이용하여, 원하는 위치 $x_i$ 에서의 접선을 그릴 수 있다.<br>Using this, we can plot tangents at desirable locations of $x_i$."
   ]
  },
  {
   "cell_type": "markdown",
   "metadata": {},
   "source": [
    "$$\n",
    "y_{tangent}=\\frac{d}{dx}f\\left(x_i\\right) \\left(x-x_i \\right) + y_i\n",
    "$$"
   ]
  },
  {
   "cell_type": "markdown",
   "metadata": {},
   "source": [
    "여기서 $y_i=f\\left(x_i\\right)$ 이다.<br>Here, $y_i=f\\left(x_i\\right)$."
   ]
  },
  {
   "cell_type": "code",
   "execution_count": null,
   "metadata": {},
   "outputs": [],
   "source": [
    "import numpy.random as nr\n",
    "nr.seed()\n",
    "\n",
    "def plot_one_tangent(x_i, x_interval):\n",
    "    y_i = f(x_i)\n",
    "    slope = 2 * x_i\n",
    "    \n",
    "    x_tangent_array = py.linspace(x_i - x_interval * 2, x_i + x_interval * 2, 4+1)\n",
    "    y_tangent_array = slope * (x_tangent_array - x_i) + y_i\n",
    "    \n",
    "    py.plot(x_tangent_array, y_tangent_array, color=nr.random(3), alpha=0.5)\n",
    "\n",
    "def plot_many_tangents(x_array):\n",
    "\n",
    "    x_interval = x_array[1] - x_array[0]\n",
    "\n",
    "    for x_i in x_array:\n",
    "        \n",
    "        plot_one_tangent(x_i, x_interval)\n",
    "\n",
    "x = plot(x_start, x_end, x_interval)\n",
    "\n",
    "plot_many_tangents(x)\n",
    "\n",
    "py.savefig('tangents.svg')\n",
    "\n"
   ]
  },
  {
   "cell_type": "markdown",
   "metadata": {},
   "source": [
    "기울기가 0이 아니라면, 접선은 $x$축과 만날 것이다. 그 교점의 $x$ 좌표를 $x_j$라 하자.<br>If the slope is not zero, the tangent would intersect with $x$ axis. Let $x_j$ be the $x$ coordinate of the intersection."
   ]
  },
  {
   "cell_type": "markdown",
   "metadata": {},
   "source": [
    "$$\n",
    "\\begin{align}\n",
    "\\frac{d}{dx}f\\left(x_i\\right) \\left(x_j-x_i \\right) + y_i=0 \\\\\n",
    "\\frac{d}{dx}f\\left(x_i\\right) \\left(x_j-x_i \\right)=-f\\left(x_i\\right) \\\\\n",
    "\\left(x_j-x_i \\right)=-\\frac{f\\left(x_i\\right)}{\\frac{d}{dx}f\\left(x_i\\right)} \\\\\n",
    "x_j=x_i-\\frac{f\\left(x_i\\right)}{\\frac{d}{dx}f\\left(x_i\\right)} \\\\\n",
    "\\end{align}\n",
    "$$"
   ]
  },
  {
   "cell_type": "markdown",
   "metadata": {},
   "source": [
    "기울기가 0이라면 $x_j$를 찾는 것은 쉽지 않을 것이다.<br>If the slope is zero, finding $x_j$ would not be easy."
   ]
  },
  {
   "cell_type": "markdown",
   "metadata": {},
   "source": [
    "$x_i=5$ 지점에서의 접선을 그려 보자.<br>Let's plot tanget at $x_i=5$."
   ]
  },
  {
   "cell_type": "code",
   "execution_count": null,
   "metadata": {},
   "outputs": [],
   "source": [
    "x = plot(x_start, x_end, x_interval)\n",
    "x_i = 5\n",
    "plot_one_tangent(x_i, 0.8)"
   ]
  },
  {
   "cell_type": "markdown",
   "metadata": {},
   "source": [
    "$x_j$를 한번 계산해 보자.<br>Let's calculate $x_j$, too."
   ]
  },
  {
   "cell_type": "code",
   "execution_count": null,
   "metadata": {},
   "outputs": [],
   "source": [
    "x_j = x_i - f(x_i) / (2 * x_i)"
   ]
  },
  {
   "cell_type": "code",
   "execution_count": null,
   "metadata": {},
   "outputs": [],
   "source": [
    "x_j"
   ]
  },
  {
   "cell_type": "code",
   "execution_count": null,
   "metadata": {},
   "outputs": [],
   "source": [
    "f(x_j)"
   ]
  },
  {
   "cell_type": "markdown",
   "metadata": {},
   "source": [
    "$x_j$ 값은 10의 제곱근에 $x_i$ 보다 가까와졌다.<br> $x_j$ is closer to $\\sqrt{10}$ than $x_i$."
   ]
  },
  {
   "cell_type": "markdown",
   "metadata": {},
   "source": [
    "$x_i$에 $x_j$ 값을 넣고 한번 더 반복해 보자.<br>Let's iterate once more with $x_j$ as new $x_i$."
   ]
  },
  {
   "cell_type": "code",
   "execution_count": null,
   "metadata": {},
   "outputs": [],
   "source": [
    "x_i = x_j"
   ]
  },
  {
   "cell_type": "code",
   "execution_count": null,
   "metadata": {},
   "outputs": [],
   "source": [
    "x_j = x_i - f(x_i) / (2 * x_i)"
   ]
  },
  {
   "cell_type": "code",
   "execution_count": null,
   "metadata": {},
   "outputs": [],
   "source": [
    "x_j"
   ]
  },
  {
   "cell_type": "code",
   "execution_count": null,
   "metadata": {},
   "outputs": [],
   "source": [
    "f(x_j)"
   ]
  },
  {
   "cell_type": "markdown",
   "metadata": {},
   "source": [
    "새로운 $x_j$ 값은 10의 제곱근에 더 가까와졌다.<br>New $x_j$ is even closer to the square root of 10."
   ]
  },
  {
   "cell_type": "markdown",
   "metadata": {},
   "source": [
    "## 뉴튼 랩슨법 구현<br>Implementing Newton Raphson Method"
   ]
  },
  {
   "cell_type": "code",
   "execution_count": null,
   "metadata": {},
   "outputs": [],
   "source": [
    "epsilon = 1e-3\n",
    "\n",
    "\n",
    "# x 의 초기값을 지정 \n",
    "# Specify initial value of x\n",
    "x_initial = 5.0\n",
    "\n",
    "# 이 함수를 0으로 만드는 x 를 찾고자 함\n",
    "# Intend to find x making the function below zero\n",
    "def f(x):\n",
    "    return x ** 2 - 10\n",
    "\n",
    "\n",
    "# 위 함수의 x에 대한 미분\n",
    "# x-Derivative of the function above\n",
    "def df_dx(x):\n",
    "    return 2 * x"
   ]
  },
  {
   "cell_type": "code",
   "execution_count": null,
   "metadata": {},
   "outputs": [],
   "source": [
    "def newton_raphson(f, df_dx, x_initial, epsilon):\n",
    "    \"\"\"\n",
    "    뉴튼 랩슨 법\n",
    "    Newton Raphson Method\n",
    "    \n",
    "    f : f(x) = 0 을 만족하는 x 를 찾고자 하는 함수 Function that we want to find x satisfying f(x) = 0\n",
    "    df_dx : f(x) 함수의 x 에 대한 미분 x-derivative of the function above\n",
    "    x_initial : x의 초기값 Initial value of x\n",
    "    epsilon : 희망하는 근의 정밀도 Desirable precision of the root\n",
    "    \"\"\"\n",
    "    counter = 0\n",
    "    \n",
    "    # 변수 x_i 를 초기화\n",
    "    # Initialize variable x_i\n",
    "    x_i = x_initial\n",
    "\n",
    "    # f(x_i) 의 절대값이 epsilon 보다 더 크다면 계속 반복\n",
    "    # Iterate while the absolute value of f(x) is larger than epsilon\n",
    "    while abs(f(x_i)) > epsilon:\n",
    "        # x_i 지점에서의 접선의 기울기\n",
    "        # Slope of the tangent at x_i\n",
    "        slope = df_dx(x_i)\n",
    "        \n",
    "        assert abs(slope) > epsilon\n",
    "\n",
    "        # 접선과 x축의 교점\n",
    "        # Intersection of the tangent and the x axis\n",
    "        x_i += - f(x_i) / slope\n",
    "\n",
    "        counter += 1\n",
    "    \n",
    "    print('counter =', counter)\n",
    "        \n",
    "    return x_i\n",
    "\n",
    "\n",
    "sqrt_10 = newton_raphson(f, df_dx, x_initial, epsilon)\n",
    "\n",
    "# 뉴튼 랩슨법으로 찾은 10의 제곱근\n",
    "# Square root of 10 that we just found using the Newton Raphson method\n",
    "print('sqrt_10 =', sqrt_10)\n",
    "# 아래 연산의 결과는 0인가?\n",
    "# Is the result of the following calculation zero?\n",
    "print('sqrt_10 ** 2 - 10 =', sqrt_10 ** 2 - 10)\n",
    "\n",
    "print(f'Is abs(f(sqrt_10)) < epsilon? {f(sqrt_10) < epsilon}')\n",
    "\n"
   ]
  },
  {
   "cell_type": "markdown",
   "metadata": {},
   "source": [
    "도전과제 0 : $sin^2(\\theta^{\\circ})+\\frac{1}{90}\\pi\\theta^{\\circ}=0.5$ 를 풀기 위한 python 함수 `f1(theta_deg)` 를 구현하고 적당한 $\\theta^{\\circ}$ 구간에 그 그래프를 그려보시오.<br>Try this 0 : Implement a python function `f1(theta_deg)` to solve $sin^2(\\theta^{\\circ})+\\frac{1}{90}\\pi\\theta^{\\circ}=0.5$ and plot it over an appropriate interval of $\\theta^{\\circ}$."
   ]
  },
  {
   "cell_type": "code",
   "execution_count": null,
   "metadata": {},
   "outputs": [],
   "source": [
    "# 힌트 hint\n",
    "print(f'pi = {py.pi}')"
   ]
  },
  {
   "cell_type": "markdown",
   "metadata": {},
   "source": [
    "도전과제 1 : 위 `f1(theta_deg)` 함수의 $\\theta$에 대한 미분을 python 함수 `df1(theta_deg)` 로 구현하고 그 그래프를 그려 보시오.<br>Try this 1 : Implement another python function `df1(theta_deg)` that is a derivative of the function `f1(theta_deg)` over $\\theta$ and plot it."
   ]
  },
  {
   "cell_type": "markdown",
   "metadata": {},
   "source": [
    "도전 과제 2 : $sin^2(\\theta^{\\circ})+\\frac{1}{90}\\pi\\theta^{\\circ}=0.5$ 인 $\\theta^{\\circ}$를 뉴튼 랩슨법으로 구해 보시오.<br>Try this 2 : Find $\\theta^{\\circ}$ satisfying $sin^2(\\theta^{\\circ})+\\frac{1}{90}\\pi\\theta^{\\circ}=0.5$ using the Newton's method."
   ]
  },
  {
   "cell_type": "markdown",
   "metadata": {},
   "source": [
    "도전 과제 3 : $sin^2(\\theta)=0.5$ 인 $\\theta$(도)를 뉴튼 법으로 구해 보시오. 초기 $\\theta$ 값을 구할 때 주의해야 하는 까닭은?<br>Try this 3 : Find $\\theta$(degree) satisfying $sin^2(\\theta)=0.5$ using Newton's method.  Why do we have to be careful when choosing initial $\\theta$?"
   ]
  },
  {
   "cell_type": "markdown",
   "metadata": {},
   "source": [
    "## 사이파이 구현<br>Implementation in SciPy"
   ]
  },
  {
   "cell_type": "markdown",
   "metadata": {},
   "source": [
    "사이파이 모듈도 [`newton`](https://docs.scipy.org/doc/scipy/reference/generated/scipy.optimize.newton.html) 함수를 포함하고 있음.<br>\n",
    "The SciPy module also has the [`newton`](https://docs.scipy.org/doc/scipy/reference/generated/scipy.optimize.newton.html) function."
   ]
  },
  {
   "cell_type": "code",
   "execution_count": null,
   "metadata": {},
   "outputs": [],
   "source": [
    "import scipy.optimize as so\n",
    "\n",
    "sqrt_10_scipy = so.newton(f, x_initial, fprime=df_dx, tol=epsilon)"
   ]
  },
  {
   "cell_type": "code",
   "execution_count": null,
   "metadata": {},
   "outputs": [],
   "source": [
    "sqrt_10_scipy"
   ]
  },
  {
   "cell_type": "code",
   "execution_count": null,
   "metadata": {},
   "outputs": [],
   "source": []
  }
 ],
 "metadata": {
  "kernelspec": {
   "display_name": "Python 3",
   "language": "python",
   "name": "python3"
  },
  "language_info": {
   "codemirror_mode": {
    "name": "ipython",
    "version": 3
   },
   "file_extension": ".py",
   "mimetype": "text/x-python",
   "name": "python",
   "nbconvert_exporter": "python",
   "pygments_lexer": "ipython3",
   "version": "3.6.4"
  }
 },
 "nbformat": 4,
 "nbformat_minor": 2
}
