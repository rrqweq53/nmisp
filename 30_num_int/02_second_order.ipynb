{
 "cells": [
  {
   "cell_type": "code",
   "execution_count": null,
   "metadata": {},
   "outputs": [],
   "source": [
    "# 그래프, 수학 기능 추가\n",
    "# Add graph and math features\n",
    "import pylab as py\n",
    "import numpy as np\n",
    "import numpy.linalg as nl\n",
    "# 기호 연산 기능 추가\n",
    "# Add symbolic operation capability\n",
    "import sympy as sy"
   ]
  },
  {
   "cell_type": "code",
   "execution_count": null,
   "metadata": {},
   "outputs": [],
   "source": [
    "sy.init_printing()"
   ]
  },
  {
   "cell_type": "markdown",
   "metadata": {},
   "source": [
    "# 2차 적분<br>Second Order Numerical Integral"
   ]
  },
  {
   "cell_type": "markdown",
   "metadata": {},
   "source": [
    "다시 반지름 $r$, 면적 $a$ 인 반원을 생각해 보자.<br>\n",
    "Again, let's think about a half circle with radius & area of $r$ & $a$ respectively."
   ]
  },
  {
   "cell_type": "code",
   "execution_count": null,
   "metadata": {},
   "outputs": [],
   "source": [
    "r, a = sy.symbols('r, a', nonnegative=True)"
   ]
  },
  {
   "cell_type": "code",
   "execution_count": null,
   "metadata": {},
   "outputs": [],
   "source": [
    "eq_circle_area = sy.Eq(sy.pi * r * r , 2 * a)"
   ]
  },
  {
   "cell_type": "code",
   "execution_count": null,
   "metadata": {},
   "outputs": [],
   "source": [
    "eq_circle_area"
   ]
  },
  {
   "cell_type": "markdown",
   "metadata": {},
   "source": [
    "이러한 원의 반지름의 제곱을 생각해 보자.<br>\n",
    "Let's think about the square of the radius of such circle."
   ]
  },
  {
   "cell_type": "code",
   "execution_count": null,
   "metadata": {},
   "outputs": [],
   "source": [
    "r_square_sol = sy.solve(eq_circle_area, r**2)[0]"
   ]
  },
  {
   "cell_type": "code",
   "execution_count": null,
   "metadata": {},
   "outputs": [],
   "source": [
    "r_square_sol"
   ]
  },
  {
   "cell_type": "markdown",
   "metadata": {},
   "source": [
    "이 결과를 이용해서 함수로 반원을 구현해 보자.<br>\n",
    "Using this result, let's implement the half circle in a function."
   ]
  },
  {
   "cell_type": "code",
   "execution_count": null,
   "metadata": {},
   "outputs": [],
   "source": [
    "def half_circle(x, half_circle_area=1.0):\n",
    "    return py.sqrt(np.abs(2 * half_circle_area / py.pi - x**2))\n"
   ]
  },
  {
   "cell_type": "markdown",
   "metadata": {},
   "source": [
    "$a=1$인 경우 $r$ 값을 계산해 보면 다음과 같다.<br>\n",
    "We can also find the value of $r$ such that $a=1$ as follows."
   ]
  },
  {
   "cell_type": "code",
   "execution_count": null,
   "metadata": {},
   "outputs": [],
   "source": [
    "r = float(sy.N(r_square_sol.subs(a, 1.0))) ** 0.5"
   ]
  },
  {
   "cell_type": "code",
   "execution_count": null,
   "metadata": {},
   "outputs": [],
   "source": [
    "r"
   ]
  },
  {
   "cell_type": "code",
   "execution_count": null,
   "metadata": {},
   "outputs": [],
   "source": [
    "type(r)"
   ]
  },
  {
   "cell_type": "markdown",
   "metadata": {},
   "source": [
    "이 함수를 이용하여 반원을 그려 보자.<br>\n",
    "Using this function, let's plot a half circle."
   ]
  },
  {
   "cell_type": "code",
   "execution_count": null,
   "metadata": {
    "scrolled": false
   },
   "outputs": [],
   "source": [
    "x_array = py.linspace(-r, r)\n",
    "y_plus = half_circle(x_array)\n",
    "\n",
    "py.fill_between(x_array, y_plus)\n",
    "\n",
    "py.axis('equal')\n",
    "py.grid(True)\n"
   ]
  },
  {
   "cell_type": "markdown",
   "metadata": {},
   "source": [
    "이번에는 3 지점에서의 함수값을 이용하는 심슨규칙을 이용해서 구해 보기로 하자.<br>\n",
    "This time, let's integrate by the Simpson's rule using function values at three points."
   ]
  },
  {
   "cell_type": "markdown",
   "metadata": {},
   "source": [
    "## 심슨 규칙<br>Simpson's Rule"
   ]
  },
  {
   "cell_type": "markdown",
   "metadata": {},
   "source": [
    "마찬가지로 일정 간격으로 $x$ 좌표를 나누어 보자.<br>\n",
    "Same as before, let's divide $x$ coordinates in a constant interval."
   ]
  },
  {
   "cell_type": "code",
   "execution_count": null,
   "metadata": {
    "scrolled": true
   },
   "outputs": [],
   "source": [
    "d = r * 2.0\n",
    "\n",
    "n = 10\n",
    "\n",
    "x_interval = d / n\n",
    "\n",
    "# 도 단위의 theta = 180, 179, ..., 0\n",
    "# theta in deg = 180, 179, ..., 0\n",
    "theta_deg_array = py.arange(180, -0.5, -1)\n",
    "# theta 를 radian 단위로 바꿈\n",
    "# theta in radians\n",
    "theta_rad_array = py.deg2rad(theta_deg_array)\n",
    "\n",
    "x_array = r * py.cos(theta_rad_array)\n",
    "y_plus = half_circle(x_array)\n",
    "\n",
    "x_array_bar = py.arange(-r, r+x_interval*0.1, x_interval)\n",
    "y_array_bar = half_circle(x_array_bar)\n",
    "x_interval = x_array_bar[1]-x_array_bar[0]\n",
    "\n",
    "py.plot(x_array, y_plus)\n",
    "py.plot(x_array_bar, y_array_bar, '.')\n",
    "\n",
    "py.axis('equal')\n",
    "py.grid(True)\n"
   ]
  },
  {
   "cell_type": "markdown",
   "metadata": {},
   "source": [
    "마지막 두 구간을 생각해 보기로 하자.<br>\n",
    "Let's just think about the last two segments."
   ]
  },
  {
   "cell_type": "code",
   "execution_count": null,
   "metadata": {},
   "outputs": [],
   "source": [
    "d = r * 2.0\n",
    "\n",
    "n = 10\n",
    "\n",
    "x_interval = d / n\n",
    "\n",
    "# 도 단위의 theta = 180, 179, ..., 0\n",
    "# theta in deg = 180, 179, ..., 0\n",
    "theta_deg_array = py.arange(180, -0.5, -1)\n",
    "# theta 를 radian 단위로 바꿈\n",
    "# theta in radians\n",
    "theta_rad_array = py.deg2rad(theta_deg_array)\n",
    "\n",
    "x_array = r * py.cos(theta_rad_array)\n",
    "y_plus = half_circle(x_array)\n",
    "\n",
    "x_array_bar = py.arange(-r, r+x_interval*0.1, x_interval)\n",
    "y_array_bar = half_circle(x_array_bar)\n",
    "x_interval = x_array_bar[1]-x_array_bar[0]\n",
    "\n",
    "# 마지막 두 구간에 해당하는 x y 값을 선택\n",
    "# Choose x y values of the last two intervals\n",
    "x_last_two_array = x_array[x_array_bar[-3] < x_array]\n",
    "y_last_two_array = y_plus[x_array_bar[-3] < x_array]\n",
    "\n",
    "py.plot(x_array, y_plus, alpha=0.5)\n",
    "py.plot(x_array_bar, y_array_bar, '.')\n",
    "py.fill_between(x_last_two_array, y_last_two_array)\n",
    "\n",
    "py.axis('equal')\n",
    "py.grid(True)\n"
   ]
  },
  {
   "cell_type": "markdown",
   "metadata": {},
   "source": [
    "해당 넓이를 구하기 위해, 이 세 점을 지나는 2차 다항식을 찾아서 적분할 수 있을 것이다<br>\n",
    "To get the area, we would be able to find a second order polynomal passing through these three points and integrate."
   ]
  },
  {
   "cell_type": "markdown",
   "metadata": {},
   "source": [
    "문제를 좀 더 쉽게 만들기 위해 해당 면적을 원점 주위로 평행 이동 시켜 보자.<br>\n",
    "To make the problem simpler, let's translate the area around the origin."
   ]
  },
  {
   "cell_type": "code",
   "execution_count": null,
   "metadata": {},
   "outputs": [],
   "source": [
    "d = r * 2.0\n",
    "\n",
    "n = 10\n",
    "\n",
    "x_interval = d / n\n",
    "\n",
    "# 도 단위의 theta = 180, 179, ..., 0\n",
    "# theta in deg = 180, 179, ..., 0\n",
    "theta_deg_array = py.arange(180, -0.5, -1)\n",
    "# theta 를 radian 단위로 바꿈\n",
    "# theta in radians\n",
    "theta_rad_array = py.deg2rad(theta_deg_array)\n",
    "\n",
    "x_array = r * py.cos(theta_rad_array)\n",
    "y_plus = half_circle(x_array)\n",
    "\n",
    "x_array_bar = py.arange(-r, r+x_interval*0.1, x_interval)\n",
    "y_array_bar = half_circle(x_array_bar)\n",
    "x_interval = x_array_bar[1]-x_array_bar[0]\n",
    "\n",
    "# 마지막 두 구간에 해당하는 x y 값을 선택\n",
    "# Choose x y values of the last two intervals\n",
    "x_last_two_array = x_array[x_array_bar[-3] < x_array]\n",
    "y_last_two_array = y_plus[x_array_bar[-3] < x_array]\n",
    "\n",
    "py.plot(x_array, y_plus, alpha=0.0)\n",
    "py.plot(x_array_bar[-3:], y_array_bar[-3:], '.')\n",
    "\n",
    "# 마지막 두 구간을 표시\n",
    "# Indicate last two intervals\n",
    "py.fill_between(x_last_two_array, y_last_two_array)\n",
    "\n",
    "# 평행이동한 면적\n",
    "# Translated Area\n",
    "py.plot(x_array_bar[-3:]-x_array_bar[-2], y_array_bar[-3:], '.')\n",
    "py.fill_between(x_last_two_array-x_array_bar[-2], y_last_two_array)\n",
    "\n",
    "# x 좌표 표시\n",
    "# Indicate x coordinates\n",
    "py.text(-x_interval, -0.1, '$-\\Delta x$', horizontalalignment='center')\n",
    "py.text(x_interval, -0.1, '$+\\Delta x$', horizontalalignment='center')\n",
    "\n",
    "# y 좌표 표시\n",
    "# Indicate x coordinates\n",
    "py.text(-x_interval, y_array_bar[-3], '$y_0$', horizontalalignment='center', verticalalignment='bottom')\n",
    "py.text(          0, y_array_bar[-2], '$y_1$', horizontalalignment='center', verticalalignment='bottom')\n",
    "py.text(+x_interval, y_array_bar[-1], '$y_2$', horizontalalignment='center', verticalalignment='bottom')\n",
    "\n",
    "py.axis('equal')\n",
    "py.grid(True)\n"
   ]
  },
  {
   "cell_type": "markdown",
   "metadata": {},
   "source": [
    "$$\n",
    "y=a_0 x^2 + a_1 x + a_2\n",
    "$$"
   ]
  },
  {
   "cell_type": "markdown",
   "metadata": {},
   "source": [
    "원래 위치의 면적과 평행이동한 면적은 같다.<br>The translate area and the original area are equivalent."
   ]
  },
  {
   "cell_type": "markdown",
   "metadata": {},
   "source": [
    "평행이동한 면적의 세 점을 살펴 보자.<br>Let's take a look at the three points of the translated area."
   ]
  },
  {
   "cell_type": "markdown",
   "metadata": {},
   "source": [
    "$$\n",
    "\\begin{align}\n",
    "    p_0&=\\left(-\\Delta x, y_0\\right) \\\\\n",
    "    p_1&=\\left(0, y_1\\right) \\\\\n",
    "    p_2&=\\left(\\Delta x, y_2\\right)\n",
    "\\end{align}\n",
    "$$"
   ]
  },
  {
   "cell_type": "code",
   "execution_count": null,
   "metadata": {},
   "outputs": [],
   "source": [
    "delta_x, y_m, y_0, y_p = sy.symbols('Delta_x, y_0, y_1, y_2', real=True)"
   ]
  },
  {
   "cell_type": "code",
   "execution_count": null,
   "metadata": {},
   "outputs": [],
   "source": [
    "points = (-delta_x, y_m), (0, y_0), (delta_x, y_p)"
   ]
  },
  {
   "cell_type": "code",
   "execution_count": null,
   "metadata": {},
   "outputs": [],
   "source": [
    "points"
   ]
  },
  {
   "cell_type": "markdown",
   "metadata": {},
   "source": [
    "2차 다항식은 다음과 같은 형태를 가진다.<br>\n",
    "A second order polynomial would take following form."
   ]
  },
  {
   "cell_type": "code",
   "execution_count": null,
   "metadata": {},
   "outputs": [],
   "source": [
    "a0, a1, a2, x = sy.symbols('a0, a1, a2, x', real=True)\n",
    "f = a0 * x**2 + a1 * x + a2"
   ]
  },
  {
   "cell_type": "code",
   "execution_count": null,
   "metadata": {},
   "outputs": [],
   "source": [
    "f"
   ]
  },
  {
   "cell_type": "markdown",
   "metadata": {},
   "source": [
    "위 세 점을 모두 지나는 2차 곡선을 생각해 보자.<br>Let's think about a second order polynomal passing all three points above."
   ]
  },
  {
   "cell_type": "markdown",
   "metadata": {},
   "source": [
    "$$\n",
    "\\begin{align}\n",
    "    y_0&=a_0 \\left(-\\Delta x\\right)^2 + a_1 \\left(-\\Delta x\\right) + a_2 \\\\\n",
    "    y_1&=a_2 \\\\\n",
    "    y_2&=a_0 \\left(\\Delta x\\right)^2 + a_1 \\left(\\Delta x\\right) + a_2\n",
    "\\end{align}\n",
    "$$"
   ]
  },
  {
   "cell_type": "code",
   "execution_count": null,
   "metadata": {},
   "outputs": [],
   "source": [
    "eq_points = [sy.Eq(p[-1], f.subs(x, p[0])) for p in points]"
   ]
  },
  {
   "cell_type": "code",
   "execution_count": null,
   "metadata": {},
   "outputs": [],
   "source": [
    "eq_points"
   ]
  },
  {
   "cell_type": "markdown",
   "metadata": {},
   "source": [
    "계수 $a_i$에 관하여 풀어 보자.<br>Let's try to solve for the coefficients $a_i$."
   ]
  },
  {
   "cell_type": "code",
   "execution_count": null,
   "metadata": {},
   "outputs": [],
   "source": [
    "a_sol = sy.solve(eq_points, (a0, a1, a2))"
   ]
  },
  {
   "cell_type": "code",
   "execution_count": null,
   "metadata": {
    "scrolled": true
   },
   "outputs": [],
   "source": [
    "a_sol"
   ]
  },
  {
   "cell_type": "markdown",
   "metadata": {},
   "source": [
    "## 2차 다항식의 정적분<br>Definite Integral of a Second Order Polynomial"
   ]
  },
  {
   "cell_type": "markdown",
   "metadata": {},
   "source": [
    "이제 $f(x)$를 $x$에 관하여 $-\\Delta x$ 부터 $\\Delta x$까지 적분해 보자.<br>Now let's integrate $f(x)$ about $x$ from $-\\Delta x$ to $\\Delta x$."
   ]
  },
  {
   "cell_type": "code",
   "execution_count": null,
   "metadata": {},
   "outputs": [],
   "source": [
    "integral = sy.integrate(f, (x, -delta_x, delta_x))"
   ]
  },
  {
   "cell_type": "code",
   "execution_count": null,
   "metadata": {},
   "outputs": [],
   "source": [
    "integral"
   ]
  },
  {
   "cell_type": "markdown",
   "metadata": {},
   "source": [
    "계수를 대입하고 정리해 보자.<br>Let's substitute the coefficients and simplfy."
   ]
  },
  {
   "cell_type": "code",
   "execution_count": null,
   "metadata": {},
   "outputs": [],
   "source": [
    "simpson = sy.simplify(integral.subs(a_sol))"
   ]
  },
  {
   "cell_type": "code",
   "execution_count": null,
   "metadata": {},
   "outputs": [],
   "source": [
    "simpson"
   ]
  },
  {
   "cell_type": "markdown",
   "metadata": {},
   "source": [
    "예를 들어 C 언어 코드로는 다음과 같이 가능하다<br>For example, in C programming language, following expression would be possible."
   ]
  },
  {
   "cell_type": "code",
   "execution_count": null,
   "metadata": {},
   "outputs": [],
   "source": [
    "sy.ccode(simpson)"
   ]
  },
  {
   "cell_type": "markdown",
   "metadata": {},
   "source": [
    "## 심슨 규칙 구현<br>Implementing Simpson's Rule"
   ]
  },
  {
   "cell_type": "markdown",
   "metadata": {},
   "source": [
    "한번에 두 구간의 면적을 계산한다.<br>\n",
    "In one iteration, calculate the area of two intervals."
   ]
  },
  {
   "cell_type": "markdown",
   "metadata": {},
   "source": [
    "$$\n",
    "    Area = F_0 + F_2 + \\ldots + F_{n-2}\n",
    "$$"
   ]
  },
  {
   "cell_type": "markdown",
   "metadata": {},
   "source": [
    "$$\n",
    "    F_k = \\frac{\\Delta x}{6}\\left[f(x_k)+4 \\cdot f(x_{k+1}) + f(x_{k+2})\\right]\n",
    "$$"
   ]
  },
  {
   "cell_type": "code",
   "execution_count": null,
   "metadata": {},
   "outputs": [],
   "source": [
    "def num_int_2(f, xi, xe, delta_x):\n",
    "    \"\"\"\n",
    "    f : function to indegrate f(x)\n",
    "    xi : start of integration\n",
    "    xe : end of integration\n",
    "    delta_x : integration interval\n",
    "    \"\"\"\n",
    "\n",
    "    # delta_x 값이 너무 작은 경우\n",
    "    # if delta_x is too small\n",
    "    if 1e-7 > abs(delta_x):\n",
    "        raise ValueError(f'delta_x(delta_x:g) too small')\n",
    "        \n",
    "    n_interval = int((xe - xi)/delta_x)\n",
    "    \n",
    "    # 구간의 갯수를 항상 짝수로 한다.\n",
    "    # Always use even number of intervals\n",
    "\n",
    "    if n_interval % 2:\n",
    "        \n",
    "        n_interval += 1\n",
    "        delta_x = (xe - xi) / n_interval\n",
    "\n",
    "    x_array = py.arange(xi, xe+delta_x*0.1, delta_x)\n",
    "    delta_x_third = delta_x / 3.0\n",
    "    \n",
    "    integration_result = 0.0\n",
    "    xp = x_array[0]\n",
    "    y0 = f(xp)\n",
    "\n",
    "    for i in range(1, n_interval, 2):\n",
    "        x1 = x_array[i]\n",
    "        x2 = x_array[i+1]\n",
    "        \n",
    "        y1 = f(x1)\n",
    "        y2 = f(x2)\n",
    "            \n",
    "        area_i = delta_x_third * (y0 + 4*y1 + y2)\n",
    "        xp, y0 = x2, y2\n",
    "        integration_result += area_i\n",
    "    \n",
    "    return integration_result\n"
   ]
  },
  {
   "cell_type": "code",
   "execution_count": null,
   "metadata": {},
   "outputs": [],
   "source": [
    "n = 10\n",
    "result = num_int_2(half_circle, -r, r, 2*r/n)\n",
    "print('result =', result)\n"
   ]
  },
  {
   "cell_type": "code",
   "execution_count": null,
   "metadata": {},
   "outputs": [],
   "source": [
    "n = 100\n",
    "result = num_int_2(half_circle, -r, r, 2*r/n)\n",
    "print('result =', result)\n"
   ]
  },
  {
   "cell_type": "code",
   "execution_count": null,
   "metadata": {},
   "outputs": [],
   "source": [
    "n = 100\n",
    "result = num_int_2(half_circle, -r, r, 2*r/(2**8))\n",
    "print('result =', result)\n"
   ]
  },
  {
   "cell_type": "markdown",
   "metadata": {},
   "source": [
    "도전 과제 1 : 넓이 1인 반원의 예로 0차, 1차 적분과의 오차를 비교하시오.<br>Using the example of half circle with area 1, compare errors with zeroth and first order integrations."
   ]
  },
  {
   "cell_type": "markdown",
   "metadata": {},
   "source": [
    "도전 과제 2 : 긴 지름 4, 짧은 지름 2인 타원의 면적의 절반을 심슨법으로 계산하시오.<br>Try this 2 : Calculate the half of area of an ellipse with long diameter 4 and short diameter 2 using the Simpson's rule."
   ]
  },
  {
   "cell_type": "markdown",
   "metadata": {},
   "source": [
    "참고문헌 : https://ko.wikipedia.org/wiki/%ED%83%80%EC%9B%90"
   ]
  },
  {
   "cell_type": "code",
   "execution_count": null,
   "metadata": {},
   "outputs": [],
   "source": [
    "y, a, b = sy.symbols('y, a, b', nonnegative=True)"
   ]
  },
  {
   "cell_type": "code",
   "execution_count": null,
   "metadata": {},
   "outputs": [],
   "source": [
    "ellipse_4_2_eq = sy.Eq((x**2)/a**2 + (y**2)/b**2, 1)\n",
    "ellipse_4_2_eq"
   ]
  },
  {
   "cell_type": "code",
   "execution_count": null,
   "metadata": {
    "scrolled": true
   },
   "outputs": [],
   "source": [
    "sol_ellipse = sy.solve(ellipse_4_2_eq, y)\n",
    "sol_ellipse"
   ]
  },
  {
   "cell_type": "code",
   "execution_count": null,
   "metadata": {},
   "outputs": [],
   "source": [
    "def ellipse(x, a=2, b=1):\n",
    "    return (b / a) * py.sqrt(a**2 - x**2)"
   ]
  },
  {
   "cell_type": "code",
   "execution_count": null,
   "metadata": {},
   "outputs": [],
   "source": [
    "x_array_ellipse = py.linspace(-2.0, 2.0, 2**8)\n",
    "py.plot(x_array_ellipse, ellipse(x_array_ellipse))\n",
    "\n",
    "x_array_circle = py.linspace(-r, r, 2**8)\n",
    "py.plot(x_array_circle, half_circle(x_array_circle))\n",
    "py.grid(True)\n",
    "py.axis('equal')\n",
    "py.show()"
   ]
  },
  {
   "cell_type": "code",
   "execution_count": null,
   "metadata": {},
   "outputs": [],
   "source": [
    "delta_x = 2**-8\n",
    "delta_x"
   ]
  },
  {
   "cell_type": "code",
   "execution_count": null,
   "metadata": {},
   "outputs": [],
   "source": [
    "result = num_int_2(ellipse, -2, 2, 2**-8)\n",
    "print('result =', result)\n"
   ]
  },
  {
   "cell_type": "code",
   "execution_count": null,
   "metadata": {
    "scrolled": false
   },
   "outputs": [],
   "source": [
    "print(f\"a b pi/2 = {2*1*py.pi/2}\")"
   ]
  },
  {
   "cell_type": "code",
   "execution_count": null,
   "metadata": {},
   "outputs": [],
   "source": [
    "result = num_int_2(half_circle, -r, r, (2*r)/(2**8))\n",
    "print('result =', result)\n"
   ]
  },
  {
   "cell_type": "code",
   "execution_count": null,
   "metadata": {},
   "outputs": [],
   "source": [
    "result = num_int_2(half_circle, -r, r, (2*r)/(100))\n",
    "print('result =', result)\n"
   ]
  },
  {
   "cell_type": "code",
   "execution_count": null,
   "metadata": {},
   "outputs": [],
   "source": []
  }
 ],
 "metadata": {
  "kernelspec": {
   "display_name": "Python 3",
   "language": "python",
   "name": "python3"
  },
  "language_info": {
   "codemirror_mode": {
    "name": "ipython",
    "version": 3
   },
   "file_extension": ".py",
   "mimetype": "text/x-python",
   "name": "python",
   "nbconvert_exporter": "python",
   "pygments_lexer": "ipython3",
   "version": "3.6.4"
  }
 },
 "nbformat": 4,
 "nbformat_minor": 2
}
