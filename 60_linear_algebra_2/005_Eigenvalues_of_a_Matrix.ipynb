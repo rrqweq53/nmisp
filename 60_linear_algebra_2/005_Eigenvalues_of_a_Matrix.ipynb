{
 "cells": [
  {
   "cell_type": "markdown",
   "metadata": {},
   "source": [
    "# 행렬의 고유치<br>Eigenvalues of a Matrix"
   ]
  },
  {
   "cell_type": "markdown",
   "metadata": {},
   "source": [
    "임의의 $n \\times n$ 행렬을 생각해 보자.<br>\n",
    "Let's think about an arbitrary $n \\times n$ matrix."
   ]
  },
  {
   "cell_type": "code",
   "execution_count": null,
   "metadata": {},
   "outputs": [],
   "source": [
    "n = 2\n",
    "\n"
   ]
  },
  {
   "cell_type": "code",
   "execution_count": null,
   "metadata": {},
   "outputs": [],
   "source": [
    "import numpy as np\n",
    "import numpy.random as nr\n",
    "import numpy.linalg as nl\n",
    "\n",
    "matA = np.matrix((nr.random((n,n)) - 0.5) * 20 * 1.0)\n",
    "matA\n",
    "\n"
   ]
  },
  {
   "cell_type": "markdown",
   "metadata": {},
   "source": [
    "1이 $n \\times 1$ 인 벡터 $x$ 를 생각해 보자.<br>Let's think about a vector $x$ of ones in $n \\times 1$ shape."
   ]
  },
  {
   "cell_type": "code",
   "execution_count": null,
   "metadata": {
    "scrolled": true
   },
   "outputs": [],
   "source": [
    "vecX = np.matrix([1]*n).T\n",
    "vecX\n",
    "\n"
   ]
  },
  {
   "cell_type": "markdown",
   "metadata": {},
   "source": [
    "행렬과 벡터$x$를 곱하여 그 결과 벡터를 $y$라고 부르자.<br>Let's multiply the matrix and the vector $x$ and name the product vector as $y$."
   ]
  },
  {
   "cell_type": "code",
   "execution_count": null,
   "metadata": {
    "scrolled": true
   },
   "outputs": [],
   "source": [
    "vecY = matA * vecX\n",
    "vecY\n",
    "\n"
   ]
  },
  {
   "cell_type": "markdown",
   "metadata": {},
   "source": [
    "곱한 결과의 요소 가운데 절대값이 가장 큰 값을 찾는다.<br>Find the element with the largest absolute value."
   ]
  },
  {
   "cell_type": "code",
   "execution_count": null,
   "metadata": {},
   "outputs": [],
   "source": [
    "lam = abs(vecY).max()\n",
    "lam\n",
    "\n"
   ]
  },
  {
   "cell_type": "markdown",
   "metadata": {},
   "source": [
    "벡터 $y$ 를 이 값으로 나눈다.<br>\n",
    "Normalize the vector $y$ with this value."
   ]
  },
  {
   "cell_type": "code",
   "execution_count": null,
   "metadata": {},
   "outputs": [],
   "source": [
    "vecY *= 1.0 / lam\n",
    "vecY\n",
    "\n"
   ]
  },
  {
   "cell_type": "markdown",
   "metadata": {},
   "source": [
    "원래 벡터 $x$와 $y$의 차의 크기를 계산한다.<br>Find the norm of the difference between vector $x$ and $y$."
   ]
  },
  {
   "cell_type": "code",
   "execution_count": null,
   "metadata": {},
   "outputs": [],
   "source": [
    "nl.norm(vecX - vecY)\n",
    "\n"
   ]
  },
  {
   "cell_type": "code",
   "execution_count": null,
   "metadata": {},
   "outputs": [],
   "source": [
    "vecX = vecY\n",
    "\n"
   ]
  },
  {
   "cell_type": "markdown",
   "metadata": {},
   "source": [
    "이를 반복하자.<br>Let's repeat this."
   ]
  },
  {
   "cell_type": "code",
   "execution_count": null,
   "metadata": {
    "scrolled": true
   },
   "outputs": [],
   "source": [
    "vecY = matA * vecX\n",
    "vecY\n",
    "\n"
   ]
  },
  {
   "cell_type": "code",
   "execution_count": null,
   "metadata": {},
   "outputs": [],
   "source": [
    "lam = abs(vecY).max()\n",
    "lam\n",
    "\n"
   ]
  },
  {
   "cell_type": "code",
   "execution_count": null,
   "metadata": {},
   "outputs": [],
   "source": [
    "vecY *= 1.0 / lam\n",
    "\n"
   ]
  },
  {
   "cell_type": "markdown",
   "metadata": {},
   "source": [
    "벡터 $x$와 $y$의 차의 크기가 감소하는가?<br>Is the norm of the difference vector decreasing?"
   ]
  },
  {
   "cell_type": "code",
   "execution_count": null,
   "metadata": {},
   "outputs": [],
   "source": [
    "nl.norm(vecX - vecY)\n",
    "\n"
   ]
  },
  {
   "cell_type": "code",
   "execution_count": null,
   "metadata": {},
   "outputs": [],
   "source": [
    "vecX = vecY\n",
    "\n"
   ]
  },
  {
   "cell_type": "markdown",
   "metadata": {},
   "source": [
    "반복문을 이용해 보자.<br>Let's use a loop"
   ]
  },
  {
   "cell_type": "code",
   "execution_count": null,
   "metadata": {
    "scrolled": true
   },
   "outputs": [],
   "source": [
    "epsilon = 1e-7\n",
    "\n",
    "counter = 0\n",
    "\n",
    "for i in range(100000):\n",
    "    vecY = matA * vecX\n",
    "    counter += 1\n",
    "    lam = abs(vecY).max()\n",
    "    vecY *= 1.0 / lam\n",
    "\n",
    "    norm = nl.norm(vecX - vecY)\n",
    "    if norm < epsilon:\n",
    "        break\n",
    "\n",
    "    vecX = vecY\n",
    "\n",
    "print(f'lam = {lam}')\n",
    "print(f'vecX = {vecX}')\n",
    "print(f'vecY = {vecY}')\n",
    "print(f'vecX - vecY = {vecX - vecY}')\n",
    "print(f'counter = {counter}')\n",
    "print(f'norm = {norm}')\n",
    "\n"
   ]
  },
  {
   "cell_type": "markdown",
   "metadata": {},
   "source": [
    "위에서 구한 벡터와 행렬을 곱해 보자.<br>Let's multiply the result vector and the matrix."
   ]
  },
  {
   "cell_type": "code",
   "execution_count": null,
   "metadata": {},
   "outputs": [],
   "source": [
    "b = matA * vecY\n",
    "\n"
   ]
  },
  {
   "cell_type": "code",
   "execution_count": null,
   "metadata": {},
   "outputs": [],
   "source": [
    "b / vecY\n",
    "\n"
   ]
  },
  {
   "cell_type": "markdown",
   "metadata": {},
   "source": [
    "위 결과의 의미는?<br>What does this result mean?"
   ]
  },
  {
   "cell_type": "markdown",
   "metadata": {},
   "source": [
    "## Power Method"
   ]
  },
  {
   "cell_type": "markdown",
   "metadata": {},
   "source": [
    "행렬의 가장 큰 고유치와 그 고유벡터를 계산하는 함수를 만들어 볼 수 있다.<br>\n",
    "We can write a function calculating the largest eigenvalue and its eigenvector.\n",
    "\n"
   ]
  },
  {
   "cell_type": "code",
   "execution_count": null,
   "metadata": {},
   "outputs": [],
   "source": [
    "def power_method(matA, vecX=None, epsilon=1e-7, n_iter_max=100000):\n",
    "    epsilon = 1e-7\n",
    "    n = matA.shape[0]\n",
    "    \n",
    "    if vecX is None:\n",
    "        vecX = np.matrix(np.ones(n)).T\n",
    "\n",
    "    counter = 0\n",
    "\n",
    "    for i in range(n_iter_max):\n",
    "        vecY = matA * vecX\n",
    "        counter += 1\n",
    "        lam = abs(vecY).max()\n",
    "        vecY *= 1.0 / lam\n",
    "\n",
    "        norm = nl.norm(vecX - vecY)\n",
    "        if norm < epsilon:\n",
    "            break\n",
    "\n",
    "        vecX = vecY\n",
    "\n",
    "        \n",
    "    return lam, vecY, counter\n",
    "\n"
   ]
  },
  {
   "cell_type": "code",
   "execution_count": null,
   "metadata": {},
   "outputs": [],
   "source": [
    "lam, vecX, n = power_method(matA)\n",
    "\n",
    "print(f'lam = {lam}')\n",
    "print(f'vecX = {vecX}')\n",
    "print(f'counter = {n}')\n",
    "\n"
   ]
  },
  {
   "cell_type": "code",
   "execution_count": null,
   "metadata": {},
   "outputs": [],
   "source": []
  }
 ],
 "metadata": {
  "kernelspec": {
   "display_name": "Python 3",
   "language": "python",
   "name": "python3"
  },
  "language_info": {
   "codemirror_mode": {
    "name": "ipython",
    "version": 3
   },
   "file_extension": ".py",
   "mimetype": "text/x-python",
   "name": "python",
   "nbconvert_exporter": "python",
   "pygments_lexer": "ipython3",
   "version": "3.6.5"
  }
 },
 "nbformat": 4,
 "nbformat_minor": 2
}
