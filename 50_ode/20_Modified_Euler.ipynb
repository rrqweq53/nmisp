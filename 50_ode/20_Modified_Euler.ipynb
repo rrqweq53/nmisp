{
 "cells": [
  {
   "cell_type": "code",
   "execution_count": null,
   "metadata": {},
   "outputs": [],
   "source": [
    "# 그래프, 수학 기능 추가\n",
    "# Add graph and math features\n",
    "import pylab as py\n",
    "import numpy as np\n",
    "import numpy.linalg as nl\n",
    "# 기호 연산 기능 추가\n",
    "# Add symbolic operation capability\n",
    "import sympy as sy"
   ]
  },
  {
   "cell_type": "code",
   "execution_count": null,
   "metadata": {},
   "outputs": [],
   "source": [
    "sy.init_printing()"
   ]
  },
  {
   "cell_type": "markdown",
   "metadata": {},
   "source": [
    "# 상미분방정식을 위한 수정 오일러법 (훈의 방법)<br>Modified Euler Method (Heun's Method) for Ordinary Differntial Equations"
   ]
  },
  {
   "cell_type": "markdown",
   "metadata": {},
   "source": [
    "## 전진오일러법 사례 검토<br>Review of Forward Euler Method"
   ]
  },
  {
   "cell_type": "markdown",
   "metadata": {},
   "source": [
    "다시 한번 다음 1계 미분 방정식을 생각해 보자.<br>Once again, let's think about the following first order differential equation again."
   ]
  },
  {
   "cell_type": "markdown",
   "metadata": {},
   "source": [
    "$$\n",
    "\\left\\{\n",
    "    \\begin{align}\n",
    "        a_0 \\frac{d}{dt}x(t)+a_1 x(t)&=0 \\\\\n",
    "        x(0)&=x_0 \\\\\n",
    "    \\end{align}\n",
    "\\right.\n",
    "$$"
   ]
  },
  {
   "cell_type": "markdown",
   "metadata": {},
   "source": [
    "python 함수로는 다음과 같이 쓸 수 있다.<br>We can write a function in python as follows."
   ]
  },
  {
   "cell_type": "code",
   "execution_count": null,
   "metadata": {},
   "outputs": [],
   "source": [
    "a_0, a_1 = 2.0, 1.0\n",
    "\n",
    "def dx_dt(x, t):\n",
    "    return - a_1 * x / a_0"
   ]
  },
  {
   "cell_type": "markdown",
   "metadata": {},
   "source": [
    "$0 \\le t \\le 6$ 구간에서 $\\Delta t=1(sec)$ 으로 전진 오일러법을 적용해 보자."
   ]
  },
  {
   "cell_type": "code",
   "execution_count": null,
   "metadata": {},
   "outputs": [],
   "source": [
    "def forward_euler(f, t_array, x_0):\n",
    "    time_list = [t_array[0]]\n",
    "    result_list = [x_0]\n",
    "\n",
    "    x_i = x_0\n",
    "\n",
    "    for k, t_i in enumerate(t_array[:-1]):\n",
    "        # time step\n",
    "        delta_t = t_array[k+1] - t_array[k]\n",
    "\n",
    "        # slope\n",
    "        s_i = f(x_i, t_i)\n",
    "\n",
    "        # x[i + 1]\n",
    "        x_i_plus_1 = x_i + s_i * delta_t\n",
    "\n",
    "        time_list.append(t_array[k+1])\n",
    "        result_list.append(x_i_plus_1)\n",
    "        \n",
    "        x_i = x_i_plus_1\n",
    "\n",
    "    return time_list, result_list\n"
   ]
  },
  {
   "cell_type": "code",
   "execution_count": null,
   "metadata": {},
   "outputs": [],
   "source": [
    "# Time step interval\n",
    "delta_t = 1.0\n",
    "\n",
    "# Time array\n",
    "t_sec_array = np.arange(0, 6 + delta_t*0.5, delta_t)\n",
    "\n",
    "# Initial state\n",
    "x_0 = 4.5\n",
    "\n",
    "# *** ODE solver ***\n",
    "t_out, x_out = forward_euler(dx_dt, t_sec_array, x_0)\n",
    "\n",
    "py.plot(t_out, x_out, '.-', label='Forward Euler')\n",
    "\n",
    "py.axis('equal')\n",
    "\n",
    "py.xlabel('t(sec)')\n",
    "py.ylabel('x(m)')\n",
    "\n",
    "py.legend(loc=0)\n",
    "py.grid(True)\n"
   ]
  },
  {
   "cell_type": "markdown",
   "metadata": {},
   "source": [
    "$0 \\le t \\le 6$, $0 \\le x \\le 6$ 인 영역에서 기울기와 겹쳐 그려 보자.<br>\n",
    "Let's plot overlap the slopes within the region of $0 \\le t \\le 6$ and $0 \\le x \\le 6$."
   ]
  },
  {
   "cell_type": "code",
   "execution_count": null,
   "metadata": {},
   "outputs": [],
   "source": [
    "t_array = py.linspace(0, 6)\n",
    "x_array = py.linspace(0, 6)"
   ]
  },
  {
   "cell_type": "code",
   "execution_count": null,
   "metadata": {},
   "outputs": [],
   "source": [
    "def ode_slope_1state_interval(func, delta_t, delta_x, te, ti, x_max, x_min):\n",
    "    time_list = np.arange(ti, te, delta_t)\n",
    "    x_list = np.arange(x_min, x_max + 0.5 * delta_x, delta_x)\n",
    "    ode_slope_1state(func, x_list, time_list)\n",
    "    return time_list\n",
    "\n",
    "\n",
    "def ode_slope_1state(func, x_list, time_list):\n",
    "    \"\"\"\n",
    "    Plot field of arrows indicating derivatives of the state\n",
    "    :param func:\n",
    "    :param x_list:\n",
    "    :param time_list:\n",
    "    :return:\n",
    "    \"\"\"\n",
    "    time_mesh, x_mesh = np.meshgrid(time_list, x_list)\n",
    "    u_mesh = np.ones_like(x_mesh)\n",
    "    v_mesh = func(x_mesh, time_mesh)\n",
    "    # magnitude as color\n",
    "    color_mesh = np.sqrt(u_mesh * u_mesh + v_mesh * v_mesh)\n",
    "\n",
    "    # https://stackoverflow.com/questions/29589119/plot-width-settings-in-ipython-notebook\n",
    "    py.figure(figsize=(12, 12))\n",
    "    py.quiver(time_mesh, x_mesh, u_mesh, v_mesh, color_mesh, angles='xy')\n",
    "    py.xlabel('t')\n",
    "    py.ylabel('x')\n",
    "    py.xlim((time_list[0] - (time_list[1] - time_list[0]) * 0.125, time_list[-1]))\n",
    "    py.ylim((min(x_list) - (x_list[1] - x_list[0]) * 0.125,\n",
    "                max(x_list) + (x_list[-1] - x_list[-2]) * 0.125))\n",
    "    py.grid(True)"
   ]
  },
  {
   "cell_type": "code",
   "execution_count": null,
   "metadata": {},
   "outputs": [],
   "source": [
    "# Slopes at each (t, x) points\n",
    "ode_slope_1state(dx_dt, x_array, t_array)\n",
    "\n",
    "# Time step interval\n",
    "delta_t = 1.0\n",
    "\n",
    "# Time array\n",
    "t_sec_array = np.arange(0, 6 + delta_t*0.5, delta_t)\n",
    "\n",
    "# Initial state\n",
    "x_0 = 4.5\n",
    "\n",
    "# *** ODE solver ***\n",
    "t_out, x_out = forward_euler(dx_dt, t_sec_array, x_0)\n",
    "\n",
    "py.plot(t_out, x_out, '.-', label='Forward Euler')\n",
    "\n",
    "py.axis('equal')\n",
    "\n",
    "py.xlabel('t(sec)')\n",
    "py.ylabel('x(m)')\n",
    "\n",
    "py.legend(loc=0)\n",
    "py.grid(True)\n"
   ]
  },
  {
   "cell_type": "markdown",
   "metadata": {},
   "source": [
    "$\\Delta t=1(sec)$ 의 경우, $t_0=0(sec)$ 과 $t_1=1(sec)$ 사이에서 $\\frac{d}{dt}x$는 계속 변화하고 있으나, 전진 오일러법은 $t_0 \\le t \\le t_1$ 사이에서 $\\frac{d}{dt}x=\\left.\\frac{d}{dt}x\\right|_{t=t_0}$로 가정한다.<br>\n",
    "In case of $\\Delta t=1(sec)$, $\\frac{d}{dt}x$ continuously changes between $t_0=0(sec)$ and $t_1=1(sec)$.  However, the Forward Euler Method assumes that $\\frac{d}{dt}x=\\left.\\frac{d}{dt}x\\right|_{t=t_0}$ over $t_0 \\le t \\le t_1$."
   ]
  },
  {
   "cell_type": "markdown",
   "metadata": {},
   "source": [
    "그렇다면, $t_i \\le t \\le t_{i+1}$ 사이에서 대표적인 $\\frac{d}{dt}x$ 값은 어떤 값이 좋을 것인가?<br>\n",
    "If so, within $t_i \\le t \\le t_{i+1}$, which value of $\\frac{d}{dt}x$ would be representative?"
   ]
  },
  {
   "cell_type": "markdown",
   "metadata": {},
   "source": [
    "## 수정 오일러법 (훈의 방법)<br>Modified Euler Method (Heun's Method)"
   ]
  },
  {
   "cell_type": "markdown",
   "metadata": {},
   "source": [
    "수정 오일러법은 $\\frac{d}{dt}x=\\left.\\frac{d}{dt}x\\right|_{t=t_{i}}$ 와 $\\frac{d}{dt}x=\\left.\\frac{d}{dt}x\\right|_{t=t_{i+1}}$의 평균값이 $t_i \\le t \\le t_{i+1}$ 사이에서 대표적인 $\\frac{d}{dt}x$ 값으로 가정한다.<br>\n",
    "Modified Euler Method assumes that the average of $\\frac{d}{dt}x=\\left.\\frac{d}{dt}x\\right|_{t=t_{i}}$ and $\\frac{d}{dt}x=\\left.\\frac{d}{dt}x\\right|_{t=t_{i+1}}$ as the representative $\\frac{d}{dt}x$ value within $t_i \\le t \\le t_{i+1}$ interval."
   ]
  },
  {
   "cell_type": "markdown",
   "metadata": {},
   "source": [
    "그런데, $x(t)$의 엄밀해를 알지 못하는 상태에서 어떻게 $\\frac{d}{dt}x=\\left.\\frac{d}{dt}x\\right|_{t=t_{i+1}}$ 을 계산할 것인가?<br>\n",
    "Now, how can we calculate $\\frac{d}{dt}x=\\left.\\frac{d}{dt}x\\right|_{t=t_{i+1}}$ without knowing the exact solution of $x(t)$?"
   ]
  },
  {
   "cell_type": "markdown",
   "metadata": {},
   "source": [
    "전진 오일러법으로 구한 $\\left.x\\right|_{t=t_{i+1}}$의 근사값 $\\left.\\hat{x}\\right|_{t=t_{i+1}}$으로 $\\frac{d}{dt}x=\\left.\\frac{d}{dt}x\\right|_{t=t_{i+1}}$을 사용할 것이다.<br>\n",
    "We would use $\\frac{d}{dt}x=\\left.\\frac{d}{dt}x\\right|_{t=t_{i+1}}$ using $\\left.\\hat{x}\\right|_{t=t_{i+1}}$, the approximation of $\\left.x\\right|_{t=t_{i+1}}$ by the Forward Euler Method."
   ]
  },
  {
   "cell_type": "code",
   "execution_count": null,
   "metadata": {},
   "outputs": [],
   "source": [
    "def modified_euler(f, t_array, x_0):\n",
    "    time_list = [t_array[0]]\n",
    "    result_list = [x_0]\n",
    "\n",
    "    x_i = x_0\n",
    "\n",
    "    for k, t_i in enumerate(t_array[:-1]):\n",
    "        # time step\n",
    "        delta_t = t_array[k+1] - t_array[k]\n",
    "\n",
    "        # slope at i\n",
    "        s_i = f(x_i, t_i)\n",
    "\n",
    "        # x[i + 1] by Forward Euler\n",
    "        x_i_plus_1 = x_i + s_i * delta_t\n",
    "        \n",
    "        # slope at i + 1\n",
    "        s_i_plus_1 = f(x_i_plus_1, t_array[k+1])\n",
    "        \n",
    "        # average of slope\n",
    "        s_average = (s_i + s_i_plus_1) * 0.5\n",
    "        \n",
    "        # x[i + 1] by Modified Euler\n",
    "        x_i_plus_1_m = x_i + s_average * delta_t\n",
    "\n",
    "        time_list.append(t_array[k+1])\n",
    "        result_list.append(x_i_plus_1_m)\n",
    "        \n",
    "        x_i = x_i_plus_1_m\n",
    "\n",
    "    return time_list, result_list\n"
   ]
  },
  {
   "cell_type": "markdown",
   "metadata": {},
   "source": [
    "엄밀해, 전진 오일러법, 수정 오일러법을 비교해 보자.<br>\n",
    "Let's compare the exact solution, Forware Euler Method, and Modified Euler Method."
   ]
  },
  {
   "cell_type": "code",
   "execution_count": null,
   "metadata": {},
   "outputs": [],
   "source": [
    "def exact(t):\n",
    "    return x_0 * py.exp((-a_1 / a_0) * t)\n"
   ]
  },
  {
   "cell_type": "code",
   "execution_count": null,
   "metadata": {
    "scrolled": false
   },
   "outputs": [],
   "source": [
    "# Initial value\n",
    "x_0 = 4.5\n",
    "\n",
    "# Slopes\n",
    "ode_slope_1state(dx_dt, x_array, t_array)\n",
    "\n",
    "# Exact solution\n",
    "x_exact_array = exact(t_array)\n",
    "py.plot(t_array, x_exact_array, label='exact')\n",
    "\n",
    "# Forward Euler\n",
    "py.plot(t_out, x_out, '.-', label='Forward Euler')\n",
    "\n",
    "# Modified Euler\n",
    "t_m_out, x_m_out = modified_euler(dx_dt, t_sec_array, x_0)\n",
    "py.plot(t_m_out, x_m_out, '*-', label='Modified Euler')\n",
    "\n",
    "py.legend(loc=0, fontsize='xx-large')\n"
   ]
  },
  {
   "cell_type": "markdown",
   "metadata": {},
   "source": [
    "전진 오일러법에 비해 수정 오일러법의 근사해가 엄밀해에 비해 오차가 더 적은 것을 알 수 있다.<br>\n",
    "We can see that the approximate solution of Modified Euler Method is closer to the exact solution than that the Forward Euler Method."
   ]
  },
  {
   "cell_type": "markdown",
   "metadata": {},
   "source": [
    "수정 오일러법은 독일 수학자 칼 훈의 이름을 따서 훈의 방법이라고도 부른다.<br>\n",
    "Sometimes, Modified Euler Method is called Heun's method, named after German mathematician Karl Heun."
   ]
  },
  {
   "cell_type": "markdown",
   "metadata": {},
   "source": [
    "## 도전 과제<br>Try This"
   ]
  },
  {
   "cell_type": "markdown",
   "metadata": {},
   "source": [
    "### 01"
   ]
  },
  {
   "cell_type": "markdown",
   "metadata": {},
   "source": [
    "다음 미분방정식의 엄밀해를 구하시오:<br>\n",
    "Find exact solution of the following differential equation:\n",
    "\n",
    "$$\n",
    "\\begin{align}\n",
    "10 \\frac{d}{dt}x(t) + 100 x(t) &= 0 \\\\\n",
    "x(0) &= 10\n",
    "\\end{align}\n",
    "$$\n"
   ]
  },
  {
   "cell_type": "markdown",
   "metadata": {},
   "source": [
    "위 미분방정식의 수치해를 전진 오일러법으로 구하시오.<br>\n",
    "Find numerical solution of the above differential equation using Forward Euler Method.\n",
    "\n"
   ]
  },
  {
   "cell_type": "markdown",
   "metadata": {},
   "source": [
    "위 미분방정식의 수치해를 훈의 방법으로 구하고 엄밀해, 전진 오일러법과 비교하시오.<br>\n",
    "Find numerical solution of the above differential equation using Heun's method and compare with exact solution and Forward Euler Method.\n",
    "\n"
   ]
  },
  {
   "cell_type": "markdown",
   "metadata": {},
   "source": [
    "### 02"
   ]
  },
  {
   "cell_type": "markdown",
   "metadata": {},
   "source": [
    "다음 미분방정식의 수치해를 전진 오일러법으로 구하시오:<br>\n",
    "Find numerical solution of the following differential equation using Forward Euler Method:\n",
    "\n",
    "$$\n",
    "\\begin{align}\n",
    "10 \\frac{d}{dt}x(t) + 100 x(t) &= sin(t[rad]) \\\\\n",
    "x(0) &= 0\n",
    "\\end{align}\n",
    "$$\n"
   ]
  },
  {
   "cell_type": "markdown",
   "metadata": {},
   "source": [
    "위 미분방정식의 수치해를 훈의 방법으로 구하고 전진 오일러법과 비교하시오.<br>\n",
    "Find numerical solution of the above differential equation using Heun's method and compare with Forward Euler Method.\n",
    "\n"
   ]
  },
  {
   "cell_type": "code",
   "execution_count": null,
   "metadata": {},
   "outputs": [],
   "source": []
  }
 ],
 "metadata": {
  "kernelspec": {
   "display_name": "Python 3",
   "language": "python",
   "name": "python3"
  },
  "language_info": {
   "codemirror_mode": {
    "name": "ipython",
    "version": 3
   },
   "file_extension": ".py",
   "mimetype": "text/x-python",
   "name": "python",
   "nbconvert_exporter": "python",
   "pygments_lexer": "ipython3",
   "version": "3.6.5"
  }
 },
 "nbformat": 4,
 "nbformat_minor": 2
}
