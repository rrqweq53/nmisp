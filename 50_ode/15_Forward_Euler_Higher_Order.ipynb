{
 "cells": [
  {
   "cell_type": "code",
   "execution_count": null,
   "metadata": {},
   "outputs": [],
   "source": [
    "# 그래프, 수학 기능 추가\n",
    "# Add graph and math features\n",
    "import pylab as py\n",
    "import numpy as np\n",
    "import numpy.linalg as nl\n",
    "# 기호 연산 기능 추가\n",
    "# Add symbolic operation capability\n",
    "import sympy as sy"
   ]
  },
  {
   "cell_type": "code",
   "execution_count": null,
   "metadata": {},
   "outputs": [],
   "source": [
    "sy.init_printing()"
   ]
  },
  {
   "cell_type": "markdown",
   "metadata": {},
   "source": [
    "# 전진 오일러법: 고차 상미분 방정식<br>Forward Euler Method: Higher Order ODE"
   ]
  },
  {
   "cell_type": "markdown",
   "metadata": {},
   "source": [
    "## 1계 미분방정식의 예<br>An example of a first order ODE"
   ]
  },
  {
   "cell_type": "markdown",
   "metadata": {},
   "source": [
    "$$\n",
    "\\left\\{\n",
    "    \\begin{align}\n",
    "        2 \\frac{d}{dt}x(t)+ x(t)&=0 \\\\\n",
    "        x(0)&=x_0 \\\\\n",
    "    \\end{align}\n",
    "\\right.\n",
    "$$"
   ]
  },
  {
   "cell_type": "markdown",
   "metadata": {},
   "source": [
    "위 1계 미분방정식의 경우 다음과 같이 근사해를 구할 수 있었다.<br>We could find an approximate solution for a first order ordinary differential equation as follows."
   ]
  },
  {
   "cell_type": "code",
   "execution_count": null,
   "metadata": {},
   "outputs": [],
   "source": [
    "a_0, a_1 = 2.0, 1.0\n",
    "\n",
    "def dx_dt(x, t):\n",
    "    return - a_1 * x / a_0"
   ]
  },
  {
   "cell_type": "code",
   "execution_count": null,
   "metadata": {},
   "outputs": [],
   "source": [
    "def forward_euler(f, t_array, x_0):\n",
    "    time_list = [t_array[0]]\n",
    "    result_list = [x_0]\n",
    "\n",
    "    x_i = x_0\n",
    "\n",
    "    for k, t_i in enumerate(t_array[:-1]):\n",
    "        # time step\n",
    "        delta_t = t_array[k+1] - t_array[k]\n",
    "\n",
    "        # slope\n",
    "        s_i = f(x_i, t_i)\n",
    "\n",
    "        # x[i + 1]\n",
    "        x_i_plus_1 = x_i + s_i * delta_t\n",
    "\n",
    "        time_list.append(t_array[k+1])\n",
    "        result_list.append(x_i_plus_1)\n",
    "        \n",
    "        x_i = x_i_plus_1\n",
    "\n",
    "    return time_list, result_list\n",
    "\n"
   ]
  },
  {
   "cell_type": "code",
   "execution_count": null,
   "metadata": {},
   "outputs": [],
   "source": [
    "# Time step interval\n",
    "delta_t = 0.1\n",
    "\n",
    "# Time array\n",
    "t_sec_array = np.arange(0, 6 + delta_t*0.5, delta_t)\n",
    "\n",
    "# Initial state\n",
    "x_0 = 4.5\n",
    "\n",
    "# *** ODE solver ***\n",
    "t_01, x_01 = forward_euler(dx_dt, t_sec_array, x_0)\n"
   ]
  },
  {
   "cell_type": "code",
   "execution_count": null,
   "metadata": {},
   "outputs": [],
   "source": [
    "def exact(t):\n",
    "    return x_0 * py.exp((-a_1 / a_0) * t)\n"
   ]
  },
  {
   "cell_type": "code",
   "execution_count": null,
   "metadata": {},
   "outputs": [],
   "source": [
    "py.plot(t_01, x_01, '.-', label=f'$\\\\Delta t={delta_t}$')\n",
    "\n",
    "# Indicate the exact solution\n",
    "exact_x_array = exact(t_sec_array)\n",
    "py.plot(t_sec_array, exact_x_array, label='exact')\n",
    "\n",
    "py.axis('equal')\n",
    "\n",
    "py.xlabel('t(sec)')\n",
    "py.ylabel('x(m)')\n",
    "\n",
    "py.legend(loc=0)\n",
    "py.grid(True)\n"
   ]
  },
  {
   "cell_type": "markdown",
   "metadata": {},
   "source": [
    "그러나 앞으로 만나게 될 미분 방정식은 더 높은 차수의 미분을 포함할 수 있다.<br>However, in the future, we may meet differential equations including higher order differentiation."
   ]
  },
  {
   "cell_type": "markdown",
   "metadata": {},
   "source": [
    "## 2계 (비선형) 상미분 방정식<br>Second order (Nonlinear) Ordinary Differential Equation"
   ]
  },
  {
   "cell_type": "markdown",
   "metadata": {},
   "source": [
    "예를 들어 단진자가 어떻게 움직이는지 다음과 같이 묘사할 수 있다.<br>\n",
    "For example, we can describe how a simple pendulum moves as follows.<br>\n",
    "Ref : Wikipedia contributors, 'Pendulum (mathematics)', Wikipedia, The Free Encyclopedia, 2 June 2018, 13:28 UTC, <https://en.wikipedia.org/w/index.php?title=Pendulum_(mathematics)&oldid=844080803> [accessed 5 August 2018]"
   ]
  },
  {
   "cell_type": "markdown",
   "metadata": {},
   "source": [
    "$$\n",
    "\\frac{d^2\\theta}{dt^2} + \\frac{g}{l}sin\\theta = 0\n",
    "$$"
   ]
  },
  {
   "cell_type": "markdown",
   "metadata": {},
   "source": [
    "위 상미분 방정식은 $\\theta$의 2계 미분과 $sin\\theta$ 를 포함하고 있다.<br>The ordinary differential equation above includes a second order derivative of $\\theta$ and $sin\\theta$."
   ]
  },
  {
   "cell_type": "markdown",
   "metadata": {},
   "source": [
    "여기서 $sin\\theta$ 는 비선형으로, 위 해당 식은 2계 비선형 상미분 방정식이다.<br>Here $sin\\theta$ is nonlinear; thus the equation above is a second order nonlinear ordinary differential equation."
   ]
  },
  {
   "cell_type": "markdown",
   "metadata": {},
   "source": [
    "해당 방정식을 풀기 위해 다음과 같이 $x_0$, $x_1$ 와 같은 상태변수를 도입하자.<br>To solve the equation, let's introduce state variables $x_0$ and $x_1$ as follows."
   ]
  },
  {
   "cell_type": "markdown",
   "metadata": {},
   "source": [
    "$$\n",
    "\\begin{cases}\n",
    "    x_0 = \\theta\\\\\n",
    "    x_1 = \\frac{d\\theta}{dt}  = \\frac{d}{dt}x_0\\\\\n",
    "\\end{cases}\n",
    "$$"
   ]
  },
  {
   "cell_type": "markdown",
   "metadata": {},
   "source": [
    "방정식의 각 항을 상태변수로 다시 써 보자.<br>Let's rewrite each term of the equation using the state variables."
   ]
  },
  {
   "cell_type": "markdown",
   "metadata": {},
   "source": [
    "$$\n",
    "\\begin{cases}\n",
    "    sin \\theta = sin x_0\\\\\n",
    "    \\frac{d^2\\theta}{dt^2} = \\frac{d}{dt} \\frac{d\\theta}{dt}= \\frac{d}{dt} x_1\\\\\n",
    "\\end{cases}\n",
    "$$"
   ]
  },
  {
   "cell_type": "markdown",
   "metadata": {},
   "source": [
    "다시 방정식에 대입해 보자.<br>Let's substitute back to the equation."
   ]
  },
  {
   "cell_type": "markdown",
   "metadata": {},
   "source": [
    "$$\n",
    "\\frac{dx_1}{dt} + \\frac{g}{l}sinx_0 = 0 \\\\\n",
    "\\frac{dx_1}{dt} =- \\frac{g}{l}sinx_0\n",
    "$$"
   ]
  },
  {
   "cell_type": "markdown",
   "metadata": {},
   "source": [
    "$x_0$와 $x_1$의 미분을 살펴 보자.<br>Let's take a look at the derivatives of $x_0$ and $x_1$."
   ]
  },
  {
   "cell_type": "markdown",
   "metadata": {},
   "source": [
    "$$\n",
    "\\begin{pmatrix}\n",
    "    \\frac{d}{dt}x_0\\\\\n",
    "    \\frac{d}{dt}x_1\n",
    "\\end{pmatrix} \n",
    "=\n",
    "\\begin{pmatrix}\n",
    "    x_1\\\\\n",
    "    -\\frac{g}{l}sinx_0\n",
    "\\end{pmatrix} \n",
    "$$"
   ]
  },
  {
   "cell_type": "markdown",
   "metadata": {},
   "source": [
    "이를 python 함수로 구현해 보자.<br>Let's implement this in a python function."
   ]
  },
  {
   "cell_type": "code",
   "execution_count": null,
   "metadata": {},
   "outputs": [],
   "source": [
    "g_mpsps = 9.8\n",
    "l_m = 0.3\n",
    "\n",
    "legends = ('$\\\\theta(deg)$', '$\\\\frac{d}{dt}\\\\theta(deg/s)$')\n",
    "ylabel = ''\n",
    "\n",
    "# Initial state\n",
    "x_0 = np.array([np.deg2rad(90), 0])\n",
    "\n",
    "def pendulum_NL(x, t):\n",
    "    \"\"\"\n",
    "    Parameters\n",
    "    ==========\n",
    "    x: array of theta and d(theta)/dt\n",
    "    t: time value\n",
    "    \n",
    "    Return Value\n",
    "    ============\n",
    "    One dimensional array of dx/dt\n",
    "    \"\"\"\n",
    "    \n",
    "    return np.array([x[1], (-g_mpsps/l_m)*np.sin(x[0])])\n"
   ]
  },
  {
   "cell_type": "markdown",
   "metadata": {},
   "source": [
    "전진 오일러법을 적용해 보자.<br>Let's apply the Forward Euler Method."
   ]
  },
  {
   "cell_type": "code",
   "execution_count": null,
   "metadata": {},
   "outputs": [],
   "source": [
    "# Time step interval\n",
    "delta_t = 0.1\n",
    "\n",
    "# Time array\n",
    "t_sec_array = np.arange(0, 6 + delta_t*0.5, delta_t)\n",
    "\n",
    "# *** ODE solver ***\n",
    "t_01, x_01 = forward_euler(pendulum_NL, t_sec_array, x_0)\n"
   ]
  },
  {
   "cell_type": "code",
   "execution_count": null,
   "metadata": {},
   "outputs": [],
   "source": [
    "x_result_array = np.array(x_01).T\n",
    "for label, x_result in zip(legends, x_result_array):\n",
    "    py.plot(t_01, np.rad2deg(x_result), label=label)\n",
    "# https://stackoverflow.com/questions/11481644/how-do-i-assign-multiple-labels-at-once-in-matplotlib\n",
    "\n",
    "py.xlabel('t(sec)')\n",
    "py.ylabel(ylabel)\n",
    "\n",
    "py.legend(loc=0)\n",
    "py.grid(True)\n"
   ]
  },
  {
   "cell_type": "markdown",
   "metadata": {},
   "source": [
    "위 근사해는 불안정해 보인다. $\\Delta t$를 줄여 보자.<br>The approximate solution looks unstable. Let's make $\\Delta t$ smaller."
   ]
  },
  {
   "cell_type": "code",
   "execution_count": null,
   "metadata": {},
   "outputs": [],
   "source": [
    "# Time step interval\n",
    "delta_t = 0.001\n",
    "\n",
    "# Time array\n",
    "t_sec_array = np.arange(0, 6 + delta_t*0.5, delta_t)\n",
    "\n",
    "# *** ODE solver ***\n",
    "t_01, x_01 = forward_euler(pendulum_NL, t_sec_array, x_0)\n"
   ]
  },
  {
   "cell_type": "code",
   "execution_count": null,
   "metadata": {},
   "outputs": [],
   "source": [
    "x_result_array = np.array(x_01).T\n",
    "for label, x_result in zip(legends, x_result_array):\n",
    "    py.plot(t_01, np.rad2deg(x_result), label=label)\n",
    "# https://stackoverflow.com/questions/11481644/how-do-i-assign-multiple-labels-at-once-in-matplotlib\n",
    "\n",
    "py.xlabel('t(sec)')\n",
    "py.ylabel(ylabel)\n",
    "\n",
    "py.legend(loc=0)\n",
    "py.grid(True)\n"
   ]
  },
  {
   "cell_type": "markdown",
   "metadata": {},
   "source": [
    "30cm 길이의 단진자로 시험해 보자.<br>Let's test using a 30cm simple pendulum."
   ]
  },
  {
   "cell_type": "markdown",
   "metadata": {},
   "source": [
    "## 높은 차수의 선형 상미분 방정식<br>Linear Ordinary Differential Equation of Higher Order"
   ]
  },
  {
   "cell_type": "markdown",
   "metadata": {},
   "source": [
    "위 예에서는 어떻게 2차 (비선형) 상미분 방정식에 전진 오일러법을 적용하는지 살펴보았다.<br>\n",
    "In the previous example, we observed how to apply forward euler method to a 2nd order (nonlinear) ordinary differential equation."
   ]
  },
  {
   "cell_type": "markdown",
   "metadata": {},
   "source": [
    "일반적으로, 우변이 0인 (모든 가능한) $n$차 선형 상미분 방정식은 다음과 같이 쓸 수 있다.<br>\n",
    "In general, we can write (all possible) $n$th order linear ordinary differential equation with right side zero as follows."
   ]
  },
  {
   "cell_type": "markdown",
   "metadata": {},
   "source": [
    "$$\n",
    "    a_0 \\frac{d^nx}{dt^n} + a_1 \\frac{d^{n-1}x}{dt^{n-1}} + a_2 \\frac{d^{n-2}x}{dt^{n-2}} + \\ldots + a_i  \\frac{d^{n-i}x}{dt^{n-i}} + \\ldots + a_{n-2} \\frac{d^2x}{dt^2} + a_{n-1} \\frac{dx}{dt} + a_n x = 0\n",
    "$$"
   ]
  },
  {
   "cell_type": "markdown",
   "metadata": {},
   "source": [
    "가장 높은 차수의 항만 남기고 모두 우변으로 옮겨 보자.<br>\n",
    "Let's move everyone to the right side except the highest order term."
   ]
  },
  {
   "cell_type": "markdown",
   "metadata": {},
   "source": [
    "$$\n",
    "\\begin{align}\n",
    "    a_0 \\frac{d^nx}{dt^n} &= \n",
    "    - a_1 \\frac{d^{n-1}x}{dt^{n-1}} \n",
    "    - a_2 \\frac{d^{n-2}x}{dt^{n-2}} \n",
    "    - \\ldots \n",
    "    - a_i  \\frac{d^{n-i}x}{dt^{n-i}} \n",
    "    - \\ldots \n",
    "    - a_{n-2} \\frac{d^2x}{dt^2} \n",
    "    - a_{n-1} \\frac{dx}{dt} \n",
    "    - a_n x \\\\\n",
    "    \\frac{d^nx}{dt^n} &= \n",
    "    - \\frac{a_1}{a_0} \\frac{d^{n-1}x}{dt^{n-1}} \n",
    "    - \\frac{a_2}{a_0} \\frac{d^{n-2}x}{dt^{n-2}} \n",
    "    - \\ldots \n",
    "    - \\frac{a_i}{a_0}  \\frac{d^{n-i}x}{dt^{n-i}} \n",
    "    - \\ldots \n",
    "    - \\frac{a_{n-2}}{a_0} \\frac{d^2x}{dt^2} \n",
    "    - \\frac{a_{n-1}}{a_0} \\frac{dx}{dt} \n",
    "    - \\frac{a_n}{a_0} x    \n",
    "\\end{align}\n",
    "$$"
   ]
  },
  {
   "cell_type": "markdown",
   "metadata": {},
   "source": [
    "앞과 마찬가지로, 최고 차수인 $n$ 개의 상태변수를 도입해 보자.<br>As before, let's introduce $n$, the highest order, state variables."
   ]
  },
  {
   "cell_type": "markdown",
   "metadata": {},
   "source": [
    "$$\n",
    "\\mathbf{q}=\n",
    "\\begin{pmatrix}\n",
    "    q_0 \\\\ q_1 \\\\ q_2 \\\\ \\vdots \\\\ q_i \\\\ \\vdots \\\\ q_{n-2} \\\\ q_{n-1}\n",
    "\\end{pmatrix}\n",
    "=\n",
    "\\begin{pmatrix}\n",
    "    x \\\\ \\frac{d}{dt}x \\\\ \\frac{d^2}{dt^2}x \\\\ \\vdots \\\\ \\frac{d^i}{dt^i}x \\\\ \\vdots \\\\ \\frac{d^{n-2}}{dt^{n-2}}x \\\\ \\frac{d^{n-1}}{dt^{n-1}}x\n",
    "\\end{pmatrix}\n",
    "$$"
   ]
  },
  {
   "cell_type": "markdown",
   "metadata": {},
   "source": [
    "가장 높은 차수의 미분을 상태변수로 표시해 보자.<br>Let's indicate the highest order differentiation in the state variable form."
   ]
  },
  {
   "cell_type": "markdown",
   "metadata": {},
   "source": [
    "$$\n",
    "    \\frac{d^nx}{dt^n} = \n",
    "    - \\frac{a_1}{a_0} q_{n-1} \n",
    "    - \\frac{a_2}{a_0} q_{n-2} \n",
    "    - \\ldots \n",
    "    - \\frac{a_i}{a_0}  q_{n-i}\n",
    "    - \\ldots \n",
    "    - \\frac{a_{n-2}}{a_0} q_{2} \n",
    "    - \\frac{a_{n-1}}{a_0} q_{1} \n",
    "    - \\frac{a_n}{a_0} q_{0}\n",
    "$$"
   ]
  },
  {
   "cell_type": "markdown",
   "metadata": {},
   "source": [
    "시간에 대해 $\\mathbf{q}$ 를 미분해 보자.<br>Let's differentiate $\\mathbf{q}$ with respect to time."
   ]
  },
  {
   "cell_type": "markdown",
   "metadata": {},
   "source": [
    "$$\n",
    "\\frac{d}{dt}\\mathbf{q}=\n",
    "\\begin{pmatrix}\n",
    "    \\frac{d}{dt}q_0 \\\\ \\frac{d}{dt}q_1 \\\\ \\frac{d}{dt}q_2 \\\\ \\vdots \\\\ \\frac{d}{dt}q_i \\\\ \\vdots \\\\ \\frac{d}{dt}q_{n-2} \\\\ \\frac{d}{dt}q_{n-1}\n",
    "\\end{pmatrix}\n",
    "=\n",
    "\\begin{pmatrix}\n",
    "    \\frac{d}{dt}x \\\\ \\frac{d^2}{dt^2}x  \\\\ \\frac{d^3}{dt^3}x \\\\ \\vdots \\\\ \\frac{d^i}{dt^i}x \\\\ \\vdots \\\\ \\frac{d^{n-1}}{dt^{n-1}}x \\\\ \\frac{d^{n}}{dt^{n}}x\n",
    "\\end{pmatrix}\n",
    "=\n",
    "\\begin{pmatrix}\n",
    "q_1 \\\\ q_2 \\\\ q_3 \\\\ \\vdots \\\\ q_{i+1} \\\\ \\vdots \\\\ q_{n-1} \\\\ \n",
    "- \\frac{a_1}{a_0} q_{n-1} \n",
    "    - \\frac{a_2}{a_0} q_{n-2} \n",
    "    - \\ldots \n",
    "    - \\frac{a_i}{a_0}  q_{n-i}\n",
    "    - \\ldots \n",
    "    - \\frac{a_{n-2}}{a_0} q_{2} \n",
    "    - \\frac{a_{n-1}}{a_0} q_{1} \n",
    "    - \\frac{a_n}{a_0} q_{0}\n",
    "\\end{pmatrix}\n",
    "$$"
   ]
  },
  {
   "cell_type": "markdown",
   "metadata": {},
   "source": [
    "행렬 형태로 다시 쓸 수도 있다.<br>We can rewrite in a matrix form."
   ]
  },
  {
   "cell_type": "markdown",
   "metadata": {},
   "source": [
    "$n=4$인 경우를 생각해 보자.<br>Let's think about a case of $n=4$."
   ]
  },
  {
   "cell_type": "markdown",
   "metadata": {},
   "source": [
    "$$\n",
    "\\frac{d\\mathbf{q}}{dt}\n",
    "=\n",
    "\\begin{pmatrix}\n",
    "\\frac{d}{dt} q_0 \\\\ \\frac{d}{dt} q_1 \\\\ \\frac{d}{dt} q_2 \\\\ \\frac{d}{dt} q_3\n",
    "\\end{pmatrix}\n",
    "=\n",
    "\\begin{pmatrix}\n",
    "q_1 \\\\ q_2 \\\\ q_3 \\\\ \n",
    "- \\frac{a_4}{a_0}q_0 - \\frac{a_3}{a_0}q_1 - \\frac{a_2}{a_0}q_2 - \\frac{a_1}{a_0}q_3\n",
    "\\end{pmatrix}\n",
    "=\n",
    "\\begin{bmatrix}\n",
    "0 & 1 & 0 & 0 \\\\\n",
    "0 & 0 & 1 & 0 \\\\\n",
    "0 & 0 & 0 & 1 \\\\\n",
    "- \\frac{a_4}{a_0} & - \\frac{a_3}{a_0} & - \\frac{a_2}{a_0} & - \\frac{a_1}{a_0}\n",
    "\\end{bmatrix}\n",
    "\\begin{pmatrix}\n",
    "q_0 \\\\ q_1 \\\\ q_2 \\\\ q_3\n",
    "\\end{pmatrix}\n",
    "=\n",
    "\\mathbf{Aq}\n",
    "$$\n"
   ]
  },
  {
   "cell_type": "markdown",
   "metadata": {},
   "source": [
    "위 식의 의미는, $n$차 선형 상미분 방정식의 경우, $n$개의 1차 선형 상미분 방정식으로 바꾸어 풀 수 있다는 것이다.<br>\n",
    "The equation above means that we can solve a $n$th order linear ordinary differential equation by converting it to a system of $n$ first order linear differential equations."
   ]
  },
  {
   "cell_type": "markdown",
   "metadata": {},
   "source": [
    "다음 예를 살펴 보자.<br>Let's think about following example."
   ]
  },
  {
   "cell_type": "markdown",
   "metadata": {},
   "source": [
    "$$\n",
    "         \\frac{d^4x}{dt^4} \n",
    "         + 12 \\frac{d^3x}{dt^3} \n",
    "         + 54 \\frac{d^2x}{dt^2} \n",
    "         + 108 \\frac{dx}{dt} \n",
    "         + 80 x = 0\n",
    "$$"
   ]
  },
  {
   "cell_type": "markdown",
   "metadata": {},
   "source": [
    "연립 1차 선형 상미분 방정식으로는 다음과 같이 다시 쓸 수 있다.<br>We can rewrite in a system of linear ODE's as follows."
   ]
  },
  {
   "cell_type": "markdown",
   "metadata": {},
   "source": [
    "$$\n",
    "\\frac{d\\mathbf{q}}{dt}\n",
    "=\n",
    "\\begin{bmatrix}\n",
    "0 & 1 & 0 & 0 \\\\\n",
    "0 & 0 & 1 & 0 \\\\\n",
    "0 & 0 & 0 & 1 \\\\\n",
    "- 80 & - 108 & - 54 & -12\n",
    "\\end{bmatrix}\n",
    "\\begin{pmatrix}\n",
    "q_0 \\\\ q_1 \\\\ q_2 \\\\ q_3\n",
    "\\end{pmatrix}\n",
    "=\n",
    "\\mathbf{Aq}\n",
    "$$\n"
   ]
  },
  {
   "cell_type": "markdown",
   "metadata": {},
   "source": [
    "여기서 상태변수는 다음과 같다.<br>Here, state variables are as follows."
   ]
  },
  {
   "cell_type": "markdown",
   "metadata": {},
   "source": [
    "$$\n",
    "\\mathbf{q} = \\begin{pmatrix}q_0 & q_1 & q_2 & q_3 \\end{pmatrix}^T = \\begin{pmatrix}x & \\frac{dx}{dt} & \\frac{d^2x}{dt^2} & \\frac{d^3x}{dt^3} \\end{pmatrix}^T\n",
    "$$"
   ]
  },
  {
   "cell_type": "markdown",
   "metadata": {},
   "source": [
    "python 함수 형태로도 써 보자.<br>Let's write a python function, too."
   ]
  },
  {
   "cell_type": "code",
   "execution_count": null,
   "metadata": {},
   "outputs": [],
   "source": [
    "matrix_A = np.matrix([\n",
    "        [0, 1, 0, 0],\n",
    "        [0, 0, 1, 0],\n",
    "        [0, 0, 0, 1],\n",
    "        [-80, -108, -54, -12],]\n",
    ")\n",
    "\n",
    "legends = (f'$q_{k}$' for k in range(matrix_A.shape[0]))\n",
    "\n",
    "ylabel = '$\\mathbf{q}$'\n",
    "\n",
    "def fourth_order(q, t):\n",
    "    \"\"\"\n",
    "    Parameters\n",
    "    ==========\n",
    "    q: array of q_0, q_1, q_2, and q_3\n",
    "    t: time value\n",
    "    \n",
    "    Return Value\n",
    "    ============\n",
    "    One dimensional array of dq/dt\n",
    "    \"\"\"\n",
    "\n",
    "    q_column = np.matrix(q).T\n",
    "    qdot_column = matrix_A * q_column\n",
    "    \n",
    "    qdot_array = np.array(qdot_column.T).flatten()\n",
    "    \n",
    "    return qdot_array\n"
   ]
  },
  {
   "cell_type": "markdown",
   "metadata": {},
   "source": [
    "전진 오일러법을 적용해 보자.<br>Let's apply the Forward Euler Method."
   ]
  },
  {
   "cell_type": "code",
   "execution_count": null,
   "metadata": {},
   "outputs": [],
   "source": [
    "# Time step interval\n",
    "delta_t = 0.01\n",
    "\n",
    "# Time array\n",
    "t_sec_array = np.arange(0, 6 + delta_t*0.5, delta_t)\n",
    "\n",
    "# Initial state\n",
    "x_0 = np.array([1, 0, 0, 0])\n",
    "\n",
    "# *** ODE solver ***\n",
    "t, q_list = forward_euler(fourth_order, t_sec_array, x_0)\n"
   ]
  },
  {
   "cell_type": "code",
   "execution_count": null,
   "metadata": {},
   "outputs": [],
   "source": [
    "q_result_array = np.array(q_list).T\n",
    "for label, q_result in zip(legends, q_result_array):\n",
    "    py.plot(t, q_result, label=label)\n",
    "# https://stackoverflow.com/questions/11481644/how-do-i-assign-multiple-labels-at-once-in-matplotlib\n",
    "\n",
    "py.xlabel('t(sec)')\n",
    "py.ylabel(ylabel)\n",
    "\n",
    "py.legend(loc=0)\n",
    "py.grid(True)\n"
   ]
  },
  {
   "cell_type": "markdown",
   "metadata": {},
   "source": [
    "## 부록: 각 상태 변수 점에서 단진자 상태 변수 변화 방향<br>Appendix: Directions of simple pendulum state variable change at each state variable point"
   ]
  },
  {
   "cell_type": "markdown",
   "metadata": {},
   "source": [
    "단진자 사례의 상태변수는 $\\left(\\theta, \\frac{d}{dt}\\theta\\right)$로 2차원 좌표 평면의 각 점이 한 상태를 표시하는 것으로 생각할 수 있다. <br>State variables of the simple pendulum are $\\left(\\theta, \\frac{d}{dt}\\theta\\right)$ thus we can think that each point of a 2D plane represent one possible state."
   ]
  },
  {
   "cell_type": "markdown",
   "metadata": {},
   "source": [
    "각 상태에서 상태변수의 변화의 방향 $\\left(\\frac{d}{dt}\\theta, \\frac{d^2}{dt^2}\\theta \\right)$ 을 표시해 보자.<br>At each state, let's present the direction of state variable change $\\left(\\frac{d}{dt}\\theta, \\frac{d^2}{dt^2}\\theta \\right)$."
   ]
  },
  {
   "cell_type": "code",
   "execution_count": null,
   "metadata": {},
   "outputs": [],
   "source": [
    "def ode_slopes_2states_cartesian(func, theta_rad_list, theta_dot_rad_list, time_list):\n",
    "    \"\"\"\n",
    "    Plot field of arrows indicating derivatives of the state\n",
    "    :param func:\n",
    "    :param theta_rad_list:\n",
    "    :param theta_dot_rad_list:\n",
    "    :param time_list:\n",
    "    :return:\n",
    "    \"\"\"\n",
    "\n",
    "    # cartesian coordinate\n",
    "    y_rad = np.meshgrid(theta_rad_list, theta_dot_rad_list)\n",
    "\n",
    "    # derivatives of state at each point\n",
    "    y_rad_dot = func(y_rad, time_list)\n",
    "\n",
    "    # color\n",
    "    color_mesh = np.sqrt(y_rad_dot[0] * y_rad_dot[0] + y_rad_dot[1] * y_rad_dot[1])\n",
    "\n",
    "    py.figure(figsize=(18, 18))\n",
    "    py.axis('equal')\n",
    "    py.quiver(py.rad2deg(y_rad[0]), py.rad2deg(y_rad[1]), py.rad2deg(y_rad_dot[0]), py.rad2deg(y_rad_dot[1]), color_mesh, angles='xy')\n",
    "    l, r, b, t = py.axis()\n",
    "    x_span, y2_mesh = r - l, t - b\n",
    "    py.axis([l - 0.05 * x_span, r + 0.05 * x_span, b - 0.05 * y2_mesh, t + 0.05 * y2_mesh])\n",
    "    py.grid()\n"
   ]
  },
  {
   "cell_type": "code",
   "execution_count": null,
   "metadata": {
    "scrolled": false
   },
   "outputs": [],
   "source": [
    "time_list = []\n",
    "\n",
    "# list of theta\n",
    "theta_rad_list = np.deg2rad(np.arange(-540, 540+1, 30))\n",
    "\n",
    "# list of theta_dot\n",
    "theta_dot_rad_list = np.deg2rad(np.arange(-540, 540+1, 45))\n",
    "ode_slopes_2states_cartesian(pendulum_NL, theta_rad_list, theta_dot_rad_list, time_list)\n",
    "\n",
    "py.plot(py.rad2deg(x_result_array[0]), py.rad2deg(x_result_array[1]), 'r-')\n",
    "\n",
    "ax = py.gca()\n",
    "\n",
    "xlims = py.xlim()\n",
    "# http://matplotlib.1069221.n5.nabble.com/How-do-I-set-grid-spacing-td9968.html\n",
    "ax.set_xticks(np.hstack([np.arange(0, xlims[1]+1, 90), np.arange(-90, xlims[0]-1, -90)]))\n",
    "\n",
    "ylims = py.ylim()\n",
    "# http://matplotlib.1069221.n5.nabble.com/How-do-I-set-grid-spacing-td9968.html\n",
    "ax.set_yticks(np.hstack([np.arange(0, ylims[1]+1, 90), np.arange(-90, ylims[0]-1, -90)]))\n",
    "\n",
    "py.xlabel('$\\\\theta(deg)$')\n",
    "py.ylabel('$\\\\frac{d}{dt}\\\\theta(deg/sec)$')\n",
    "py.title('Simple pendulum')\n"
   ]
  },
  {
   "cell_type": "markdown",
   "metadata": {},
   "source": [
    "## 도전 과제<br>Try This"
   ]
  },
  {
   "cell_type": "markdown",
   "metadata": {},
   "source": [
    "다음 2계 선형 상미분 방정식의 수치해를 전진 오일러법으로 구하시오:<br>\n",
    "Find the numerical solutions of the following second order linear ordinary equation using Forward Euler Method:\n",
    "\n",
    "$$\n",
    "\\begin{align}\n",
    "\\frac{d^2}{dt^2}x(t) + 2\\frac{d}{dt}x(t) + 2x(t) &= 0 \\\\\n",
    "x(0) &= 0 \\\\\n",
    "\\frac{d}{dt}x(0) &= 1\n",
    "\\end{align}\n",
    "$$"
   ]
  },
  {
   "cell_type": "markdown",
   "metadata": {},
   "source": [
    "다음 2계 선형 상미분 방정식의 수치해를 전진 오일러법으로 구하시오:<br>\n",
    "Find the numerical solutions of the following second order linear ordinary equation using Forward Euler Method:\n",
    "\n",
    "$$\n",
    "\\begin{align}\n",
    "\\frac{d^2}{dt^2}x(t) + 4\\frac{d}{dt}x(t) + 3x(t) &= 0 \\\\\n",
    "x(0) &= 0 \\\\\n",
    "\\frac{d}{dt}x(0) &= 1\n",
    "\\end{align}\n",
    "$$"
   ]
  },
  {
   "cell_type": "code",
   "execution_count": null,
   "metadata": {},
   "outputs": [],
   "source": []
  }
 ],
 "metadata": {
  "kernelspec": {
   "display_name": "Python 3",
   "language": "python",
   "name": "python3"
  },
  "language_info": {
   "codemirror_mode": {
    "name": "ipython",
    "version": 3
   },
   "file_extension": ".py",
   "mimetype": "text/x-python",
   "name": "python",
   "nbconvert_exporter": "python",
   "pygments_lexer": "ipython3",
   "version": "3.6.4"
  }
 },
 "nbformat": 4,
 "nbformat_minor": 2
}
