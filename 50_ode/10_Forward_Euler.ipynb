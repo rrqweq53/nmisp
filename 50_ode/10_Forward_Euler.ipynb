{
 "cells": [
  {
   "cell_type": "code",
   "execution_count": null,
   "metadata": {},
   "outputs": [],
   "source": [
    "# 그래프, 수학 기능 추가\n",
    "# Add graph and math features\n",
    "import pylab as py\n",
    "import numpy as np\n",
    "import numpy.linalg as nl\n",
    "# 기호 연산 기능 추가\n",
    "# Add symbolic operation capability\n",
    "import sympy as sy"
   ]
  },
  {
   "cell_type": "code",
   "execution_count": null,
   "metadata": {},
   "outputs": [],
   "source": [
    "sy.init_printing()"
   ]
  },
  {
   "cell_type": "markdown",
   "metadata": {},
   "source": [
    "# 상미분방정식을 위한 전진 오일러법<br>Forward Euler Method for Ordinary Differntial Equation"
   ]
  },
  {
   "cell_type": "markdown",
   "metadata": {},
   "source": [
    "[![Euler's method | Differential equations| AP Calculus BC | Khan Academy](https://i.ytimg.com/vi/q87L9R9v274/hqdefault.jpg)](https://www.youtube.com/watch?v=q87L9R9v274)\n",
    "\n"
   ]
  },
  {
   "cell_type": "markdown",
   "metadata": {},
   "source": [
    "## 여러 $(t, x)$ 지점에서의 기울기<br>Slopes at $(t, x)$ points"
   ]
  },
  {
   "cell_type": "markdown",
   "metadata": {},
   "source": [
    "다시 한번 주어진 미분 방정식을 생각해 보자.<br>Let's think about the first order differential equation again."
   ]
  },
  {
   "cell_type": "markdown",
   "metadata": {},
   "source": [
    "$$\n",
    "\\left\\{\n",
    "    \\begin{align}\n",
    "        a_0 \\frac{d}{dt}x(t)+a_1 x(t)&=0 \\\\\n",
    "        x(0)&=x_0 \\\\\n",
    "    \\end{align}\n",
    "\\right.\n",
    "$$"
   ]
  },
  {
   "cell_type": "markdown",
   "metadata": {},
   "source": [
    "미분항을 남기고 나머지를 등호의 오른쪽으로 옮겨 보자.<br>Let's move terms except the differential to the right side of the equal sign."
   ]
  },
  {
   "cell_type": "markdown",
   "metadata": {},
   "source": [
    "$$\n",
    "a_0 \\frac{d}{dt}x(t)=-a_1 x(t)\n",
    "$$"
   ]
  },
  {
   "cell_type": "markdown",
   "metadata": {},
   "source": [
    "양변을 $a_0$로 나누어 보자.<br>Let's divide both sides with $a_0$."
   ]
  },
  {
   "cell_type": "markdown",
   "metadata": {},
   "source": [
    "$$\n",
    "\\frac{d}{dt}x(t)=-\\frac{a_1}{a_0} x(t)\n",
    "$$"
   ]
  },
  {
   "cell_type": "markdown",
   "metadata": {},
   "source": [
    "이 식의 의미를 한번 생각해 보자.<br>Let's think about the meaning of this equation."
   ]
  },
  {
   "cell_type": "markdown",
   "metadata": {},
   "source": [
    "위 미분방정식을 만족시키는 어떤 함수 $x(t)$의 $t=t_i$, $x=x_j$ 점에서의 $t$에 대한 기울기는 다음과 같을 것이라는 의미이다.<br>\n",
    "This equation indicates that a function $x(t)$ satisfying the differential equation above would have a slope as follows at a point of $t=t_i$ and $x=x_j$."
   ]
  },
  {
   "cell_type": "markdown",
   "metadata": {},
   "source": [
    "$$\n",
    "\\left.\\frac{d}{dt}x\\right|_{\\left(t, x\\right)=\\left(t_i,x_j\\right)}=-\\frac{a_1}{a_0} x_j\n",
    "$$"
   ]
  },
  {
   "cell_type": "markdown",
   "metadata": {},
   "source": [
    "이런식으로 $t$의 변화에 따른 $x$의 기울기 $\\frac{d}{dt}x(t)$ 를 모든 $(t, x)$ 점에서 구할 수 있다.<br>\n",
    "In this way, we can find all the $\\frac{d}{dx}x(t)$, slopes of $x$ with respect to the change of $t$ at all $(t, x)$ points."
   ]
  },
  {
   "cell_type": "markdown",
   "metadata": {},
   "source": [
    "## 기울기 시각화<br>Visualizing the slopes"
   ]
  },
  {
   "cell_type": "markdown",
   "metadata": {},
   "source": [
    "다음 예를 생각해 보자.<br>\n",
    "Let's think about an example as follows."
   ]
  },
  {
   "cell_type": "code",
   "execution_count": null,
   "metadata": {},
   "outputs": [],
   "source": [
    "a_0, a_1 = 2.0, 1.0"
   ]
  },
  {
   "cell_type": "markdown",
   "metadata": {},
   "source": [
    "$$\n",
    "\\left\\{\n",
    "    \\begin{align}\n",
    "        2 \\frac{d}{dt}x(t)+ x(t)&=0 \\\\\n",
    "        x(0)&=x_0 \\\\\n",
    "    \\end{align}\n",
    "\\right.\n",
    "$$"
   ]
  },
  {
   "cell_type": "markdown",
   "metadata": {},
   "source": [
    "기울기를 계산하는 파이썬 함수를 생각해 보자.<br>Let's think about a python function calculating the slope."
   ]
  },
  {
   "cell_type": "code",
   "execution_count": null,
   "metadata": {},
   "outputs": [],
   "source": [
    "def dx_dt(x, t):\n",
    "    return - a_1 * x / a_0"
   ]
  },
  {
   "cell_type": "markdown",
   "metadata": {},
   "source": [
    "예를 들어 $0 \\le t \\le 10$, $-6 \\le x \\le 6$ 인 영역에서 기울기를 그려 보자.<br>\n",
    "Let's plot slopes within the region of $0 \\le t \\le 10$ and $-6 \\le x \\le 6$."
   ]
  },
  {
   "cell_type": "code",
   "execution_count": null,
   "metadata": {},
   "outputs": [],
   "source": [
    "t_array = py.linspace(0, 10)\n",
    "x_array = py.linspace(-6, 6)"
   ]
  },
  {
   "cell_type": "code",
   "execution_count": null,
   "metadata": {},
   "outputs": [],
   "source": [
    "def ode_slope_1state_interval(func, delta_t, delta_x, te, ti, x_max, x_min):\n",
    "    time_list = np.arange(ti, te, delta_t)\n",
    "    x_list = np.arange(x_min, x_max + 0.5 * delta_x, delta_x)\n",
    "    ode_slope_1state(func, x_list, time_list)\n",
    "    return time_list\n",
    "\n",
    "\n",
    "def ode_slope_1state(func, x_list, time_list):\n",
    "    \"\"\"\n",
    "    Plot field of arrows indicating derivatives of the state\n",
    "    :param func:\n",
    "    :param x_list:\n",
    "    :param time_list:\n",
    "    :return:\n",
    "    \"\"\"\n",
    "    time_mesh, x_mesh = np.meshgrid(time_list, x_list)\n",
    "    u_mesh = np.ones_like(x_mesh)\n",
    "    v_mesh = func(x_mesh, time_mesh)\n",
    "    # magnitude as color\n",
    "    color_mesh = np.sqrt(u_mesh * u_mesh + v_mesh * v_mesh)\n",
    "\n",
    "    # https://stackoverflow.com/questions/29589119/plot-width-settings-in-ipython-notebook\n",
    "    py.figure(figsize=(12, 12))\n",
    "    py.quiver(time_mesh, x_mesh, u_mesh, v_mesh, color_mesh, angles='xy')\n",
    "    py.xlabel('t')\n",
    "    py.ylabel('x')\n",
    "    py.xlim((time_list[0] - (time_list[1] - time_list[0]) * 0.125, time_list[-1]))\n",
    "    py.ylim((min(x_list) - (x_list[1] - x_list[0]) * 0.125,\n",
    "                max(x_list) + (x_list[-1] - x_list[-2]) * 0.125))\n",
    "    py.grid(True)\n",
    "\n",
    "ode_slope_1state(dx_dt, x_array, t_array)\n",
    "py.savefig('slopes_t_x.png', dpi=300)\n"
   ]
  },
  {
   "cell_type": "markdown",
   "metadata": {},
   "source": [
    "엄밀해를 겹쳐 그려 보자<br>Let's overlap the exact solution."
   ]
  },
  {
   "cell_type": "markdown",
   "metadata": {},
   "source": [
    "$$x(t)=x_0 e^{-\\frac{a_1}{a_0} t}$$"
   ]
  },
  {
   "cell_type": "code",
   "execution_count": null,
   "metadata": {},
   "outputs": [],
   "source": [
    "x_0 = 4.5\n",
    "\n",
    "def exact(t):\n",
    "    return x_0 * py.exp((-a_1 / a_0) * t)\n",
    "\n",
    "x_exact_array = exact(t_array)\n",
    "\n",
    "ode_slope_1state(dx_dt, x_array, t_array)\n",
    "py.plot(t_array, x_exact_array, label='exact')\n",
    "\n",
    "py.legend(loc=0, fontsize='xx-large')\n",
    "\n",
    "py.savefig('slopes_t_x.svg')\n"
   ]
  },
  {
   "cell_type": "markdown",
   "metadata": {},
   "source": [
    "$t=0$에서의 $x$의 초기값에 따라 엄밀해가 달라질 수 있음을 기억하자.<br>Let's remember that the exact solution may vary depending on the initial value of $x$ at $t=0$."
   ]
  },
  {
   "cell_type": "markdown",
   "metadata": {},
   "source": [
    "이것을 이용해서 미분방정식의 해를 구해볼 수 있을까?<br>Using this, can we find a solution of a differential equation?"
   ]
  },
  {
   "cell_type": "markdown",
   "metadata": {},
   "source": [
    "## 전진 오일러법<br>Forward Euler Method"
   ]
  },
  {
   "cell_type": "markdown",
   "metadata": {},
   "source": [
    "$\\left(t,x\\right) = \\left(0, x_0\\right)$ 에서의 $x(t)$의 기울기를 생각해 보자.<br>\n",
    "Let's think about the slope of $x(t)$ at $\\left(t,x\\right) = \\left(0, x_0\\right)$."
   ]
  },
  {
   "cell_type": "markdown",
   "metadata": {},
   "source": [
    "$$\n",
    "\\left.\\frac{d}{dt}x\\right|_{\\left(t, x\\right)=\\left(0,x_0\\right)}=-\\frac{a_1}{a_0} x_0=s_0\n",
    "$$"
   ]
  },
  {
   "cell_type": "markdown",
   "metadata": {},
   "source": [
    "그렇다면, $(0, x_0)$점을 지나고 기울기가 $s_0=-\\frac{a_1}{a_0} x_0$ 인 직선을 생각할 수 있다.<br>\n",
    "Then, we can think about a line passing through $(0, x_0)$ with the slope of $s_0=-\\frac{a_1}{a_0} x_0$."
   ]
  },
  {
   "cell_type": "markdown",
   "metadata": {},
   "source": [
    "$$\n",
    "x=-\\frac{a_1}{a_0} x_0 \\left(t -  0 \\right) + x_0=s_0\\left(t -  0 \\right) + x_0\n",
    "$$"
   ]
  },
  {
   "cell_type": "markdown",
   "metadata": {},
   "source": [
    "이 직선을 따라 $t_1=t_0 + \\Delta t = 0 + 0.5$ 까지 *전진*해 보자.<br>\n",
    "Following this line, let's move *forward* to $t_1=t_0 + \\Delta t = 0 + 0.5$."
   ]
  },
  {
   "cell_type": "code",
   "execution_count": null,
   "metadata": {},
   "outputs": [],
   "source": [
    "# An initial point\n",
    "t_0 = 0\n",
    "x_0 = 4.5\n",
    "# time step\n",
    "delta_t = 0.5\n",
    "\n",
    "# Indicate the initial point\n",
    "py.plot(t_0, x_0, 'o')\n",
    "py.text(t_0, x_0, '$(t_0, x_0)$')\n",
    "\n",
    "# Slope at the initial point\n",
    "s_0 = dx_dt(x_0, t_0)\n",
    "\n",
    "# Straight line to next time step\n",
    "t_0_array = py.linspace(0, delta_t)\n",
    "x_0_array = s_0 * (t_0_array - t_0) + x_0\n",
    "\n",
    "# (t_1, x_1) point\n",
    "t_1, x_1 = t_0_array[-1], x_0_array[-1]\n",
    "\n",
    "py.plot(t_0_array, x_0_array, label='$x=s_0(t-0)+x_0$')\n",
    "py.plot(t_1, x_1, 'o')\n",
    "py.text(t_1, x_1, '$(t_1, x_1)$')\n",
    "\n",
    "py.axis('equal')\n",
    "\n",
    "py.xlim(xmin=-4, xmax=4)\n",
    "py.ylim(ymin=0, ymax=6)\n",
    "\n",
    "py.xlabel('t(sec)')\n",
    "py.ylabel('x(m)')\n",
    "\n",
    "py.legend(loc=0)\n",
    "py.grid(True)"
   ]
  },
  {
   "cell_type": "markdown",
   "metadata": {},
   "source": [
    "$(t_1, x_1)$ 에서의 기울기 $s_1$ 과 그러한 기울기를 가지고 $\\left(t_1, x_1\\right)$ 을 지나는 직선은 다음과 같다.<br>\n",
    "The slope $s_1$ at $\\left(t_1, x_1\\right)$ and another line with such slope and passing $\\left(t_1, x_1\\right)$ would be as follows."
   ]
  },
  {
   "cell_type": "markdown",
   "metadata": {},
   "source": [
    "$$\n",
    "\\begin{align}\n",
    "\\left.\\frac{d}{dt}x\\right|_{\\left(t, x\\right) = \\left(t_1,x_1\\right)} &=-\\frac{a_1}{a_0} x_1=s_1 \\\\\n",
    "x & = s_1\\left(t - t_1 \\right) + x_1\n",
    "\\end{align}\n",
    "$$"
   ]
  },
  {
   "cell_type": "code",
   "execution_count": null,
   "metadata": {},
   "outputs": [],
   "source": [
    "# Indicate the initial point\n",
    "py.plot(t_0, x_0, 'o')\n",
    "py.text(t_0, x_0, '$(t_0, x_0)$')\n",
    "\n",
    "# Indicate the line from (t_0, x_0) with slope s_0\n",
    "py.plot(t_0_array, x_0_array, label='$x=s_0(t-0)+x_0$')\n",
    "\n",
    "# Indicate (t_1, x_1) point\n",
    "py.plot(t_1, x_1, 'o')\n",
    "py.text(t_1, x_1, '$(t_1, x_1)$')\n",
    "\n",
    "# Slope at (t_1, x_1) point\n",
    "\n",
    "s_1 = dx_dt(x_1, t_1)\n",
    "\n",
    "# Straight line to next time step\n",
    "t_1_array = py.linspace(t_1, t_1 + delta_t)\n",
    "x_1_array = s_1 * (t_1_array - t_1) + x_1\n",
    "\n",
    "# (t_2, x_2) point\n",
    "t_2, x_2 = t_1_array[-1], x_1_array[-1]\n",
    "\n",
    "# Indicate the line from (t_1, x_1) with slope s_1\n",
    "py.plot(t_1_array, x_1_array, label='$x=s_1(t-1)+x_1$')\n",
    "\n",
    "# Indicate (t_1, x_1) point\n",
    "py.plot(t_2, x_2, 'o')\n",
    "py.text(t_2, x_2, '$(t_2, x_2)$')\n",
    "\n",
    "py.axis('equal')\n",
    "\n",
    "py.xlim(xmin=-4, xmax=4)\n",
    "py.ylim(ymin=0, ymax=6)\n",
    "\n",
    "py.xlabel('t(sec)')\n",
    "py.ylabel('x(m)')\n",
    "\n",
    "py.legend(loc=0)\n",
    "py.grid(True)"
   ]
  },
  {
   "cell_type": "markdown",
   "metadata": {},
   "source": [
    "엄밀해와 비교해 보자.<br>Let's compare with the exact solution."
   ]
  },
  {
   "cell_type": "code",
   "execution_count": null,
   "metadata": {},
   "outputs": [],
   "source": [
    "# Indicate the initial point\n",
    "py.plot(t_0, x_0, 'o')\n",
    "py.text(t_0, x_0, '$(t_0, x_0)$')\n",
    "\n",
    "# Indicate the line from (t_0, x_0) with slope s_0\n",
    "py.plot(t_0_array, x_0_array, label='$x=s_0(t-0)+x_0$')\n",
    "\n",
    "# Indicate (t_1, x_1) point\n",
    "py.plot(t_1, x_1, 'o')\n",
    "py.text(t_1, x_1, '$(t_1, x_1)$')\n",
    "\n",
    "# Slope at (t_1, x_1) point\n",
    "\n",
    "s_1 = dx_dt(x_1, t_1)\n",
    "\n",
    "# Straight line to next time step\n",
    "t_1_array = py.linspace(t_1, t_1 + delta_t)\n",
    "x_1_array = s_1 * (t_1_array - t_1) + x_1\n",
    "\n",
    "# (t_2, x_2) point\n",
    "t_2, x_2 = t_1_array[-1], x_1_array[-1]\n",
    "\n",
    "# Indicate the line from (t_1, x_1) with slope s_1\n",
    "py.plot(t_1_array, x_1_array, label='$x=s_1(t-1)+x_1$')\n",
    "\n",
    "# Indicate (t_1, x_1) point\n",
    "py.plot(t_2, x_2, 'o')\n",
    "py.text(t_2, x_2, '$(t_2, x_2)$')\n",
    "\n",
    "# Indicate the exact solution\n",
    "t_array = py.linspace(t_0, t_2)\n",
    "exact_x_array = exact(t_array)\n",
    "py.plot(t_array, exact_x_array, label='exact')\n",
    "\n",
    "py.axis('equal')\n",
    "\n",
    "py.xlim(xmin=-4, xmax=4)\n",
    "py.ylim(ymin=0, ymax=6)\n",
    "\n",
    "py.xlabel('t(sec)')\n",
    "py.ylabel('x(m)')\n",
    "\n",
    "py.legend(loc=0)\n",
    "py.grid(True)"
   ]
  },
  {
   "cell_type": "markdown",
   "metadata": {},
   "source": [
    "$t$값이 커 짐에 따라, 엄밀해와 $x_1$의 오차 보다 엄밀해와 $x_2$ 사이의 오차가 커지는 것을 볼 수 있다.<br>\n",
    "As $t$ increases, the error between $x_2$ and the exact solution is larger than the error between $x_1$ and the exact solution."
   ]
  },
  {
   "cell_type": "markdown",
   "metadata": {},
   "source": [
    "## 함수로 변환<br>Convert to a function"
   ]
  },
  {
   "cell_type": "markdown",
   "metadata": {},
   "source": [
    "사용상 편리를 위해 함수를 만들어 보자.<br>To make it easier to use, let's make it a function."
   ]
  },
  {
   "cell_type": "code",
   "execution_count": null,
   "metadata": {},
   "outputs": [],
   "source": [
    "def forward_euler(f, t_array, x_0):\n",
    "    time_list = [t_array[0]]\n",
    "    result_list = [x_0]\n",
    "\n",
    "    x_i = x_0\n",
    "\n",
    "    for k, t_i in enumerate(t_array[:-1]):\n",
    "        # time step\n",
    "        delta_t = t_array[k+1] - t_array[k]\n",
    "\n",
    "        # slope\n",
    "        s_i = f(x_i, t_i)\n",
    "\n",
    "        # x[i + 1]\n",
    "        x_i_plus_1 = x_i + s_i * delta_t\n",
    "\n",
    "        time_list.append(t_array[k+1])\n",
    "        result_list.append(x_i_plus_1)\n",
    "        \n",
    "        x_i = x_i_plus_1\n",
    "\n",
    "    return time_list, result_list\n"
   ]
  },
  {
   "cell_type": "markdown",
   "metadata": {},
   "source": [
    "다시 그려 보자.<br>Let's plot again."
   ]
  },
  {
   "cell_type": "code",
   "execution_count": null,
   "metadata": {},
   "outputs": [],
   "source": [
    "# Time step interval\n",
    "delta_t = 0.5\n",
    "\n",
    "# Time array\n",
    "t_sec_array = np.arange(0, 1 + delta_t*0.5, delta_t)\n",
    "\n",
    "# Initial state\n",
    "x_0 = 4.5\n",
    "\n",
    "# *** new function ***\n",
    "t, x = forward_euler(dx_dt, t_sec_array, x_0)\n",
    "# *** new function ***\n",
    "\n",
    "py.plot(t, x, 'o-')\n",
    "\n",
    "for k in range(len(t)):\n",
    "    py.text(t[k], x[k], f'$(t_{k}, x_{k})$')\n",
    "\n",
    "# Indicate the exact solution\n",
    "t_array = py.linspace(t_0, t_2)\n",
    "exact_x_array = exact(t_array)\n",
    "py.plot(t_array, exact_x_array, label='exact')\n",
    "\n",
    "py.axis('equal')\n",
    "\n",
    "py.xlim(xmin=-4, xmax=4)\n",
    "py.ylim(ymin=0, ymax=6)\n",
    "\n",
    "py.xlabel('t(sec)')\n",
    "py.ylabel('x(m)')\n",
    "\n",
    "py.legend(loc=0)\n",
    "py.grid(True)"
   ]
  },
  {
   "cell_type": "markdown",
   "metadata": {},
   "source": [
    "## $\\Delta t$ 간격의 영향<br>Influence of $\\Delta t$ interval"
   ]
  },
  {
   "cell_type": "markdown",
   "metadata": {},
   "source": [
    "오차를 줄일 수 있는 좋은 방법이 없을까?<br>Is there a good way to reduce the error?"
   ]
  },
  {
   "cell_type": "markdown",
   "metadata": {},
   "source": [
    "$\\Delta t=0.5$ 를 $\\Delta t=0.1$로 한번 줄여 보자.<br>Let's make $\\Delta t=0.5$ to $\\Delta t=0.1$."
   ]
  },
  {
   "cell_type": "code",
   "execution_count": null,
   "metadata": {},
   "outputs": [],
   "source": [
    "# Time step interval\n",
    "delta_t = 0.1\n",
    "\n",
    "# Time array\n",
    "t_sec_array = np.arange(0, 1 + delta_t*0.5, delta_t)\n",
    "\n",
    "# Initial state\n",
    "x_0 = 4.5\n",
    "\n",
    "# *** new function ***\n",
    "t_01, x_01 = forward_euler(dx_dt, t_sec_array, x_0)\n"
   ]
  },
  {
   "cell_type": "code",
   "execution_count": null,
   "metadata": {
    "scrolled": true
   },
   "outputs": [],
   "source": [
    "py.plot(t, x, 'o-', label='$\\Delta t=0.5$')\n",
    "py.plot(t_01, x_01, '.-', label='$\\Delta t=0.1$')\n",
    "\n",
    "# Indicate the exact solution\n",
    "t_array = py.linspace(t_0, t_2)\n",
    "exact_x_array = exact(t_array)\n",
    "py.plot(t_array, exact_x_array, label='exact')\n",
    "\n",
    "py.axis('equal')\n",
    "\n",
    "py.xlim(xmin=-4, xmax=4)\n",
    "py.ylim(ymin=0, ymax=6)\n",
    "\n",
    "py.xlabel('t(sec)')\n",
    "py.ylabel('x(m)')\n",
    "\n",
    "py.legend(loc=0)\n",
    "py.grid(True)"
   ]
  },
  {
   "cell_type": "markdown",
   "metadata": {},
   "source": [
    "$\\Delta t$ 간격을 줄이면 오차에 어떤 영향을 미쳤는가?<br>How did reducing $\\Delta t$ interval influence the error?"
   ]
  },
  {
   "cell_type": "code",
   "execution_count": null,
   "metadata": {},
   "outputs": [],
   "source": []
  }
 ],
 "metadata": {
  "kernelspec": {
   "display_name": "Python 3",
   "language": "python",
   "name": "python3"
  },
  "language_info": {
   "codemirror_mode": {
    "name": "ipython",
    "version": 3
   },
   "file_extension": ".py",
   "mimetype": "text/x-python",
   "name": "python",
   "nbconvert_exporter": "python",
   "pygments_lexer": "ipython3",
   "version": "3.6.4"
  }
 },
 "nbformat": 4,
 "nbformat_minor": 2
}
