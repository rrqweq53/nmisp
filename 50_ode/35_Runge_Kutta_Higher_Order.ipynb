{
 "cells": [
  {
   "cell_type": "code",
   "execution_count": null,
   "metadata": {},
   "outputs": [],
   "source": [
    "# 그래프, 수학 기능 추가\n",
    "# Add graph and math features\n",
    "import pylab as py\n",
    "import numpy as np\n",
    "import numpy.linalg as nl\n",
    "# 기호 연산 기능 추가\n",
    "# Add symbolic operation capability\n",
    "import sympy as sy"
   ]
  },
  {
   "cell_type": "code",
   "execution_count": null,
   "metadata": {},
   "outputs": [],
   "source": [
    "sy.init_printing()"
   ]
  },
  {
   "cell_type": "markdown",
   "metadata": {},
   "source": [
    "# 룽게-쿠타법 (RK4) : 고차 상미방<br>Runge-Kutta Method (RK4) : Higher Order ODE"
   ]
  },
  {
   "cell_type": "markdown",
   "metadata": {},
   "source": [
    "## 단진자<br>Simple Pendulum"
   ]
  },
  {
   "cell_type": "markdown",
   "metadata": {},
   "source": [
    "다음 미분 방정식은 단진자의 운동을 묘사한다.<br>\n",
    "Following differential equation describes the motion of a simple pendulum.<br>\n",
    "Ref : Wikipedia contributors, 'Pendulum (mathematics)', Wikipedia, The Free Encyclopedia, 2 June 2018, 13:28 UTC, <https://en.wikipedia.org/w/index.php?title=Pendulum_(mathematics)&oldid=844080803> [accessed 5 August 2018]"
   ]
  },
  {
   "cell_type": "markdown",
   "metadata": {},
   "source": [
    "$$\n",
    "\\frac{d^2\\theta}{dt^2} + \\frac{g}{l}sin\\theta = 0\n",
    "$$"
   ]
  },
  {
   "cell_type": "markdown",
   "metadata": {},
   "source": [
    "상태변수는 다음과 같다고 가정하자.<br>\n",
    "Let's assume that the state variables are as follows."
   ]
  },
  {
   "cell_type": "markdown",
   "metadata": {},
   "source": [
    "$$\n",
    "\\mathbf{x}\n",
    "=\n",
    "\\begin{pmatrix}\n",
    "x_0\\\\\n",
    "x_1\n",
    "\\end{pmatrix}\n",
    "=\n",
    "\\begin{pmatrix}\n",
    "\\theta\\\\\n",
    "\\frac{d}{dt}\\theta\n",
    "\\end{pmatrix}\n",
    "$$"
   ]
  },
  {
   "cell_type": "markdown",
   "metadata": {},
   "source": [
    "상태변수의 미분은 다음과 같다.<br>Differentiation of the state variables are as follows."
   ]
  },
  {
   "cell_type": "markdown",
   "metadata": {},
   "source": [
    "$$\n",
    "\\frac{d}{dt}\n",
    "\\begin{pmatrix}\n",
    "    x_0\\\\\n",
    "    x_1\n",
    "\\end{pmatrix} \n",
    "=\n",
    "\\begin{pmatrix}\n",
    "    x_1\\\\\n",
    "    -\\frac{g}{l}sinx_0\n",
    "\\end{pmatrix} \n",
    "$$"
   ]
  },
  {
   "cell_type": "markdown",
   "metadata": {},
   "source": [
    "python 함수로 구현해 보면 다음과 같을 것이다.<br>\n",
    "One possible python implementation would be as follows."
   ]
  },
  {
   "cell_type": "code",
   "execution_count": null,
   "metadata": {},
   "outputs": [],
   "source": [
    "g_mpsps = 9.8\n",
    "l_m = 0.3\n",
    "\n",
    "legends = ('$\\\\theta(deg)$', '$\\\\frac{d}{dt}\\\\theta(deg/s)$')\n",
    "ylabel = ''\n",
    "\n",
    "# Initial state\n",
    "x_0 = np.array([np.deg2rad(90), 0])\n",
    "\n",
    "def pendulum_NL(x, t):\n",
    "    \"\"\"\n",
    "    Parameters\n",
    "    ==========\n",
    "    x: array of theta and d(theta)/dt\n",
    "    t: time value\n",
    "    \n",
    "    Return Value\n",
    "    ============\n",
    "    One dimensional array of dx/dt\n",
    "    \"\"\"\n",
    "    \n",
    "    return np.array([x[1], (-g_mpsps/l_m)*np.sin(x[0])])\n"
   ]
  },
  {
   "cell_type": "markdown",
   "metadata": {},
   "source": [
    "룽게-쿠타법을 오일러법, 훈법과 비교해보자.<br>Let's compare the Runge-Kutta method with Euler method, and Heun's method."
   ]
  },
  {
   "cell_type": "code",
   "execution_count": null,
   "metadata": {},
   "outputs": [],
   "source": [
    "def rk4_step(f, x0, t0, t1):\n",
    "    \"\"\"\n",
    "    One time step of Runge-Kutta method\n",
    "\n",
    "    f: dx_dt function\n",
    "    x0 : initial condition\n",
    "    t0 : this step time\n",
    "    t1 : next step time\n",
    "    \"\"\"\n",
    "    delta_t = (t1 - t0)\n",
    "    delta_t_half = delta_t * 0.5\n",
    "    t_half = t0 + delta_t_half\n",
    "    \n",
    "    # Step 1\n",
    "    s1 = f(x0, t0)\n",
    "\n",
    "    # Step 2\n",
    "    s2 = f(x0 + s1 * delta_t_half, t_half)\n",
    "\n",
    "    # Step 3\n",
    "    s3 = f(x0 + s2 * delta_t_half, t_half)\n",
    "\n",
    "    # Step 4\n",
    "    s4 = f(x0 + s3 * delta_t, t1)\n",
    "\n",
    "    # Step 5\n",
    "    s = (1.0 / 6.0) * (s1 + (s2 + s3) * 2 + s4)\n",
    "\n",
    "    # Step 6\n",
    "    x1 = x0 + s * delta_t\n",
    "\n",
    "    return x1\n"
   ]
  },
  {
   "cell_type": "code",
   "execution_count": null,
   "metadata": {},
   "outputs": [],
   "source": [
    "def rk4(f, t_array, x_0):\n",
    "    time_list = [t_array[0]]\n",
    "    result_list = [x_0]\n",
    "\n",
    "    x_i = x_0\n",
    "\n",
    "    for k, t_i in enumerate(t_array[:-1]):\n",
    "        # time step\n",
    "        x_i_plus_1 = rk4_step(f, x_i, t_i, t_array[k+1])\n",
    "\n",
    "        time_list.append(t_array[k+1])\n",
    "        result_list.append(x_i_plus_1)\n",
    "        \n",
    "        x_i = x_i_plus_1\n",
    "\n",
    "    return time_list, result_list\n"
   ]
  },
  {
   "cell_type": "code",
   "execution_count": null,
   "metadata": {},
   "outputs": [],
   "source": [
    "def euler(f, t_array, x_0):\n",
    "    time_list = [t_array[0]]\n",
    "    result_list = [x_0]\n",
    "\n",
    "    x_i = x_0\n",
    "\n",
    "    for k, t_i in enumerate(t_array[:-1]):\n",
    "        # time step\n",
    "        delta_t = t_array[k+1] - t_array[k]\n",
    "\n",
    "        # slope\n",
    "        s_i = f(x_i, t_i)\n",
    "\n",
    "        # x[i + 1]\n",
    "        x_i_plus_1 = x_i + s_i * delta_t\n",
    "\n",
    "        time_list.append(t_array[k+1])\n",
    "        result_list.append(x_i_plus_1)\n",
    "        \n",
    "        x_i = x_i_plus_1\n",
    "\n",
    "    return time_list, result_list\n"
   ]
  },
  {
   "cell_type": "code",
   "execution_count": null,
   "metadata": {},
   "outputs": [],
   "source": [
    "def heun(f, t_array, x_0):\n",
    "    time_list = [t_array[0]]\n",
    "    result_list = [x_0]\n",
    "\n",
    "    x_i = x_0\n",
    "\n",
    "    for k, t_i in enumerate(t_array[:-1]):\n",
    "        # time step\n",
    "        delta_t = t_array[k+1] - t_array[k]\n",
    "\n",
    "        # slope at i\n",
    "        s_i = f(x_i, t_i)\n",
    "\n",
    "        # x[i + 1] by Forward Euler\n",
    "        x_i_plus_1 = x_i + s_i * delta_t\n",
    "        \n",
    "        # slope at i + 1\n",
    "        s_i_plus_1 = f(x_i_plus_1, t_array[k+1])\n",
    "        \n",
    "        # average of slope\n",
    "        s_average = (s_i + s_i_plus_1) * 0.5\n",
    "        \n",
    "        # x[i + 1] by Modified Euler\n",
    "        x_i_plus_1_m = x_i + s_average * delta_t\n",
    "\n",
    "        time_list.append(t_array[k+1])\n",
    "        result_list.append(x_i_plus_1_m)\n",
    "        \n",
    "        x_i = x_i_plus_1_m\n",
    "\n",
    "    return time_list, result_list\n"
   ]
  },
  {
   "cell_type": "code",
   "execution_count": null,
   "metadata": {},
   "outputs": [],
   "source": [
    "# Time array\n",
    "delta_t = 0.001\n",
    "\n",
    "t_sec_array = np.arange(0, 6 + delta_t*0.5, delta_t)\n",
    "\n",
    "# *** Euler ***\n",
    "t_euler, x_euler = euler(pendulum_NL, t_sec_array, x_0)\n",
    "py.plot(t_euler, x_euler, '-', label='Euler')\n",
    "\n",
    "# *** Heun ***\n",
    "t_heun, x_heun = heun(pendulum_NL, t_sec_array, x_0)\n",
    "py.plot(t_heun, x_heun, '-', label='Heun')\n",
    "\n",
    "# *** RK4 ***\n",
    "t_rk4, x_rk4 = rk4(pendulum_NL, t_sec_array, x_0)\n",
    "py.plot(t_rk4, x_rk4, '-', label='RK4')\n",
    "\n",
    "py.xlabel('t(sec)')\n",
    "py.ylabel('x(m)')\n",
    "\n",
    "py.legend(loc=0)\n",
    "py.grid(True)\n"
   ]
  },
  {
   "cell_type": "markdown",
   "metadata": {},
   "source": [
    "## 4차 선형 상미방<br>Fourth Order Linear ODE"
   ]
  },
  {
   "cell_type": "markdown",
   "metadata": {},
   "source": [
    "$$\n",
    "         \\frac{d^4x}{dt^4} \n",
    "         + 12 \\frac{d^3x}{dt^3} \n",
    "         + 54 \\frac{d^2x}{dt^2} \n",
    "         + 108 \\frac{dx}{dt} \n",
    "         + 80 x = 0\n",
    "$$"
   ]
  },
  {
   "cell_type": "markdown",
   "metadata": {},
   "source": [
    "$$\n",
    "\\mathbf{q} = \\begin{pmatrix}q_0 & q_1 & q_2 & q_3 \\end{pmatrix}^T = \\begin{pmatrix}x & \\frac{dx}{dt} & \\frac{d^2x}{dt^2} & \\frac{d^3x}{dt^3} \\end{pmatrix}^T\n",
    "$$"
   ]
  },
  {
   "cell_type": "markdown",
   "metadata": {},
   "source": [
    "$$\n",
    "\\frac{d\\mathbf{q}}{dt}\n",
    "=\n",
    "\\begin{bmatrix}\n",
    "0 & 1 & 0 & 0 \\\\\n",
    "0 & 0 & 1 & 0 \\\\\n",
    "0 & 0 & 0 & 1 \\\\\n",
    "- 80 & - 108 & - 54 & -12\n",
    "\\end{bmatrix}\n",
    "\\begin{pmatrix}\n",
    "q_0 \\\\ q_1 \\\\ q_2 \\\\ q_3\n",
    "\\end{pmatrix}\n",
    "=\n",
    "\\mathbf{Aq}\n",
    "$$\n"
   ]
  },
  {
   "cell_type": "code",
   "execution_count": null,
   "metadata": {},
   "outputs": [],
   "source": [
    "matrix_A = np.matrix([\n",
    "        [0, 1, 0, 0],\n",
    "        [0, 0, 1, 0],\n",
    "        [0, 0, 0, 1],\n",
    "        [-80, -108, -54, -12],]\n",
    ")\n",
    "\n",
    "legends = (f'$q_{k}$' for k in range(matrix_A.shape[0]))\n",
    "\n",
    "ylabel = '$\\mathbf{q}$'\n",
    "\n",
    "def fourth_order(q, t):\n",
    "    \"\"\"\n",
    "    Parameters\n",
    "    ==========\n",
    "    q: array of q_0, q_1, q_2, and q_3\n",
    "    t: time value\n",
    "    \n",
    "    Return Value\n",
    "    ============\n",
    "    One dimensional array of dq/dt\n",
    "    \"\"\"\n",
    "\n",
    "    q_column = np.matrix(q).T\n",
    "    qdot_column = matrix_A * q_column\n",
    "    \n",
    "    qdot_array = np.array(qdot_column.T).flatten()\n",
    "    \n",
    "    return qdot_array\n",
    "\n",
    "# Initial state\n",
    "x_0 = np.array([1, 0, 0, 0])\n"
   ]
  },
  {
   "cell_type": "code",
   "execution_count": null,
   "metadata": {},
   "outputs": [],
   "source": [
    "# Time array\n",
    "delta_t = 0.08\n",
    "t_sec_array = np.arange(0, 6 + delta_t*0.5, delta_t)\n",
    "\n",
    "# *** Euler ***\n",
    "t_euler, x_euler_ode4 = euler(fourth_order, t_sec_array, x_0)\n",
    "\n",
    "# *** Heun ***\n",
    "t_heun, x_heun_ode4 = heun(fourth_order, t_sec_array, x_0)\n",
    "\n",
    "# *** RK4 ***\n",
    "t_rk4, x_rk4_ode4 = rk4(fourth_order, t_sec_array, x_0)\n",
    "\n",
    "# Convert to NumPy arrays\n",
    "x_euler_ode4_array, x_heun_ode4_array, x_rk4_ode4_array = (\n",
    "    np.array(x_euler_ode4), \n",
    "    np.array(x_heun_ode4), \n",
    "    np.array(x_rk4_ode4))\n",
    "\n",
    "py.figure(figsize=(10, 10))\n",
    "\n",
    "for i_state in range(x_euler_ode4_array.shape[1]):\n",
    "    py.subplot(x_euler_ode4_array.shape[1], 1, i_state+1)\n",
    "    py.plot(t_euler, x_euler_ode4_array[:, i_state], '-', label='Euler')\n",
    "    py.plot(t_heun, x_heun_ode4_array[:, i_state], '-', label='Heun')\n",
    "    py.plot(t_rk4, x_rk4_ode4_array[:, i_state], '-', label='RK4')\n",
    "\n",
    "    py.xlabel('t(sec)')\n",
    "    py.ylabel(f'$q_{i_state}$')\n",
    "\n",
    "    py.legend(loc=1)\n",
    "    py.grid(True)\n"
   ]
  },
  {
   "cell_type": "markdown",
   "metadata": {},
   "source": [
    "## 도전 과제<br>Try This"
   ]
  },
  {
   "cell_type": "markdown",
   "metadata": {},
   "source": [
    "다음 2계 선형 상미분 방정식의 수치해를 RK4법으로 구하시오:<br>\n",
    "Find the numerical solutions of the following second order linear ordinary equation using RK4 Method:\n",
    "\n",
    "$$\n",
    "\\begin{align}\n",
    "\\frac{d^2}{dt^2}x(t) + \\frac{d}{dt}x(t) + 4x(t) &= 0 \\\\\n",
    "x(0) &= 0 \\\\\n",
    "\\frac{d}{dt}x(0) &= 1\n",
    "\\end{align}\n",
    "$$"
   ]
  },
  {
   "cell_type": "markdown",
   "metadata": {},
   "source": [
    "다음 2계 선형 상미분 방정식의 수치해를 RK4법으로 구하시오:<br>\n",
    "Find the numerical solutions of the following second order linear ordinary equation using RK4 Method:\n",
    "\n",
    "$$\n",
    "\\begin{align}\n",
    "\\frac{d^2}{dt^2}x(t) + 2\\frac{d}{dt}x(t) + x(t) &= 0 \\\\\n",
    "x(0) &= 0 \\\\\n",
    "\\frac{d}{dt}x(0) &= 1\n",
    "\\end{align}\n",
    "$$"
   ]
  },
  {
   "cell_type": "code",
   "execution_count": null,
   "metadata": {},
   "outputs": [],
   "source": []
  }
 ],
 "metadata": {
  "kernelspec": {
   "display_name": "Python 3",
   "language": "python",
   "name": "python3"
  },
  "language_info": {
   "codemirror_mode": {
    "name": "ipython",
    "version": 3
   },
   "file_extension": ".py",
   "mimetype": "text/x-python",
   "name": "python",
   "nbconvert_exporter": "python",
   "pygments_lexer": "ipython3",
   "version": "3.6.5"
  }
 },
 "nbformat": 4,
 "nbformat_minor": 2
}
