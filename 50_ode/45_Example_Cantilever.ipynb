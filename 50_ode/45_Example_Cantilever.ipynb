{
 "cells": [
  {
   "cell_type": "code",
   "execution_count": null,
   "metadata": {},
   "outputs": [],
   "source": [
    "# 그래프, 수학 기능 추가\n",
    "# Add graph and math features\n",
    "import pylab as py\n",
    "import numpy as np\n",
    "import numpy.linalg as nl\n",
    "# 기호 연산 기능 추가\n",
    "# Add symbolic operation capability\n",
    "import sympy as sy"
   ]
  },
  {
   "cell_type": "code",
   "execution_count": null,
   "metadata": {},
   "outputs": [],
   "source": [
    "sy.init_printing()"
   ]
  },
  {
   "cell_type": "markdown",
   "metadata": {},
   "source": [
    "# 적용사례 : 오일러 베르누이 외팔보<br>Application Example : Euler-Bernoulli Cantilever"
   ]
  },
  {
   "cell_type": "markdown",
   "metadata": {},
   "source": [
    "룽게-쿠타법은 다음과 같이 구현할 수 있다.<br>We can implement the Runge-Kutta method as follows."
   ]
  },
  {
   "cell_type": "code",
   "execution_count": null,
   "metadata": {},
   "outputs": [],
   "source": [
    "def rk4_step(f, x0, t0, t1):\n",
    "    \"\"\"\n",
    "    One time step of Runge-Kutta method\n",
    "\n",
    "    f: dx_dt function\n",
    "    x0 : initial condition\n",
    "    t0 : this step time\n",
    "    t1 : next step time\n",
    "    \"\"\"\n",
    "    delta_t = (t1 - t0)\n",
    "    delta_t_half = delta_t * 0.5\n",
    "    t_half = t0 + delta_t_half\n",
    "    \n",
    "    # Step 1\n",
    "    s1 = f(x0, t0)\n",
    "\n",
    "    # Step 2\n",
    "    s2 = f(x0 + s1 * delta_t_half, t_half)\n",
    "\n",
    "    # Step 3\n",
    "    s3 = f(x0 + s2 * delta_t_half, t_half)\n",
    "\n",
    "    # Step 4\n",
    "    s4 = f(x0 + s3 * delta_t, t1)\n",
    "\n",
    "    # Step 5\n",
    "    s = (1.0 / 6.0) * (s1 + (s2 + s3) * 2 + s4)\n",
    "\n",
    "    # Step 6\n",
    "    x1 = x0 + s * delta_t\n",
    "\n",
    "    return x1\n"
   ]
  },
  {
   "cell_type": "code",
   "execution_count": null,
   "metadata": {},
   "outputs": [],
   "source": [
    "def rk4(f, t_array, x_0):\n",
    "    time_list = [t_array[0]]\n",
    "    result_list = [x_0]\n",
    "\n",
    "    x_i = x_0\n",
    "\n",
    "    for k, t_i in enumerate(t_array[:-1]):\n",
    "        # time step\n",
    "        x_i_plus_1 = rk4_step(f, x_i, t_i, t_array[k+1])\n",
    "\n",
    "        time_list.append(t_array[k+1])\n",
    "        result_list.append(x_i_plus_1)\n",
    "        \n",
    "        x_i = x_i_plus_1\n",
    "\n",
    "    return time_list, result_list\n"
   ]
  },
  {
   "cell_type": "markdown",
   "metadata": {},
   "source": [
    "## 오일러 베르누이 외팔보<br>Euler-Bernoulli Cantilever"
   ]
  },
  {
   "cell_type": "markdown",
   "metadata": {},
   "source": [
    "Ref : Wikipedia contributors, 'Euler–Bernoulli beam theory', Wikipedia, The Free Encyclopedia, 19 November 2018, 22:12 UTC, https://en.wikipedia.org/w/index.php?title=Euler%E2%80%93Bernoulli_beam_theory&oldid=869647128 [accessed 24 November 2018]"
   ]
  },
  {
   "cell_type": "markdown",
   "metadata": {},
   "source": [
    "외팔보는 한쪽 끝에서 처짐과 기울기가 0인 보 이다.<br>A cantilever is a beam with both zero deflection and rotation at one end."
   ]
  },
  {
   "cell_type": "markdown",
   "metadata": {},
   "source": [
    "오일러 베르누이 보 이론은 분포하중과 보의 처짐은 다음과 같은 관계를 가진다고 가정한다.<br>\n",
    "Euler-Bernoulli beam theory assumes that the deflection of a beam and the distributed load has following relationship."
   ]
  },
  {
   "cell_type": "markdown",
   "metadata": {},
   "source": [
    "$$\n",
    "\\frac{d^2}{dx^2} \\left( EI \\frac{d^2w(x)}{dx^2} \\right) = q(x)\n",
    "$$"
   ]
  },
  {
   "cell_type": "markdown",
   "metadata": {},
   "source": [
    "여기서 $w(x)$와 $q(x)$는 각각 보의 위치 $x$에서의 $z$방향 처짐과 분포하중이다.<br>\n",
    "Here, $w(x)$ and $q$ are, respectively, $z$ directional deflection and distributed load at a location $x$ of the beam."
   ]
  },
  {
   "cell_type": "markdown",
   "metadata": {},
   "source": [
    "단순화 하기 위해 $EI$는 일정하다고 가정하자.<br>\n",
    "To simplify, let's assume $EI$ is constant."
   ]
  },
  {
   "cell_type": "markdown",
   "metadata": {},
   "source": [
    "$$\n",
    "E[Nm^{-2}]I[m^4] \\frac{d^4w(x)}{dx^4}[m^{-3}] = q(x)[Nm^{-1}]\n",
    "$$"
   ]
  },
  {
   "cell_type": "markdown",
   "metadata": {},
   "source": [
    "상태 변수 $\\mathbb{r}(x)$ 를 다음과 같이 정해 보자.<br>\n",
    "Let state variable $\\mathbb{r}(x)$ be as follows."
   ]
  },
  {
   "cell_type": "markdown",
   "metadata": {},
   "source": [
    "$$\n",
    "\\mathbb{r}(x) \n",
    "= \n",
    "\\begin{pmatrix}\n",
    "r_0\\\\\n",
    "r_1\\\\\n",
    "r_2\\\\\n",
    "r_3\\\\\n",
    "\\end{pmatrix} \n",
    "= \n",
    "\\begin{pmatrix}\n",
    "w(x) \\\\\n",
    "\\frac{d}{dx}w(x) \\\\\n",
    "\\frac{d^2}{dx^2}w(x) \\\\\n",
    "\\frac{d^3}{dx^3}w(x) \\\\\n",
    "\\end{pmatrix}\n",
    "= \n",
    "\\begin{pmatrix}\n",
    "w(x) \\\\\n",
    "\\theta(x) \\\\\n",
    "(EI)^{-1}M(x) \\\\\n",
    "(EI)^{-1}V(x) \\\\\n",
    "\\end{pmatrix}\n",
    "$$"
   ]
  },
  {
   "cell_type": "markdown",
   "metadata": {},
   "source": [
    "여기서 $\\theta(x), M(x), V(x)$ 는 각각 $x$ 에서의 기울기, 모멘트, 전단력이다.<br>\n",
    "Here, $\\theta(x), M(x), V(x)$ are, repectively, slope, moment, and shear force at $x$."
   ]
  },
  {
   "cell_type": "markdown",
   "metadata": {},
   "source": [
    "미분해보자.<br>\n",
    "Let's differentiate."
   ]
  },
  {
   "cell_type": "markdown",
   "metadata": {},
   "source": [
    "$$\n",
    "\\frac{d}{dx}\\mathbb{r}(x) = \\begin{pmatrix}\n",
    "\\frac{d}{dx}w(x) \\\\\n",
    "\\frac{d^2}{dx^2}w(x) \\\\\n",
    "\\frac{d^3}{dx^3}w(x) \\\\\n",
    "\\frac{d^4}{dx^4}w(x) \\\\\n",
    "\\end{pmatrix}\n",
    "=\n",
    "\\begin{pmatrix}\n",
    "r_1\\\\\n",
    "r_2\\\\\n",
    "r_3\\\\\n",
    "(EI)^{-1}q(x) \\\\\n",
    "\\end{pmatrix}\n",
    "$$"
   ]
  },
  {
   "cell_type": "markdown",
   "metadata": {},
   "source": [
    "행렬로 다시 써 보면 다음과 같다.<br>\n",
    "Let's rewrite using matrices."
   ]
  },
  {
   "cell_type": "markdown",
   "metadata": {},
   "source": [
    "$$\n",
    "\\frac{d}{dx}\\mathbb{r}(x) = \n",
    "\\begin{bmatrix}\n",
    "0 & 1 & 0 & 0\\\\\n",
    "0 & 0 & 1 & 0\\\\\n",
    "0 & 0 & 0 & 1\\\\\n",
    "0 & 0 & 0 & 0\\\\\n",
    "\\end{bmatrix}\n",
    "\\begin{pmatrix}\n",
    "r_0\\\\\n",
    "r_1\\\\\n",
    "r_2\\\\\n",
    "r_3 \\\\\n",
    "\\end{pmatrix}\n",
    "+\n",
    "\\begin{pmatrix}\n",
    "0\\\\\n",
    "0\\\\\n",
    "0\\\\\n",
    "(EI)^{-1} \\\\\n",
    "\\end{pmatrix}\n",
    "q(x)\n",
    "$$"
   ]
  },
  {
   "cell_type": "markdown",
   "metadata": {},
   "source": [
    "$x=0$ 지점에서의 초기조건을 생각해 보자.<br>Let's think about the initial conditions at $x=0$."
   ]
  },
  {
   "cell_type": "markdown",
   "metadata": {},
   "source": [
    "$$\n",
    "\\mathbb{r}(0) \n",
    "= \n",
    "\\begin{pmatrix}\n",
    "w(0)[m] \\\\\n",
    "\\frac{d}{dx}w(0)[rad]  \\\\\n",
    "\\frac{d^2}{dx^2}w(0)[m^{-1}] \\\\\n",
    "\\frac{d^3}{dx^3}w(0)[m^{-2}] \\\\\n",
    "\\end{pmatrix}\n",
    "= \n",
    "\\begin{pmatrix}\n",
    "w(0)[m] \\\\\n",
    "\\theta(0)[rad] \\\\\n",
    "(EI)^{-1}[N^{-1}m^{-2}]M(0)[Nm] \\\\\n",
    "(EI)^{-1}[N^{-1}m^{-2}]V(0)[N] \\\\\n",
    "\\end{pmatrix}\n",
    "= \n",
    "\\begin{pmatrix}\n",
    "0 \\\\\n",
    "0 \\\\\n",
    "(EI)^{-1}M(0) \\\\\n",
    "(EI)^{-1}V(0) \\\\\n",
    "\\end{pmatrix}\n",
    "$$"
   ]
  },
  {
   "cell_type": "markdown",
   "metadata": {},
   "source": [
    "외팔보의 경우, $V(0)$ 는 $q(x)$ 를 $x=0$에서 $x=L$ 까지 적분한 힘과 평형을 이룰 것이다.<br>\n",
    "In case of a cantilever, $V(0)$ would be in equilibrium with the integration of $q(x)$ from $x=0$ to $x=L$."
   ]
  },
  {
   "cell_type": "markdown",
   "metadata": {},
   "source": [
    "$$\n",
    "\\begin{align}\n",
    "V(0) &+ \\int_{x=0}^{x=L}q(x)dx = 0 \\\\\n",
    "V(0) &= - \\int_{x=0}^{x=L}q(x)dx\n",
    "\\end{align}\n",
    "$$\n",
    "\n"
   ]
  },
  {
   "cell_type": "markdown",
   "metadata": {},
   "source": [
    "$M(0)$는 $q(x)$의 도심 $\\bar{x}$에 $V(0)$가 작용할 경우 $x=0$에서의 모멘트이다.<br>\n",
    "$M(0)$ is the moment at $x=0$ when $V(0)$ is located at the centroid $\\bar{x}$ of $q(x)$."
   ]
  },
  {
   "cell_type": "markdown",
   "metadata": {},
   "source": [
    "$$\n",
    "M(0) = \\bar{x}V(0)\n",
    "$$\n",
    "\n"
   ]
  },
  {
   "cell_type": "markdown",
   "metadata": {},
   "source": [
    "도심 $\\bar{x}$ 는 다음과 같이 구할 수 있다.<br>We can find the cetroid $\\bar{x}$ as follows."
   ]
  },
  {
   "cell_type": "markdown",
   "metadata": {},
   "source": [
    "$$\n",
    "\\bar{x} = \\frac{1}{L}\\int_{x=0}^{x=L}xq(x)dx\n",
    "$$"
   ]
  },
  {
   "cell_type": "markdown",
   "metadata": {},
   "source": [
    "모멘트 $M(0)$는 $x$ 에서의 전단력 $V(x)$ 가 $x=0$ 점에 작용하는 모멘트와 균형을 이룬다.<br>\n",
    "The moment $M(0)$ is in equilibrium with the moment by shear force $V(x)$ at $x$ on $x=0$ point."
   ]
  },
  {
   "cell_type": "markdown",
   "metadata": {},
   "source": [
    "$$\n",
    "M(0) + \\int_{x=0}^{x=L}xV(x)dx = 0 \\\\\n",
    "M(0) + \\int_{x=0}^{x=L}x\\left(V_0+ \\int_{\\xi=0}^{\\xi=x}q(\\xi)d\\xi  \\right)dx = 0\n",
    "$$"
   ]
  },
  {
   "cell_type": "markdown",
   "metadata": {},
   "source": [
    "우선 초기조건을 찾아보자.<br>Let's first find the initial conditions."
   ]
  },
  {
   "cell_type": "markdown",
   "metadata": {},
   "source": [
    "(Pytel & Kiusalaas, Mechanics of Materials, 2nd Ed., Cengage Learning, 2013, Example 6.1.)"
   ]
  },
  {
   "cell_type": "code",
   "execution_count": null,
   "metadata": {},
   "outputs": [],
   "source": [
    "w_N_mm = 2\n",
    "\n",
    "def q_N_mm(x):\n",
    "    return w_N_mm\n",
    "\n"
   ]
  },
  {
   "cell_type": "code",
   "execution_count": null,
   "metadata": {},
   "outputs": [],
   "source": [
    "def find_init(r, x):\n",
    "    return np.array([-q_N_mm(x), x*(q_N_mm(x))])\n",
    "\n"
   ]
  },
  {
   "cell_type": "code",
   "execution_count": null,
   "metadata": {},
   "outputs": [],
   "source": [
    "L_mm = 4000\n",
    "E_N_mm2 = 200e3\n",
    "I_mm4 = 113e6\n",
    "\n",
    "EI_Nmm2 = E_N_mm2 * I_mm4\n",
    "one_over_EI_1_Nmm2 = 1.0 / EI_Nmm2\n",
    "\n"
   ]
  },
  {
   "cell_type": "code",
   "execution_count": null,
   "metadata": {},
   "outputs": [],
   "source": [
    "x_mm_array = np.linspace(0, L_mm, 1000+1)\n",
    "x, V_M = rk4(find_init, x_mm_array, np.array([0, 0]))\n",
    "\n",
    "V_0_N = V_M[-1][0]\n",
    "M_0_Nm = V_M[-1][1]\n",
    "[V_0_N, M_0_Nm]\n",
    "\n"
   ]
  },
  {
   "cell_type": "markdown",
   "metadata": {},
   "source": [
    "결과를 확인해 보자.<br>Let's check the results."
   ]
  },
  {
   "cell_type": "code",
   "execution_count": null,
   "metadata": {},
   "outputs": [],
   "source": [
    "assert abs((-w_N_mm * L_mm)-V_0_N) < 1e-6\n",
    "assert abs((0.5 * w_N_mm * L_mm**2)-M_0_Nm) < 1e-6\n",
    "\n"
   ]
  },
  {
   "cell_type": "markdown",
   "metadata": {},
   "source": [
    "이제 처짐 곡선을 구해 보자.<br>Let's find out the deflection curve."
   ]
  },
  {
   "cell_type": "code",
   "execution_count": null,
   "metadata": {},
   "outputs": [],
   "source": [
    "mat_A = np.array(\n",
    "    [\n",
    "        [0, 1, 0, 0],\n",
    "        [0, 0, 1, 0],\n",
    "        [0, 0, 0, 1],\n",
    "        [0, 0, 0, 0],\n",
    "    ]\n",
    ")\n",
    "\n",
    "mat_B = np.array([0, 0, 0, one_over_EI_1_Nmm2])\n",
    "\n"
   ]
  },
  {
   "cell_type": "code",
   "execution_count": null,
   "metadata": {},
   "outputs": [],
   "source": [
    "def dr_dx(r, x):\n",
    "    return mat_A @ r + mat_B * q_N_mm(x)\n",
    "\n"
   ]
  },
  {
   "cell_type": "code",
   "execution_count": null,
   "metadata": {},
   "outputs": [],
   "source": [
    "r0 = np.array(\n",
    "    [\n",
    "        0, 0, M_0_Nm*one_over_EI_1_Nmm2, V_0_N*one_over_EI_1_Nmm2\n",
    "    ]\n",
    ")\n",
    "\n"
   ]
  },
  {
   "cell_type": "code",
   "execution_count": null,
   "metadata": {},
   "outputs": [],
   "source": [
    "x, r = rk4(dr_dx, x_mm_array, r0)\n",
    "\n",
    "r[-1]\n",
    "\n"
   ]
  },
  {
   "cell_type": "code",
   "execution_count": null,
   "metadata": {},
   "outputs": [],
   "source": [
    "r_array = np.array(r).T\n",
    "r_array.shape\n",
    "\n"
   ]
  },
  {
   "cell_type": "markdown",
   "metadata": {},
   "source": [
    "처짐 $w(x)$의 이론해는 다음과 같다.<br>Exact solution of the deflection $w(x)$ is as follows."
   ]
  },
  {
   "cell_type": "markdown",
   "metadata": {},
   "source": [
    "$$\n",
    "w(x) = \\frac{w_0 x^2}{24EI}\\left(6L^2 -4Lx + x^2 \\right)\n",
    "$$"
   ]
  },
  {
   "cell_type": "code",
   "execution_count": null,
   "metadata": {},
   "outputs": [],
   "source": [
    "w_table_6_2 = (w_N_mm * (x_mm_array ** 2) / (24 * E_N_mm2 * I_mm4)) * \\\n",
    "    (6 * L_mm ** 2 - 4 * L_mm * x_mm_array + x_mm_array**2)\n",
    "w_table_6_2[-1]\n",
    "\n"
   ]
  },
  {
   "cell_type": "code",
   "execution_count": null,
   "metadata": {},
   "outputs": [],
   "source": [
    "py.plot(x, r_array[0, :], '.')\n",
    "py.plot(x_mm_array, w_table_6_2)\n",
    "py.xlabel('x[mm]')\n",
    "\n",
    "py.grid(True)\n",
    "\n"
   ]
  },
  {
   "cell_type": "markdown",
   "metadata": {},
   "source": [
    "전단력<br>\n",
    "Shear force"
   ]
  },
  {
   "cell_type": "code",
   "execution_count": null,
   "metadata": {},
   "outputs": [],
   "source": [
    "sf_N = V_0_N + w_N_mm * x_mm_array\n",
    "\n"
   ]
  },
  {
   "cell_type": "code",
   "execution_count": null,
   "metadata": {},
   "outputs": [],
   "source": [
    "py.plot(x_mm_array, r_array[3, :] * EI_Nmm2, '.')\n",
    "py.plot(x_mm_array, sf_N)\n",
    "py.xlabel('x[mm]')\n",
    "\n",
    "py.grid(True)\n",
    "\n"
   ]
  },
  {
   "cell_type": "markdown",
   "metadata": {},
   "source": [
    "굽힘모멘트<br>\n",
    "Bending Moment"
   ]
  },
  {
   "cell_type": "code",
   "execution_count": null,
   "metadata": {},
   "outputs": [],
   "source": [
    "bm_N = M_0_Nm + V_0_N * x_mm_array + 0.5 * w_N_mm * x_mm_array ** 2\n",
    "\n"
   ]
  },
  {
   "cell_type": "code",
   "execution_count": null,
   "metadata": {},
   "outputs": [],
   "source": [
    "py.plot(x_mm_array, r_array[2, :] * EI_Nmm2, '.')\n",
    "py.plot(x_mm_array, bm_N)\n",
    "py.xlabel('x[mm]')\n",
    "\n",
    "py.grid(True)\n",
    "\n"
   ]
  },
  {
   "cell_type": "markdown",
   "metadata": {},
   "source": [
    "기울기<br>\n",
    "Slope\n",
    "\n"
   ]
  },
  {
   "cell_type": "code",
   "execution_count": null,
   "metadata": {},
   "outputs": [],
   "source": [
    "theta_table_6_2 = (w_N_mm  / (24 * E_N_mm2 * I_mm4)) * \\\n",
    "    (12 * L_mm ** 2 * x_mm_array - 12 * L_mm * x_mm_array ** 2 + 4 * x_mm_array ** 3)\n",
    "theta_table_6_2[-1]\n",
    "\n"
   ]
  },
  {
   "cell_type": "code",
   "execution_count": null,
   "metadata": {},
   "outputs": [],
   "source": [
    "py.plot(x_mm_array, r_array[1, :], '.')\n",
    "py.plot(x_mm_array, theta_table_6_2)\n",
    "py.xlabel('x[mm]')\n",
    "\n",
    "py.grid(True)\n",
    "\n"
   ]
  },
  {
   "cell_type": "markdown",
   "metadata": {},
   "source": [
    "ref : Leif Rune Hellevik, Numerical Methods for Engineers, 2018, [Online] Available : https://www.ntnu.no/wiki/download/attachments/69242130/main.pdf"
   ]
  },
  {
   "cell_type": "markdown",
   "metadata": {},
   "source": [
    "## 도전 과제<br>Try This"
   ]
  },
  {
   "cell_type": "markdown",
   "metadata": {},
   "source": [
    "외팔보 상의 분포하중 $q(x)$가 다음과 같을 때 질문에 답하시오:<br>When the distributed load is as follows, answer the question:\n",
    "$$\n",
    "q(x) = 2\\left(1 - \\frac{1}{L}x \\right)\n",
    "$$"
   ]
  },
  {
   "cell_type": "markdown",
   "metadata": {},
   "source": [
    "따로 주어지지 않은 값은 위의 예의 값을 사용할 수 있음.<br>You may use values above if not given."
   ]
  },
  {
   "cell_type": "markdown",
   "metadata": {},
   "source": [
    "$x=0$ 에서의 전단력의 초기 조건을 구하시오.<br>Find the initial condition of the shear force at $x=0$."
   ]
  },
  {
   "cell_type": "markdown",
   "metadata": {},
   "source": [
    "$x=0$ 에서의 굽힘모멘트의 초기 조건을 구하시오.<br>Find the initial condition of the bending moment at $x=0$."
   ]
  },
  {
   "cell_type": "markdown",
   "metadata": {},
   "source": [
    "$x$ 에서의 처짐 곡선을 구하시오.<br>Find the deflection curve at $x$."
   ]
  },
  {
   "cell_type": "markdown",
   "metadata": {},
   "source": [
    "이론해와 비교해 보시오.<br>Compare with the exact solution.\n",
    "\n",
    "$$\n",
    "w(x)=\\frac{w_0 x^2}{120 L \\cdot EI}\\left( 10L^3 - 10L^2x + 5Lx^2 - x^3 \\right)\n",
    "$$"
   ]
  },
  {
   "cell_type": "code",
   "execution_count": null,
   "metadata": {},
   "outputs": [],
   "source": []
  }
 ],
 "metadata": {
  "kernelspec": {
   "display_name": "Python 3",
   "language": "python",
   "name": "python3"
  },
  "language_info": {
   "codemirror_mode": {
    "name": "ipython",
    "version": 3
   },
   "file_extension": ".py",
   "mimetype": "text/x-python",
   "name": "python",
   "nbconvert_exporter": "python",
   "pygments_lexer": "ipython3",
   "version": "3.6.5"
  }
 },
 "nbformat": 4,
 "nbformat_minor": 2
}
