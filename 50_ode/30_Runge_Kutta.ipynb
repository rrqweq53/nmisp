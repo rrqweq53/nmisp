{
 "cells": [
  {
   "cell_type": "code",
   "execution_count": null,
   "metadata": {},
   "outputs": [],
   "source": [
    "# 그래프, 수학 기능 추가\n",
    "# Add graph and math features\n",
    "import pylab as py\n",
    "import numpy as np\n",
    "import numpy.linalg as nl\n",
    "# 기호 연산 기능 추가\n",
    "# Add symbolic operation capability\n",
    "import sympy as sy"
   ]
  },
  {
   "cell_type": "code",
   "execution_count": null,
   "metadata": {},
   "outputs": [],
   "source": [
    "sy.init_printing()"
   ]
  },
  {
   "cell_type": "markdown",
   "metadata": {},
   "source": [
    "# 룽게-쿠타법 (RK4)<br>Runge-Kutta Method (RK4)"
   ]
  },
  {
   "cell_type": "markdown",
   "metadata": {},
   "source": [
    "전진 오일러법과 수정 오일러법은 $t=t_0$, $t=t_1$, ... 에서의 기울기만 사용하였다.<br>Forward Euler Method and Modified Euler Method used slopes at $t=t_0$, $t=t_1$, ... only."
   ]
  },
  {
   "cell_type": "markdown",
   "metadata": {},
   "source": [
    "룽게-쿠타 법은 1900년대에 독일 수학자 칼 룽게와 마틴 쿠타가 공동 개발했던 상미분 방정식의 근사 해법의 모음이다.<br>Runge-Kutta methods are a group of numerical methods to solve ordinary differential equations that two German mathematicians Carl Runge and Martin Kutta developed in 1900s."
   ]
  },
  {
   "cell_type": "markdown",
   "metadata": {},
   "source": [
    "실은 전진 오일러법이나 수정 오일러법도 룽게-쿠타법에 포함된다.<br>In fact, Forward Euler method or Modified Euler method are included in the Runge-Kutta method."
   ]
  },
  {
   "cell_type": "markdown",
   "metadata": {},
   "source": [
    "룽게-쿠타법 가운데 **RK4**가 가장 널리 사용된다.<br>Among the Runge-Kutta methods, **RK4** is used the most frequently."
   ]
  },
  {
   "cell_type": "markdown",
   "metadata": {},
   "source": [
    "**RK4** 는 $t=t_1$ 에서의 해를 구하기 위해 $t=t_0$, $t=\\frac{1}{2}\\left(t_0+t_1\\right)$, $t=t_1$ 에서의 기울기를 사용한다.<br>\n",
    "To find a solution at $t=t_1$, **RK4** uses slopes at $t=t_0$, $t=\\frac{1}{2}\\left(t_0+t_1\\right)$, and $t=t_1$."
   ]
  },
  {
   "cell_type": "markdown",
   "metadata": {},
   "source": [
    "$$\n",
    "\\begin{cases}\n",
    "    \\frac{d}{dt}\\mathbf{x}=f(\\mathbf{x}, t) \\\\\n",
    "    \\mathbf{x}(t_0)=\\mathbf{x}_0\n",
    "\\end{cases}\n",
    "$$"
   ]
  },
  {
   "cell_type": "markdown",
   "metadata": {},
   "source": [
    "위 미분방정식의 경우, 절차는 다음과 같다.<br>\n",
    "For the differential equation above, the procedure is as follows."
   ]
  },
  {
   "cell_type": "markdown",
   "metadata": {},
   "source": [
    "1. $t=t_0$ 에서의 기울기 $s_1=f(\\mathbf{x}_0, t_0)$을 구한다.<br>\n",
    "At $t=t_0$, find the slope $s_1=f(\\mathbf{x}_0, t_0)$.\n",
    "1. $t=t_\\frac{1}{2}$ 에서의 기울기 $s_2=f(\\mathbf{x}_0 + s_1 t_{\\frac{1}{2}}, t_{\\frac{1}{2}})$을 구한다.<br>\n",
    "At $t=t_\\frac{1}{2}$, find the slope $s_2=f(\\mathbf{x}_0 + s_1 t_{\\frac{1}{2}}, t_{\\frac{1}{2}})$.\n",
    "1. 다시 한번, $t=t_\\frac{1}{2}$ 에서의 기울기 $s_3=f(\\mathbf{x}_0 + s_2 t_{\\frac{1}{2}}, t_{\\frac{1}{2}})$을 구한다.<br>\n",
    "Once again, at $t=t_\\frac{1}{2}$, find the slope $s_3=f(\\mathbf{x}_0 + s_2 t_{\\frac{1}{2}}, t_{\\frac{1}{2}})$.\n",
    "1. $t=t_1$ 에서의 기울기 $s_4=f(\\mathbf{x}_0 + s_3 t_1, t_1)$을 구한다.<br>\n",
    "At $t=t_1$, find the slope $s_4=f(\\mathbf{x}_0 + s_3 t_1, t_1)$.\n",
    "1. $t_0 \\le t \\le t_1$ 구간을 대표하는 기울기 $s=\\frac{\\Delta t}{6} \\left( s_1 + 2s_2 + 2s_3 + s_4 \\right)$을 구한다.<br>\n",
    " Find the slope representing interval $t_0 \\le t \\le t_1$, $s=\\frac{\\Delta t}{6} \\left( s_1 + 2s_2 + 2s_3 + s_4 \\right)$.\n",
    "1. $t=t_1$ 에서 $\\mathbf{x}(t_1) = \\mathbf{x}_0 + s \\left(t_1 - t_0 \\right)$ 을 구한다.<br>\n",
    "At $t=t_1$ 에서, find $\\mathbf{x}(t_1) = \\mathbf{x}_0 + s \\left(t_1 - t_0 \\right)$."
   ]
  },
  {
   "cell_type": "markdown",
   "metadata": {},
   "source": [
    "python 으로 써 보자.<br>Let's write in python."
   ]
  },
  {
   "cell_type": "code",
   "execution_count": null,
   "metadata": {},
   "outputs": [],
   "source": [
    "def rk4_step(f, x0, t0, t1):\n",
    "    \"\"\"\n",
    "    One time step of Runge-Kutta method\n",
    "\n",
    "    f: dx_dt function\n",
    "    x0 : initial condition\n",
    "    t0 : this step time\n",
    "    t1 : next step time\n",
    "    \"\"\"\n",
    "    delta_t = (t1 - t0)\n",
    "    delta_t_half = delta_t * 0.5\n",
    "    t_half = t0 + delta_t_half\n",
    "    \n",
    "    # Step 1\n",
    "    s1 = f(x0, t0)\n",
    "\n",
    "    # Step 2\n",
    "    s2 = f(x0 + s1 * delta_t_half, t_half)\n",
    "\n",
    "    # Step 3\n",
    "    s3 = f(x0 + s2 * delta_t_half, t_half)\n",
    "\n",
    "    # Step 4\n",
    "    s4 = f(x0 + s3 * delta_t, t1)\n",
    "\n",
    "    # Step 5\n",
    "    s = (1.0 / 6.0) * (s1 + (s2 + s3) * 2 + s4)\n",
    "\n",
    "    # Step 6\n",
    "    x1 = x0 + s * delta_t\n",
    "\n",
    "    return x1\n"
   ]
  },
  {
   "cell_type": "code",
   "execution_count": null,
   "metadata": {},
   "outputs": [],
   "source": [
    "def rk4(f, t_array, x_0):\n",
    "    time_list = [t_array[0]]\n",
    "    result_list = [x_0]\n",
    "\n",
    "    x_i = x_0\n",
    "\n",
    "    for k, t_i in enumerate(t_array[:-1]):\n",
    "        # time step\n",
    "        x_i_plus_1 = rk4_step(f, x_i, t_i, t_array[k+1])\n",
    "\n",
    "        time_list.append(t_array[k+1])\n",
    "        result_list.append(x_i_plus_1)\n",
    "        \n",
    "        x_i = x_i_plus_1\n",
    "\n",
    "    return time_list, result_list\n"
   ]
  },
  {
   "cell_type": "markdown",
   "metadata": {},
   "source": [
    "다시 1계 선형 상미분 방정식의 예를 살펴 보자.<br>Let's reconsider the 1st order linear ODE."
   ]
  },
  {
   "cell_type": "markdown",
   "metadata": {},
   "source": [
    "$$\n",
    "\\left\\{\n",
    "    \\begin{align}\n",
    "        a_0 \\frac{d}{dt}x(t)+a_1 x(t)&=0 \\\\\n",
    "        x(0)&=x_0 \\\\\n",
    "    \\end{align}\n",
    "\\right.\n",
    "$$"
   ]
  },
  {
   "cell_type": "markdown",
   "metadata": {},
   "source": [
    "룽게-쿠타법을 엄밀해, 오일러법, 훈법과 비교해보자.<br>Let's compare the Runge-Kutta method with the exact solution, Euler method, and Heun's method."
   ]
  },
  {
   "cell_type": "code",
   "execution_count": null,
   "metadata": {},
   "outputs": [],
   "source": [
    "a_0, a_1 = 2.0, 1.0\n",
    "\n",
    "def dx_dt(x, t):\n",
    "    return - a_1 * x / a_0"
   ]
  },
  {
   "cell_type": "code",
   "execution_count": null,
   "metadata": {},
   "outputs": [],
   "source": [
    "def exact(t):\n",
    "    return x_0 * py.exp((-a_1 / a_0) * t)\n"
   ]
  },
  {
   "cell_type": "code",
   "execution_count": null,
   "metadata": {},
   "outputs": [],
   "source": [
    "def euler(f, t_array, x_0):\n",
    "    time_list = [t_array[0]]\n",
    "    result_list = [x_0]\n",
    "\n",
    "    x_i = x_0\n",
    "\n",
    "    for k, t_i in enumerate(t_array[:-1]):\n",
    "        # time step\n",
    "        delta_t = t_array[k+1] - t_array[k]\n",
    "\n",
    "        # slope\n",
    "        s_i = f(x_i, t_i)\n",
    "\n",
    "        # x[i + 1]\n",
    "        x_i_plus_1 = x_i + s_i * delta_t\n",
    "\n",
    "        time_list.append(t_array[k+1])\n",
    "        result_list.append(x_i_plus_1)\n",
    "        \n",
    "        x_i = x_i_plus_1\n",
    "\n",
    "    return time_list, result_list\n"
   ]
  },
  {
   "cell_type": "code",
   "execution_count": null,
   "metadata": {},
   "outputs": [],
   "source": [
    "def heun(f, t_array, x_0):\n",
    "    time_list = [t_array[0]]\n",
    "    result_list = [x_0]\n",
    "\n",
    "    x_i = x_0\n",
    "\n",
    "    for k, t_i in enumerate(t_array[:-1]):\n",
    "        # time step\n",
    "        delta_t = t_array[k+1] - t_array[k]\n",
    "\n",
    "        # slope at i\n",
    "        s_i = f(x_i, t_i)\n",
    "\n",
    "        # x[i + 1] by Forward Euler\n",
    "        x_i_plus_1 = x_i + s_i * delta_t\n",
    "        \n",
    "        # slope at i + 1\n",
    "        s_i_plus_1 = f(x_i_plus_1, t_array[k+1])\n",
    "        \n",
    "        # average of slope\n",
    "        s_average = (s_i + s_i_plus_1) * 0.5\n",
    "        \n",
    "        # x[i + 1] by Modified Euler\n",
    "        x_i_plus_1_m = x_i + s_average * delta_t\n",
    "\n",
    "        time_list.append(t_array[k+1])\n",
    "        result_list.append(x_i_plus_1_m)\n",
    "        \n",
    "        x_i = x_i_plus_1_m\n",
    "\n",
    "    return time_list, result_list\n"
   ]
  },
  {
   "cell_type": "code",
   "execution_count": null,
   "metadata": {},
   "outputs": [],
   "source": [
    "# Time step interval\n",
    "delta_t = 1.0\n",
    "\n",
    "# Time array\n",
    "t_sec_array = np.arange(0, 6 + delta_t*0.5, delta_t)\n",
    "\n",
    "# Initial state\n",
    "x_0 = 4.5\n",
    "\n",
    "# *** Forward Euler ***\n",
    "t_euler, x_euler = euler(dx_dt, t_sec_array, x_0)\n",
    "py.plot(t_euler, x_euler, '.-', label='Euler')\n",
    "\n",
    "# *** Heun ***\n",
    "t_heun, x_heun = heun(dx_dt, t_sec_array, x_0)\n",
    "py.plot(t_heun, x_heun, '.-', label='Heun')\n",
    "\n",
    "# *** RK4 ***\n",
    "t_rk4, x_rk4 = rk4(dx_dt, t_sec_array, x_0)\n",
    "py.plot(t_rk4, x_rk4, '.-', label='RK4')\n",
    "\n",
    "# *** Exact Solution\n",
    "t_exact_array = np.linspace(0, 6)\n",
    "x_exact_array = exact(t_exact_array)\n",
    "py.plot(t_exact_array, x_exact_array, label='exact')\n",
    "\n",
    "py.xlabel('t(sec)')\n",
    "py.ylabel('x(m)')\n",
    "\n",
    "py.legend(loc=0)\n",
    "py.grid(True)\n"
   ]
  },
  {
   "cell_type": "markdown",
   "metadata": {},
   "source": [
    "룽게-쿠타법의 해가 엄밀해에 더 가까움을 알 수 있다.<br>\n",
    "We can see that Runge-Kutta method is closer to the exact solution."
   ]
  },
  {
   "cell_type": "markdown",
   "metadata": {},
   "source": [
    "## 도전 과제<br>Try This"
   ]
  },
  {
   "cell_type": "markdown",
   "metadata": {},
   "source": [
    "다음 미분방정식의 엄밀해를 구하시오:<br>\n",
    "Find exact solution of the following differential equation:\n",
    "\n",
    "$$\n",
    "\\begin{align}\n",
    "10 \\frac{d}{dt}x(t) + 50 x(t) &= 0 \\\\\n",
    "x(0) &= 2\n",
    "\\end{align}\n",
    "$$\n"
   ]
  },
  {
   "cell_type": "markdown",
   "metadata": {},
   "source": [
    "위 미분방정식의 수치해를 전진 오일러법으로 구하시오.<br>\n",
    "Find numerical solution of the above differential equation using Forward Euler Method.\n",
    "\n"
   ]
  },
  {
   "cell_type": "markdown",
   "metadata": {},
   "source": [
    "위 미분방정식의 수치해를 훈의 방법으로 구하고 엄밀해, 전진 오일러법과 비교하시오.<br>\n",
    "Find numerical solution of the above differential equation using Heun's method and compare with exact solution and Forward Euler Method.\n",
    "\n"
   ]
  },
  {
   "cell_type": "markdown",
   "metadata": {},
   "source": [
    "위 미분방정식의 수치해를 RK4법으로 구하고 엄밀해, 전진 오일러법, 훈의 방법과 비교하시오.<br>\n",
    "Find numerical solution of the above differential equation using RK$ and compare with exact solution, Forward Euler Method, and Heun's Method.\n",
    "\n"
   ]
  },
  {
   "cell_type": "code",
   "execution_count": null,
   "metadata": {},
   "outputs": [],
   "source": []
  }
 ],
 "metadata": {
  "kernelspec": {
   "display_name": "Python 3",
   "language": "python",
   "name": "python3"
  },
  "language_info": {
   "codemirror_mode": {
    "name": "ipython",
    "version": 3
   },
   "file_extension": ".py",
   "mimetype": "text/x-python",
   "name": "python",
   "nbconvert_exporter": "python",
   "pygments_lexer": "ipython3",
   "version": "3.6.5"
  }
 },
 "nbformat": 4,
 "nbformat_minor": 2
}
