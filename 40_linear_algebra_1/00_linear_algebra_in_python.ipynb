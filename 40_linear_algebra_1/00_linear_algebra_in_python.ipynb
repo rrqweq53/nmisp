{
 "cells": [
  {
   "cell_type": "code",
   "execution_count": null,
   "metadata": {},
   "outputs": [],
   "source": [
    "# 그래프, 수학 기능 추가\n",
    "# Add graph and math features\n",
    "import pylab as py\n",
    "import numpy as np\n",
    "import numpy.linalg as nl\n",
    "# 기호 연산 기능 추가\n",
    "# Add symbolic operation capability\n",
    "import sympy as sy"
   ]
  },
  {
   "cell_type": "markdown",
   "metadata": {},
   "source": [
    "# 파이썬에서의 선형대수 : 표준 기능과 사이파이 계열의 넘파이<br>Linear Algebra in Python: Standard Library and NumPy of SciPy Stack"
   ]
  },
  {
   "cell_type": "markdown",
   "metadata": {},
   "source": [
    "(Karlijn Willems, SciPy Cheat Sheet: Linear Algebra in Python, DataCamp, 2017/02/07, https://www.datacamp.com/community/blog/python-scipy-cheat-sheet)"
   ]
  },
  {
   "cell_type": "markdown",
   "metadata": {},
   "source": [
    "(Wikipedia contributors. Linear algebra. Wikipedia, The Free Encyclopedia. August 2, 2018, 17:17 UTC. Available at: https://en.wikipedia.org/w/index.php?title=Linear_algebra&oldid=853134963. Accessed August 11, 2018. )"
   ]
  },
  {
   "cell_type": "markdown",
   "metadata": {},
   "source": [
    "**선형 대수**란 간단히 말하면 벡터와 행렬에 관한 수학의 한 분야이다.<br>\n",
    "In short, **Linear Algebra** is an area of mathematics about vectors and matrices."
   ]
  },
  {
   "cell_type": "markdown",
   "metadata": {},
   "source": [
    "파이썬 프로그래밍 언어의 기본 기능만으로도 선형 대수 문제를 해결하는 것이 가능은 하나, 보다 효율을 높이기 위해, 1990년대 이후, 여러 개발자들의 공헌으로 [**사이파이** 계열 확장 모듈](https://www.scipy.org/stackspec.html)을 개발하였다.<br>\n",
    "We can solve linear algebra with default features of python. However, to make it more efficient, since 1990's, a group of community developers contributed in developing [**SciPy** stack](https://www.scipy.org/stackspec.html)."
   ]
  },
  {
   "cell_type": "markdown",
   "metadata": {},
   "source": [
    "## 표준 라이브러리<br>Standard Library"
   ]
  },
  {
   "cell_type": "markdown",
   "metadata": {},
   "source": [
    "아래는 (3차원) 벡터 합을 파이썬 3.6 의 기본 기능만으로 구현한 예이다.<br>\n",
    "Following is an example of adding two (3D) vectors using only default features of python 3.6."
   ]
  },
  {
   "cell_type": "code",
   "execution_count": null,
   "metadata": {},
   "outputs": [],
   "source": [
    "def add_two_vectors(a, b):\n",
    "\n",
    "    result = []\n",
    "\n",
    "    for ai, bi in zip(a, b):\n",
    "        print(f\"zip : ai={ai}, bi={bi}\")\n",
    "        result.append(ai + bi)\n",
    "    \n",
    "    return result"
   ]
  },
  {
   "cell_type": "code",
   "execution_count": null,
   "metadata": {},
   "outputs": [],
   "source": [
    "def add_two_vectors_index(a, b):\n",
    "\n",
    "    result = [0.0] * len(a)\n",
    "\n",
    "    for index in range(len(a)):\n",
    "        print(f\"index : a[{index}]={a[index]}, b[{index}]={b[index]}\")\n",
    "        result[index] = a[index] + b[index]\n",
    "    \n",
    "    return result"
   ]
  },
  {
   "cell_type": "code",
   "execution_count": null,
   "metadata": {},
   "outputs": [],
   "source": [
    "def add_two_vectors_list_comprehension(a, b):\n",
    "    return [(ai + bi) for ai, bi in zip(a, b)]"
   ]
  },
  {
   "cell_type": "code",
   "execution_count": null,
   "metadata": {
    "scrolled": true
   },
   "outputs": [],
   "source": [
    "x = [1, 2, 3]\n",
    "y = [0.1, 0.2, 0.3]\n",
    "\n",
    "print('result =', add_two_vectors(x, y))\n",
    "print('result (index) =', add_two_vectors_index(x, y))\n",
    "print('result (list comprehension) =', add_two_vectors_list_comprehension(x, y))"
   ]
  },
  {
   "cell_type": "markdown",
   "metadata": {},
   "source": [
    "## 사이파이 계열의 넘파이<br>NumPy of SciPy Stack"
   ]
  },
  {
   "cell_type": "markdown",
   "metadata": {},
   "source": [
    "### ` numpy.ndarray`"
   ]
  },
  {
   "cell_type": "markdown",
   "metadata": {},
   "source": [
    "아래는 같은 연산을 사이파이 `scipy` 계열의 넘파이 `numpy`로 구현한 것이다.<br>\n",
    "Following implements the same operation in `numpy` of `scipy` stack."
   ]
  },
  {
   "cell_type": "code",
   "execution_count": null,
   "metadata": {},
   "outputs": [],
   "source": [
    "x = np.array([1, 2, 3])\n",
    "y = np.array((0.1, 0.2, 0.3))\n",
    "\n",
    "print(f'x = {x}')\n",
    "print(f'y = {y}')\n",
    "\n",
    "print('result =', x + y)\n",
    "print('type(x) =', type(x))"
   ]
  },
  {
   "cell_type": "markdown",
   "metadata": {},
   "source": [
    "행렬 연산에도 `numpy.ndarray` 를 사용할 수 있다.<br>We can use `numpy.ndarray` for matrix operations."
   ]
  },
  {
   "cell_type": "code",
   "execution_count": null,
   "metadata": {},
   "outputs": [],
   "source": [
    "A = np.array(\n",
    "    [\n",
    "        [1, 2],\n",
    "        (3, 4),\n",
    "    ]\n",
    ")\n",
    "B = A * 0.1\n",
    "print('B=\\n', B)\n",
    "C = A + B\n",
    "print('C=\\n', C)\n"
   ]
  },
  {
   "cell_type": "markdown",
   "metadata": {},
   "source": [
    "특히, **Python 3.5, Numpy 1.10 이상**에서는 **`@` 연산자**를 행렬 곱셈에 사용할 수 있다.<br>\n",
    "Especially for **Python 3.5 or higher and Numpy 1.10 or higher**, we can use **`@` operator** to multiply two matrices."
   ]
  },
  {
   "cell_type": "markdown",
   "metadata": {},
   "source": [
    "*내적*<br>*Inner product*"
   ]
  },
  {
   "cell_type": "code",
   "execution_count": null,
   "metadata": {},
   "outputs": [],
   "source": [
    "theta_a_deg = 30\n",
    "theta_a_rad = np.deg2rad(theta_a_deg)\n",
    "theta_b_deg = 120\n",
    "theta_b_rad = np.deg2rad(theta_b_deg)\n",
    "\n",
    "a_row_array = np.array([np.cos(theta_a_rad), np.sin(theta_a_rad)])\n",
    "b_row_array = np.array([np.cos(theta_b_rad), np.sin(theta_b_rad)])"
   ]
  },
  {
   "cell_type": "code",
   "execution_count": null,
   "metadata": {},
   "outputs": [],
   "source": [
    "py.plot((0, a_row_array[0]), (0, a_row_array[1]), '-', label='a')\n",
    "py.plot((0, b_row_array[0]), (0, b_row_array[1]), '-', label='b')\n",
    "py.grid(True)\n",
    "py.legend(loc=0)\n",
    "py.axis('equal')\n",
    "py.show()\n"
   ]
  },
  {
   "cell_type": "code",
   "execution_count": null,
   "metadata": {
    "scrolled": true
   },
   "outputs": [],
   "source": [
    "print('a dot b (array) =', np.dot(a_row_array, b_row_array))\n",
    "print('a_row_array @ b_row_array =', a_row_array @ b_row_array)"
   ]
  },
  {
   "cell_type": "markdown",
   "metadata": {},
   "source": [
    "*행렬 곱셈*<br>*Matrix multiplication*"
   ]
  },
  {
   "cell_type": "code",
   "execution_count": null,
   "metadata": {
    "scrolled": true
   },
   "outputs": [],
   "source": [
    "theta_a_deg = 30\n",
    "theta_a_rad = np.deg2rad(theta_a_deg)\n",
    "c = np.cos(theta_a_rad)\n",
    "s = np.sin(theta_a_rad)\n",
    "rotation_array = np.array(\n",
    "    [\n",
    "        [c, -s],\n",
    "        [s, c],\n",
    "    ]\n",
    ")\n",
    "\n",
    "x_unit_array = np.array([1, 0])\n",
    "\n",
    "rotated_x_unit_array = np.dot(rotation_array, x_unit_array)\n",
    "print('rotated x =\\n', rotated_x_unit_array)\n",
    "print('rotation_array, x_unit_array =\\n', rotation_array @ x_unit_array)"
   ]
  },
  {
   "cell_type": "code",
   "execution_count": null,
   "metadata": {},
   "outputs": [],
   "source": [
    "py.plot((0, x_unit_array[0]), (0, x_unit_array[1]), '-', label='x_unit')\n",
    "py.plot((0, rotated_x_unit_array[0]), (0, rotated_x_unit_array[1]), '-', label='rotated_x_unit')\n",
    "py.grid(True)\n",
    "py.legend(loc=0)\n",
    "py.axis('equal')\n",
    "py.show()\n",
    "\n"
   ]
  },
  {
   "cell_type": "markdown",
   "metadata": {},
   "source": [
    "### `numpy.matrix`"
   ]
  },
  {
   "cell_type": "markdown",
   "metadata": {},
   "source": [
    "때에 따라 `numpy.matrix` 를 쓰는 경우가 있다.<br>\n",
    "Depending on the situations, we may use `numpy.matrix`."
   ]
  },
  {
   "cell_type": "markdown",
   "metadata": {},
   "source": [
    "*내적*<br>*Inner product*"
   ]
  },
  {
   "cell_type": "code",
   "execution_count": null,
   "metadata": {},
   "outputs": [],
   "source": [
    "theta_a_deg = 30\n",
    "theta_b_deg = 120\n",
    "a_row_matrix = np.matrix([[np.cos(np.deg2rad(theta_a_deg)), np.sin(np.deg2rad(theta_a_deg))]])\n",
    "b_row_matrix = np.matrix([[np.cos(np.deg2rad(theta_b_deg)), np.sin(np.deg2rad(theta_b_deg))]])\n",
    "print('a dot b (matrix)=', a_row_matrix * b_row_matrix.T)"
   ]
  },
  {
   "cell_type": "markdown",
   "metadata": {},
   "source": [
    "*행렬 곱셈*<br>*Matrix multiplication*"
   ]
  },
  {
   "cell_type": "code",
   "execution_count": null,
   "metadata": {},
   "outputs": [],
   "source": [
    "theta_a_deg = 30\n",
    "theta_a_rad = np.deg2rad(theta_a_deg)\n",
    "c = np.cos(theta_a_rad)\n",
    "s = np.sin(theta_a_rad)\n",
    "rotation_matrix = np.matrix(\n",
    "    [\n",
    "        [c, -s],\n",
    "        [s, c],\n",
    "    ]\n",
    ")\n",
    "\n",
    "x_unit_matrix_column = np.matrix([1, 0]).T\n",
    "\n",
    "rotated_x_unit_matrix = rotation_matrix * x_unit_matrix_column\n",
    "print('rotated x =\\n', rotated_x_unit_matrix)"
   ]
  },
  {
   "cell_type": "markdown",
   "metadata": {},
   "source": [
    "도전과제 : `@` 연산자를 이용하여 다음 $3\\times3$ 행렬과 $3\\times1$ 열벡터의 곱셈을 계산하고 자신의 계산 결과와 비교하시오<br>Using the `@` operator, multiply following $3\\times3$ matrix and $3\\times1$ column vector and compare with your own calculation."
   ]
  },
  {
   "cell_type": "markdown",
   "metadata": {},
   "source": [
    "$$\n",
    "A = \\begin{bmatrix}\n",
    "    6 & -2 & 1 \\\\\n",
    "    -2 & 3 & 2 \\\\\n",
    "    1 & 2 & 3\n",
    "\\end{bmatrix} \\\\\n",
    "x = \\begin{pmatrix}\n",
    "    1 & 2 & 1\n",
    "\\end{pmatrix}^T \\\\\n",
    "y=Ax\n",
    "$$"
   ]
  },
  {
   "cell_type": "code",
   "execution_count": null,
   "metadata": {},
   "outputs": [],
   "source": []
  }
 ],
 "metadata": {
  "kernelspec": {
   "display_name": "Python 3",
   "language": "python",
   "name": "python3"
  },
  "language_info": {
   "codemirror_mode": {
    "name": "ipython",
    "version": 3
   },
   "file_extension": ".py",
   "mimetype": "text/x-python",
   "name": "python",
   "nbconvert_exporter": "python",
   "pygments_lexer": "ipython3",
   "version": "3.6.5"
  }
 },
 "nbformat": 4,
 "nbformat_minor": 2
}
