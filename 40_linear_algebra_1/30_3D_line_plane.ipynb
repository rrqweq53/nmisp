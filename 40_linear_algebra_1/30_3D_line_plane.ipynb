{
 "cells": [
  {
   "cell_type": "code",
   "execution_count": null,
   "metadata": {},
   "outputs": [],
   "source": [
    "# 그래프, 수학 기능 추가\n",
    "# Add graph and math features\n",
    "import pylab as py\n",
    "import numpy as np\n",
    "import numpy.linalg as nl\n",
    "# 기호 연산 기능 추가\n",
    "# Add symbolic operation capability\n",
    "import sympy as sy"
   ]
  },
  {
   "cell_type": "code",
   "execution_count": null,
   "metadata": {},
   "outputs": [],
   "source": [
    "# 3차원 그래픽\n",
    "# 3D Graphics\n",
    "from mpl_toolkits.mplot3d import Axes3D"
   ]
  },
  {
   "cell_type": "markdown",
   "metadata": {},
   "source": [
    "# 3차원 공간의 직선과 평면<br>Lines and Planes of 3D Spaces"
   ]
  },
  {
   "cell_type": "markdown",
   "metadata": {},
   "source": [
    "## 3차원 공간의 직선<br>Lines of 3D Spaces"
   ]
  },
  {
   "cell_type": "markdown",
   "metadata": {},
   "source": [
    "3차원 공간의 직선을 벡터로 표시해 보자.<br>Let's describe a line on a 3D space using vectors."
   ]
  },
  {
   "cell_type": "markdown",
   "metadata": {},
   "source": [
    "$$\n",
    "    \\mathbf{x}=\\mathbf{x_0}+t \\cdot \\mathbf{d}\n",
    "$$"
   ]
  },
  {
   "cell_type": "markdown",
   "metadata": {},
   "source": [
    "여기서 $\\mathbf{x_0}$는 직선 위의 점, $\\mathbf{d}$는 직선의 방향, $t$는 $-\\infty$ 와 $\\infty$ 사이에서 변화하는 매개변수이다. <br>Here, $\\mathbf{x_0}$ is a point on the line, $\\mathbf{d}$ is the direction of the line, and $t$ is a parameter that changes between $-\\infty$ and $\\infty$.  "
   ]
  },
  {
   "cell_type": "markdown",
   "metadata": {},
   "source": [
    "예를 들어 $\\mathbf{x}_0=(-1, 1, 1)^T$ 을 지나고 방향은 $\\mathbf{d}=(1, 1, 1)^T$ 인 직선을 그려보자.<br>\n",
    "For example, let's plot a line passing $\\mathbf{x}_0=(-1, 1, 1)^T$ with direction of $\\mathbf{d}=(1, 1, 1)^T$."
   ]
  },
  {
   "cell_type": "code",
   "execution_count": null,
   "metadata": {},
   "outputs": [],
   "source": [
    "x_0 = np.matrix([[-1, 1, 1]]).T\n",
    "d = np.matrix([[1, 1, 1]]).T\n",
    "t = np.matrix([np.arange(-10, 10)])\n",
    "x = (x_0 + d * t).tolist()\n",
    "\n",
    "fig = py.figure(figsize=(10, 10))\n",
    "ax = fig.add_subplot(111, projection='3d')\n",
    "\n",
    "ax.plot(x[0], x[1], x[2], label='line')\n",
    "ax.plot((0, x_0[0, 0]), (0, x_0[1, 0]), (0, x_0[2, 0]), label='$\\\\mathbf{x_0}$')\n",
    "ax.plot((x_0[0, 0], x_0[0, 0]+d[0, 0]), \n",
    "        (x_0[1, 0], x_0[1, 0]+d[1, 0]), \n",
    "        (x_0[2, 0], x_0[2, 0]+d[2, 0]), \n",
    "        label='$\\\\mathbf{d}$', linewidth=3)\n",
    "\n",
    "py.legend(loc=0)"
   ]
  },
  {
   "cell_type": "markdown",
   "metadata": {},
   "source": [
    "## 3차원 공간의 평면<br>Planes of 3D Spaces"
   ]
  },
  {
   "cell_type": "markdown",
   "metadata": {},
   "source": [
    "(Weisstein, Eric W. \"Plane.\" From MathWorld--A Wolfram Web Resource. http://mathworld.wolfram.com/Plane.html)"
   ]
  },
  {
   "cell_type": "markdown",
   "metadata": {},
   "source": [
    "3차원 공간의 평면은 다음 조건을 만족하는 점 $\\mathbf{x}$의 집합이다.<br>A 3D plane is a set of points $\\mathbf{x}$ satisfying the following condition."
   ]
  },
  {
   "cell_type": "markdown",
   "metadata": {},
   "source": [
    "$$\n",
    "    \\mathbf{n} \\cdot \\left(\\mathbf{x} - \\mathbf{x}_0 \\right) = 0\n",
    "$$"
   ]
  },
  {
   "cell_type": "markdown",
   "metadata": {},
   "source": [
    "여기서 $\\mathbf{x}_0$은 평면 위의 한 점이고 $\\mathbf{n}$은 평면에 수직인 벡터이다.<br>\n",
    "Here, $\\mathbf{x}_0$ is a point on the plane and $\\mathbf{n}$ is a vector normal to the plane. "
   ]
  },
  {
   "cell_type": "markdown",
   "metadata": {},
   "source": [
    "위 내적 값을 시각화 해보자.<br>Let's visualize the inner product values."
   ]
  },
  {
   "cell_type": "code",
   "execution_count": null,
   "metadata": {
    "scrolled": false
   },
   "outputs": [],
   "source": [
    "# Normal Direction\n",
    "n = py.matrix([[2, 1, 0.5]]).T\n",
    "# A point on the plane\n",
    "x_0 = py.matrix([[1, -2, 0.5]]).T\n",
    "\n",
    "# Set x y z ranges\n",
    "x_array = py.linspace(-5, 5, 10+1)\n",
    "y_array = py.linspace(-5, 5, 10+1)\n",
    "z_array = py.linspace(-5, 5, 10+1)\n",
    "\n",
    "# Combinations of x y z coordinates\n",
    "x_mesh, y_mesh, z_mesh = py.meshgrid(x_array, y_array, z_array)\n",
    "\n",
    "x_flat = x_mesh.flatten()\n",
    "y_flat = y_mesh.flatten()\n",
    "z_flat = z_mesh.flatten() \n",
    "\n",
    "# (x - x_0)\n",
    "x_minus_x0_x_flat = x_flat - x_0[0, 0]\n",
    "x_minus_x0_y_flat = y_flat - x_0[1, 0]\n",
    "x_minus_x0_z_flat = z_flat - x_0[2, 0]\n",
    "\n",
    "# Prepare for the dot product\n",
    "x_minus_x0_array = py.array(\n",
    "    [\n",
    "        x_minus_x0_x_flat,\n",
    "        x_minus_x0_y_flat,\n",
    "        x_minus_x0_z_flat,\n",
    "    ]\n",
    ")\n",
    "\n",
    "# n dot (x - x_0)\n",
    "dot_product = py.array(py.dot(n.T, x_minus_x0_array)).flatten()\n",
    "\n",
    "# Prepare for the 3D axis\n",
    "fig = py.figure(figsize=(10, 10))\n",
    "ax = fig.add_subplot(111, projection='3d')\n",
    "\n",
    "# Scatter plot\n",
    "# https://matplotlib.org/gallery/mplot3d/scatter3d.html\n",
    "# http://jakevdp.github.io/mpl_tutorial/tutorial_pages/tut5.html\n",
    "scatter = ax.scatter(x_flat, \n",
    "                     y_flat, \n",
    "                     z_flat, c=dot_product, cmap='jet')\n",
    "\n",
    "# Indicate x_0\n",
    "ax.plot((0, x_0[0, 0]), (0, x_0[1, 0]), (0, x_0[2, 0]), label='$\\\\mathbf{x_0}$')\n",
    "# Indicate n\n",
    "ax.plot((x_0[0, 0], x_0[0, 0]+n[0, 0]), \n",
    "        (x_0[1, 0], x_0[1, 0]+n[1, 0]), \n",
    "        (x_0[2, 0], x_0[2, 0]+n[2, 0]), \n",
    "        label='$\\\\mathbf{n}$', linewidth=3)\n",
    "\n",
    "# Legend\n",
    "py.legend(loc=0)\n",
    "\n",
    "# Which color of point represent which value?\n",
    "py.colorbar(scatter)\n",
    "\n",
    "# Adjust x y z axis scale\n",
    "py.axis('equal')\n",
    "\n",
    "# Title of the plot\n",
    "py.title(r'$\\mathbf{n} \\cdot \\left(\\mathbf{x} - \\mathbf{x}_0 \\right)$')\n"
   ]
  },
  {
   "cell_type": "markdown",
   "metadata": {},
   "source": [
    "내적 값 0인 점의 집합이 해당 평면이다.<br>The set of points with the inner product value 0 is the plane."
   ]
  },
  {
   "cell_type": "code",
   "execution_count": null,
   "metadata": {},
   "outputs": [],
   "source": []
  }
 ],
 "metadata": {
  "kernelspec": {
   "display_name": "Python 3",
   "language": "python",
   "name": "python3"
  },
  "language_info": {
   "codemirror_mode": {
    "name": "ipython",
    "version": 3
   },
   "file_extension": ".py",
   "mimetype": "text/x-python",
   "name": "python",
   "nbconvert_exporter": "python",
   "pygments_lexer": "ipython3",
   "version": "3.6.5"
  }
 },
 "nbformat": 4,
 "nbformat_minor": 2
}
