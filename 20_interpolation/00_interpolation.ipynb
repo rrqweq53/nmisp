{
 "cells": [
  {
   "cell_type": "markdown",
   "metadata": {},
   "source": [
    "# 내삽법<br>Interpolation"
   ]
  },
  {
   "cell_type": "markdown",
   "metadata": {},
   "source": [
    "예를 들어 실험을 통해 얻은 두 측정값 사이의 값을 추정하고 싶을 경우, 내삽법을 시도해 볼 수 있다.<br>For instance, to guess values between two measurements, we may try interpolation."
   ]
  },
  {
   "cell_type": "markdown",
   "metadata": {},
   "source": [
    "아래의 표를 살펴보자.<br>Let's take a look at the following table."
   ]
  },
  {
   "cell_type": "code",
   "execution_count": null,
   "metadata": {},
   "outputs": [],
   "source": [
    "# Import NumPy and matplotlib\n",
    "import pylab as py\n",
    "\n"
   ]
  },
  {
   "cell_type": "code",
   "execution_count": null,
   "metadata": {},
   "outputs": [],
   "source": [
    "# Import pandas for tables\n",
    "import pandas as pd\n",
    "\n",
    "# What is this?\n",
    "py.seed()\n",
    "\n",
    "# Parameters\n",
    "a = 0.5\n",
    "b = 1.5\n",
    "\n",
    "# x array\n",
    "x_array = py.arange(5+0.5)\n",
    "\n",
    "# True values of y\n",
    "y_true = a * x_array + b\n",
    "\n",
    "# contamination\n",
    "noise = py.random(x_array.shape) - 0.5\n",
    "\n",
    "# Measurement values\n",
    "y_measurement = y_true + noise\n",
    "\n",
    "# Organize data in table form\n",
    "# https://stackoverflow.com/questions35160256\n",
    "df = pd.DataFrame(\n",
    "    {'$x$':x_array, '$y_{true}$':y_true, '$y_{measurement}$':y_measurement}, \n",
    "    columns=['$x$', '$y_{true}$', '$y_{measurement}$'],\n",
    ")\n",
    "\n",
    "# Plot data points\n",
    "ax = df.plot.line(x='$x$', y='$y_{true}$')\n",
    "df.plot.scatter(x='$x$', y='$y_{measurement}$', ax=ax, label='$y_{measurement}$')\n",
    "\n",
    "py.show()\n",
    "\n"
   ]
  },
  {
   "cell_type": "code",
   "execution_count": null,
   "metadata": {},
   "outputs": [],
   "source": [
    "# Present the table\n",
    "df\n",
    "\n"
   ]
  },
  {
   "cell_type": "markdown",
   "metadata": {},
   "source": [
    "여기서 $0 \\le x \\le 1$ 구간의 $y$ 값을 알아보자.<br>\n",
    "Let's try to figure out $y$ values in the $0 \\le x \\le 1$ interval."
   ]
  },
  {
   "cell_type": "markdown",
   "metadata": {},
   "source": [
    "## 선형 내삽<br>Linear interpolation"
   ]
  },
  {
   "cell_type": "markdown",
   "metadata": {},
   "source": [
    "두 점 $(x_1, y_1)$, $(x_2, y_2)$ 을 지나는 직선의 방정식을 구할 수 있다.<br>We can formulate the straight line passing two points of $(x_1, y_1)$ and $(x_2, y_2)$."
   ]
  },
  {
   "cell_type": "code",
   "execution_count": null,
   "metadata": {},
   "outputs": [],
   "source": [
    "# Import symbolic processor module\n",
    "import sympy as sy\n",
    "\n",
    "# Initialize printing equations\n",
    "sy.init_printing()\n",
    "\n"
   ]
  },
  {
   "cell_type": "code",
   "execution_count": null,
   "metadata": {},
   "outputs": [],
   "source": [
    "# Declare symbols\n",
    "x = sy.symbols('x')\n",
    "\n",
    "# Multiple symbols using `:`\n",
    "x1, x2 = sy.symbols('x1:3')\n",
    "y1, y2 = sy.symbols('y1:3')\n",
    "\n",
    "# Define slope\n",
    "slope = (y2 - y1) / (x2 - x1)\n",
    "\n",
    "# Define the straight line\n",
    "y_interp = slope * (x - x1) + y1\n",
    "\n",
    "# Present the equation\n",
    "y_interp\n",
    "\n"
   ]
  },
  {
   "cell_type": "markdown",
   "metadata": {},
   "source": [
    "($0 \\le x \\le 1$ 구간에서) 임의의 $x_i$ 에 대응되는 $y_i$ 는 다음과 같이 구할 수 있다.<br>We can find $y_i$ for an arbitrary $x_i$ (within $0 \\le x \\le 1$ interval) as follows."
   ]
  },
  {
   "cell_type": "code",
   "execution_count": null,
   "metadata": {
    "scrolled": false
   },
   "outputs": [],
   "source": [
    "# Declared x_i as a SymPy symbol\n",
    "x_i = sy.symbols('x_i')\n",
    "\n",
    "# Prepared a dictionary containing substitution pairs\n",
    "substitution_dict = {\n",
    "    # \"substitute x with x_i\"\n",
    "    x: x_i,\n",
    "    x1: x_array[0],\n",
    "    x2: x_array[1],\n",
    "    y1: y_measurement[0],\n",
    "    y2: y_measurement[1],\n",
    "}\n",
    "\n",
    "# Substitution\n",
    "y_i_sy = y_interp.subs(substitution_dict)\n",
    "\n",
    "# Result of substitution\n",
    "y_i_sy\n",
    "\n"
   ]
  },
  {
   "cell_type": "markdown",
   "metadata": {},
   "source": [
    "프로그래밍 언어 구문을 생성하는 것도 가능하다.<br>SymPy may generate expressions in programming languages."
   ]
  },
  {
   "cell_type": "code",
   "execution_count": null,
   "metadata": {
    "scrolled": true
   },
   "outputs": [],
   "source": [
    "python_code = sy.python(y_interp)\n",
    "print(python_code)\n",
    "\n"
   ]
  },
  {
   "cell_type": "code",
   "execution_count": null,
   "metadata": {},
   "outputs": [],
   "source": [
    "c_code = sy.ccode(y_interp)\n",
    "print(c_code)\n",
    "\n"
   ]
  },
  {
   "cell_type": "code",
   "execution_count": null,
   "metadata": {},
   "outputs": [],
   "source": [
    "fortran_code = sy.fcode(y_interp)\n",
    "print(fortran_code)\n",
    "\n"
   ]
  },
  {
   "cell_type": "markdown",
   "metadata": {},
   "source": [
    "보통 `interp()` 함수를 이용한다.<br>Usually we call `interp()` function."
   ]
  },
  {
   "cell_type": "code",
   "execution_count": null,
   "metadata": {},
   "outputs": [],
   "source": [
    "# x values to interpolate\n",
    "x_i = py.linspace(x_array[0], x_array[-1], 50+1)\n",
    "\n",
    "# Interpolate\n",
    "y_i = py.interp(x_i, x_array, y_measurement)\n",
    "\n"
   ]
  },
  {
   "cell_type": "code",
   "execution_count": null,
   "metadata": {},
   "outputs": [],
   "source": [
    "# Plot data points\n",
    "ax = df.plot.line(x='$x$', y='$y_{true}$')\n",
    "df.plot.scatter(x='$x$', y='$y_{measurement}$', ax=ax, label='$y_{measurement}$')\n",
    "\n",
    "# Plot interpolation\n",
    "ax.plot(x_i, y_i, '.', label='$y_{interp}$')\n",
    "\n",
    "# Show legend table\n",
    "py.legend(loc=0)\n",
    "\n",
    "py.show()\n",
    "\n"
   ]
  },
  {
   "cell_type": "markdown",
   "metadata": {},
   "source": [
    "### `pandas`"
   ]
  },
  {
   "cell_type": "markdown",
   "metadata": {},
   "source": [
    "판다스의 데이터프레임도 간단한 내삽 기능이 있다.<br>`DataFrame` of `pandas` also has simple interpolation features."
   ]
  },
  {
   "cell_type": "code",
   "execution_count": null,
   "metadata": {},
   "outputs": [],
   "source": [
    "df_interp_nan = df.reindex(x_i)\n",
    "\n"
   ]
  },
  {
   "cell_type": "code",
   "execution_count": null,
   "metadata": {},
   "outputs": [],
   "source": [
    "# http://pandas.pydata.org/pandas-docs/stable/generated/pandas.DataFrame.interpolate.html\n",
    "df_interp = df_interp_nan.interpolate(method='linear')\n",
    "\n"
   ]
  },
  {
   "cell_type": "code",
   "execution_count": null,
   "metadata": {},
   "outputs": [],
   "source": [
    "# Plot data points\n",
    "ax = df.plot.line(x='$x$', y='$y_{true}$')\n",
    "# Plot interpolation\n",
    "df_interp.plot.scatter(x='$x$', y='$y_{measurement}$', ax=ax, label='$y_{interp}$', c='orange')\n",
    "df.plot.scatter(x='$x$', y='$y_{measurement}$', ax=ax, label='$y_{measurement}$')\n",
    "\n",
    "# Show legend table\n",
    "py.legend(loc=0)\n",
    "\n",
    "py.show()\n",
    "\n"
   ]
  },
  {
   "cell_type": "markdown",
   "metadata": {},
   "source": [
    "다음은 $y_{measurement}$ 의 히스토그램을 그린 것이다.<br>Following shows a histogram of $y_{measurement}$."
   ]
  },
  {
   "cell_type": "code",
   "execution_count": null,
   "metadata": {},
   "outputs": [],
   "source": [
    "df_interp['$y_{measurement}$'].hist()\n",
    "\n"
   ]
  },
  {
   "cell_type": "markdown",
   "metadata": {},
   "source": [
    "## 3차 스플라인 곡선<br>Cubic spline curve"
   ]
  },
  {
   "cell_type": "markdown",
   "metadata": {},
   "source": [
    "[스플라인](https://en.wiktionary.org/wiki/spline)은 얇고 긴 나무자를 말한다. 부드러운 곡선을 그리기 위해 사용했었다.<br>A [spline](https://en.wiktionary.org/wiki/spline) is a ruler made of a piece of thin and long rectangular wood.  Drafters used it draw a smooth curve."
   ]
  },
  {
   "cell_type": "markdown",
   "metadata": {},
   "source": [
    "여기서 \"3차\"는 내삽할 때 3차 다항식 ($a_0 x^3 + a_1 x^2 + a_2 x + a_3$) 을 사용한다는 의미이다.<br>\"Cubic\" here means that we would interpolate using a 3rd order polynomial ($a_0 x^3 + a_1 x^2 + a_2 x + a_3$)."
   ]
  },
  {
   "cell_type": "markdown",
   "metadata": {},
   "source": [
    "### SciPy"
   ]
  },
  {
   "cell_type": "code",
   "execution_count": null,
   "metadata": {},
   "outputs": [],
   "source": [
    "# https://www.scipy-lectures.org/intro/scipy.html#interpolation-scipy-interpolate\n",
    "\n",
    "# Import interpolation subpackage\n",
    "import scipy.interpolate as sn\n",
    "\n",
    "cubic_interp = sn.interp1d(x_array, y_measurement, kind='cubic')\n",
    "y_cubic = cubic_interp(x_i)\n",
    "\n"
   ]
  },
  {
   "cell_type": "code",
   "execution_count": null,
   "metadata": {},
   "outputs": [],
   "source": [
    "# Plot data points\n",
    "ax = df.plot.line(x='$x$', y='$y_{true}$')\n",
    "df.plot.scatter(x='$x$', y='$y_{measurement}$', ax=ax, label='$y_{measurement}$')\n",
    "\n",
    "# Plot linear interpolation\n",
    "ax.plot(x_i, y_i, '.', label='$y_{linear}$')\n",
    "\n",
    "# Plot cubic spline curve\n",
    "ax.plot(x_i, y_cubic, 'x', label='$y_{cubic}$')\n",
    "\n",
    "# Show legend table\n",
    "py.legend(loc=0)\n",
    "\n",
    "py.show()\n",
    "\n"
   ]
  },
  {
   "cell_type": "markdown",
   "metadata": {},
   "source": [
    "### pandas"
   ]
  },
  {
   "cell_type": "code",
   "execution_count": null,
   "metadata": {},
   "outputs": [],
   "source": [
    "# http://pandas.pydata.org/pandas-docs/stable/generated/pandas.DataFrame.interpolate.html\n",
    "df_interp = df_interp_nan.interpolate(method='cubic')\n",
    "\n"
   ]
  },
  {
   "cell_type": "code",
   "execution_count": null,
   "metadata": {},
   "outputs": [],
   "source": [
    "# Plot data points\n",
    "ax = df.plot.line(x='$x$', y='$y_{true}$')\n",
    "# Plot interpolation\n",
    "df_interp.plot.scatter(x='$x$', y='$y_{measurement}$', ax=ax, label='$y_{interp}$', c='orange')\n",
    "df.plot.scatter(x='$x$', y='$y_{measurement}$', ax=ax, label='$y_{measurement}$')\n",
    "\n",
    "# Show legend table\n",
    "py.legend(loc=0)\n",
    "\n",
    "py.show()\n",
    "\n"
   ]
  },
  {
   "cell_type": "markdown",
   "metadata": {},
   "source": [
    "도전 과제 1 : $\\theta_0=45(^\\circ)$, $\\theta_1=90(^\\circ)$, $\\theta_2=135(^\\circ)$ 일 때 $\\theta_0=45(^\\circ)$ ~ $\\theta_2=135(^\\circ)$ 구간에서 $sin \\theta^\\circ $ 그래프를 그려 보시오.<br>Try this 1 : Plot the $sin \\theta^\\circ$ within $\\theta_0=45(^\\circ)$ ~ $\\theta_2=135(^\\circ)$ interval. Here, $\\theta_0=45(^\\circ)$, $\\theta_1=90(^\\circ)$, and $\\theta_2=135(^\\circ)$.\n",
    "\n"
   ]
  },
  {
   "cell_type": "markdown",
   "metadata": {},
   "source": [
    "도전 과제 2 : $y = a_0 \\theta^2 + a_1 \\theta + a_2$가 위 세 점에서 $sin\\theta^\\circ$ 와 같은 값을 가지게 되는 $a_0$, $a_1$, $a_2$ 값을 구해보시오.<br>Try this 2 : Find $a_0$, $a_1$, and $a_2$ values that make $y = a_0 \\theta^2 + a_1 \\theta + a_2$ have the same values as $sin \\theta^\\circ$ at above three points.\n",
    "\n"
   ]
  },
  {
   "cell_type": "markdown",
   "metadata": {},
   "source": [
    "* hint"
   ]
  },
  {
   "cell_type": "code",
   "execution_count": null,
   "metadata": {},
   "outputs": [],
   "source": [
    "import sympy as sy\n",
    "\n",
    "a, b = sy.symbols('a, b')\n",
    "x = sy.symbols('x1:3')\n",
    "y = sy.symbols('y1:3')\n",
    "\n",
    "a, b, x, y\n",
    "\n"
   ]
  },
  {
   "cell_type": "code",
   "execution_count": null,
   "metadata": {},
   "outputs": [],
   "source": [
    "eq1 = sy.Eq(a*x1 + b, y1)\n",
    "eq2 = sy.Eq(a*x2 + b, y2)\n",
    "\n",
    "sol = sy.solve((eq1, eq2), (a, b))\n",
    "sol\n",
    "\n"
   ]
  },
  {
   "cell_type": "markdown",
   "metadata": {},
   "source": [
    "도전 과제 3 : 위에서 구한 $a_0, a_1, a_2$ 값으로 $\\theta_0$ ~ $\\theta_2$ 구간의 $y$ 와 $sin\\theta^\\circ$ 그래프를 1도 단위로 그려보고 비교하시오.<br>Try this 3 : Using $a_0$, $a_1$, and $a_2$ values above, plot $y$ and $sin\\theta^\\circ$ within $\\theta_0$ ~ $\\theta_2$ interval with $1^\\circ$ pitch and compare.\n",
    "\n"
   ]
  },
  {
   "cell_type": "code",
   "execution_count": null,
   "metadata": {},
   "outputs": [],
   "source": []
  }
 ],
 "metadata": {
  "kernelspec": {
   "display_name": "Python [default]",
   "language": "python",
   "name": "python3"
  },
  "language_info": {
   "codemirror_mode": {
    "name": "ipython",
    "version": 3
   },
   "file_extension": ".py",
   "mimetype": "text/x-python",
   "name": "python",
   "nbconvert_exporter": "python",
   "pygments_lexer": "ipython3",
   "version": "3.6.6"
  }
 },
 "nbformat": 4,
 "nbformat_minor": 2
}
